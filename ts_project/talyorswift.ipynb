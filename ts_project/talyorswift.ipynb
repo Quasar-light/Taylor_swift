{
 "cells": [
  {
   "cell_type": "markdown",
   "metadata": {},
   "source": [
    "## Step 1: Set Up Imports"
   ]
  },
  {
   "cell_type": "code",
   "execution_count": 333,
   "metadata": {},
   "outputs": [],
   "source": [
    "import pandas as pd\n",
    "import plotly.express as px\n",
    "import numpy as np"
   ]
  },
  {
   "cell_type": "markdown",
   "metadata": {},
   "source": [
    "## Step 1b: Import the data (issue with encoder)"
   ]
  },
  {
   "cell_type": "code",
   "execution_count": 334,
   "metadata": {},
   "outputs": [
    {
     "data": {
      "text/html": [
       "<div>\n",
       "<style scoped>\n",
       "    .dataframe tbody tr th:only-of-type {\n",
       "        vertical-align: middle;\n",
       "    }\n",
       "\n",
       "    .dataframe tbody tr th {\n",
       "        vertical-align: top;\n",
       "    }\n",
       "\n",
       "    .dataframe thead th {\n",
       "        text-align: right;\n",
       "    }\n",
       "</style>\n",
       "<table border=\"1\" class=\"dataframe\">\n",
       "  <thead>\n",
       "    <tr style=\"text-align: right;\">\n",
       "      <th></th>\n",
       "      <th>City</th>\n",
       "      <th>Country</th>\n",
       "      <th>Venue</th>\n",
       "      <th>Opening act(s)</th>\n",
       "      <th>Attendance (tickets sold / available)</th>\n",
       "      <th>Revenue</th>\n",
       "      <th>Tour</th>\n",
       "    </tr>\n",
       "  </thead>\n",
       "  <tbody>\n",
       "    <tr>\n",
       "      <th>0</th>\n",
       "      <td>Evansville</td>\n",
       "      <td>United States</td>\n",
       "      <td>Roberts Municipal Stadium</td>\n",
       "      <td>Gloriana\\r\\nKellie Pickler</td>\n",
       "      <td>7,463 / 7,463</td>\n",
       "      <td>$360,617</td>\n",
       "      <td>Fearless_Tour</td>\n",
       "    </tr>\n",
       "    <tr>\n",
       "      <th>1</th>\n",
       "      <td>Jonesboro</td>\n",
       "      <td>United States</td>\n",
       "      <td>Convocation Center</td>\n",
       "      <td>Gloriana\\r\\nKellie Pickler</td>\n",
       "      <td>7,822 / 7,822</td>\n",
       "      <td>$340,328</td>\n",
       "      <td>Fearless_Tour</td>\n",
       "    </tr>\n",
       "    <tr>\n",
       "      <th>2</th>\n",
       "      <td>St. Louis</td>\n",
       "      <td>United States</td>\n",
       "      <td>Scottrade Center</td>\n",
       "      <td>Gloriana\\r\\nKellie Pickler</td>\n",
       "      <td>13,764 / 13,764</td>\n",
       "      <td>$650,420</td>\n",
       "      <td>Fearless_Tour</td>\n",
       "    </tr>\n",
       "    <tr>\n",
       "      <th>3</th>\n",
       "      <td>Alexandria</td>\n",
       "      <td>United States</td>\n",
       "      <td>Bishop Ireton High School</td>\n",
       "      <td>Gloriana\\r\\nKellie Pickler</td>\n",
       "      <td>—</td>\n",
       "      <td>—</td>\n",
       "      <td>Fearless_Tour</td>\n",
       "    </tr>\n",
       "    <tr>\n",
       "      <th>4</th>\n",
       "      <td>North Charleston</td>\n",
       "      <td>United States</td>\n",
       "      <td>North Charleston Coliseum</td>\n",
       "      <td>Gloriana\\r\\nKellie Pickler</td>\n",
       "      <td>8,751 / 8,751</td>\n",
       "      <td>$398,154</td>\n",
       "      <td>Fearless_Tour</td>\n",
       "    </tr>\n",
       "  </tbody>\n",
       "</table>\n",
       "</div>"
      ],
      "text/plain": [
       "               City        Country                      Venue  \\\n",
       "0        Evansville  United States  Roberts Municipal Stadium   \n",
       "1         Jonesboro  United States         Convocation Center   \n",
       "2         St. Louis  United States           Scottrade Center   \n",
       "3        Alexandria  United States  Bishop Ireton High School   \n",
       "4  North Charleston  United States  North Charleston Coliseum   \n",
       "\n",
       "               Opening act(s) Attendance (tickets sold / available)   Revenue  \\\n",
       "0  Gloriana\\r\\nKellie Pickler                         7,463 / 7,463  $360,617   \n",
       "1  Gloriana\\r\\nKellie Pickler                         7,822 / 7,822  $340,328   \n",
       "2  Gloriana\\r\\nKellie Pickler                       13,764 / 13,764  $650,420   \n",
       "3  Gloriana\\r\\nKellie Pickler                                     —         —   \n",
       "4  Gloriana\\r\\nKellie Pickler                         8,751 / 8,751  $398,154   \n",
       "\n",
       "            Tour  \n",
       "0  Fearless_Tour  \n",
       "1  Fearless_Tour  \n",
       "2  Fearless_Tour  \n",
       "3  Fearless_Tour  \n",
       "4  Fearless_Tour  "
      ]
     },
     "execution_count": 334,
     "metadata": {},
     "output_type": "execute_result"
    }
   ],
   "source": [
    "#data had an encoding issue. Byte was not compatible with UTF-8\n",
    "#cp1252 was compatible for decoding 0x96 byte\n",
    "\n",
    "df = pd.read_csv('/Users/kali/Downloads/Taylor_Train.csv', encoding='cp1252')\n",
    "df.head()"
   ]
  },
  {
   "cell_type": "markdown",
   "metadata": {},
   "source": [
    "## Step 2: Tidy Data"
   ]
  },
  {
   "cell_type": "code",
   "execution_count": 335,
   "metadata": {},
   "outputs": [
    {
     "data": {
      "text/plain": [
       "Index(['city', 'country', 'venue', 'opening_act(s)',\n",
       "       'attendance_(tickets_sold_/_available)', 'revenue', 'tour'],\n",
       "      dtype='object')"
      ]
     },
     "execution_count": 335,
     "metadata": {},
     "output_type": "execute_result"
    }
   ],
   "source": [
    "#Pep 8 compliance: Column headers be snake cased. \n",
    "\n",
    "df.columns = df.columns.str.lower().str.strip().str.replace(' ', '_')\n",
    "df.columns"
   ]
  },
  {
   "cell_type": "markdown",
   "metadata": {},
   "source": [
    "## Step 3:EDA(Exploratory Data Analysis)\n",
    "\n",
    "To gather summary statistics about our dataset we can use the following methods to identify if any further tidying is necessary.\n",
    "\n",
    "* df.describe()\n",
    "\n",
    "* df.info()\n",
    "\n",
    "* df.shape\n",
    "\n",
    "* df.value_counts()"
   ]
  },
  {
   "cell_type": "code",
   "execution_count": 336,
   "metadata": {},
   "outputs": [
    {
     "name": "stdout",
     "output_type": "stream",
     "text": [
      "<class 'pandas.core.frame.DataFrame'>\n",
      "RangeIndex: 445 entries, 0 to 444\n",
      "Data columns (total 7 columns):\n",
      " #   Column                                 Non-Null Count  Dtype \n",
      "---  ------                                 --------------  ----- \n",
      " 0   city                                   445 non-null    object\n",
      " 1   country                                445 non-null    object\n",
      " 2   venue                                  445 non-null    object\n",
      " 3   opening_act(s)                         444 non-null    object\n",
      " 4   attendance_(tickets_sold_/_available)  442 non-null    object\n",
      " 5   revenue                                442 non-null    object\n",
      " 6   tour                                   445 non-null    object\n",
      "dtypes: object(7)\n",
      "memory usage: 24.5+ KB\n"
     ]
    }
   ],
   "source": [
    "df.info()"
   ]
  },
  {
   "cell_type": "code",
   "execution_count": 340,
   "metadata": {},
   "outputs": [
    {
     "data": {
      "text/html": [
       "<div>\n",
       "<style scoped>\n",
       "    .dataframe tbody tr th:only-of-type {\n",
       "        vertical-align: middle;\n",
       "    }\n",
       "\n",
       "    .dataframe tbody tr th {\n",
       "        vertical-align: top;\n",
       "    }\n",
       "\n",
       "    .dataframe thead th {\n",
       "        text-align: right;\n",
       "    }\n",
       "</style>\n",
       "<table border=\"1\" class=\"dataframe\">\n",
       "  <thead>\n",
       "    <tr style=\"text-align: right;\">\n",
       "      <th></th>\n",
       "      <th>city</th>\n",
       "      <th>country</th>\n",
       "      <th>venue</th>\n",
       "      <th>opening_act(s)</th>\n",
       "      <th>attendance_(tickets_sold_/_available)</th>\n",
       "      <th>revenue</th>\n",
       "      <th>tour</th>\n",
       "    </tr>\n",
       "  </thead>\n",
       "  <tbody>\n",
       "    <tr>\n",
       "      <th>0</th>\n",
       "      <td>Evansville</td>\n",
       "      <td>United States</td>\n",
       "      <td>Roberts Municipal Stadium</td>\n",
       "      <td>Gloriana\\r\\nKellie Pickler</td>\n",
       "      <td>7,463 / 7,463</td>\n",
       "      <td>$360,617</td>\n",
       "      <td>Fearless_Tour</td>\n",
       "    </tr>\n",
       "    <tr>\n",
       "      <th>1</th>\n",
       "      <td>Jonesboro</td>\n",
       "      <td>United States</td>\n",
       "      <td>Convocation Center</td>\n",
       "      <td>Gloriana\\r\\nKellie Pickler</td>\n",
       "      <td>7,822 / 7,822</td>\n",
       "      <td>$340,328</td>\n",
       "      <td>Fearless_Tour</td>\n",
       "    </tr>\n",
       "    <tr>\n",
       "      <th>2</th>\n",
       "      <td>St. Louis</td>\n",
       "      <td>United States</td>\n",
       "      <td>Scottrade Center</td>\n",
       "      <td>Gloriana\\r\\nKellie Pickler</td>\n",
       "      <td>13,764 / 13,764</td>\n",
       "      <td>$650,420</td>\n",
       "      <td>Fearless_Tour</td>\n",
       "    </tr>\n",
       "    <tr>\n",
       "      <th>3</th>\n",
       "      <td>Alexandria</td>\n",
       "      <td>United States</td>\n",
       "      <td>Bishop Ireton High School</td>\n",
       "      <td>Gloriana\\r\\nKellie Pickler</td>\n",
       "      <td>—</td>\n",
       "      <td>—</td>\n",
       "      <td>Fearless_Tour</td>\n",
       "    </tr>\n",
       "    <tr>\n",
       "      <th>4</th>\n",
       "      <td>North Charleston</td>\n",
       "      <td>United States</td>\n",
       "      <td>North Charleston Coliseum</td>\n",
       "      <td>Gloriana\\r\\nKellie Pickler</td>\n",
       "      <td>8,751 / 8,751</td>\n",
       "      <td>$398,154</td>\n",
       "      <td>Fearless_Tour</td>\n",
       "    </tr>\n",
       "    <tr>\n",
       "      <th>...</th>\n",
       "      <td>...</td>\n",
       "      <td>...</td>\n",
       "      <td>...</td>\n",
       "      <td>...</td>\n",
       "      <td>...</td>\n",
       "      <td>...</td>\n",
       "      <td>...</td>\n",
       "    </tr>\n",
       "    <tr>\n",
       "      <th>440</th>\n",
       "      <td>Sydney</td>\n",
       "      <td>Australia</td>\n",
       "      <td>ANZ Stadium</td>\n",
       "      <td>Charli XCX\\r\\nBroods</td>\n",
       "      <td>72,805 / 72,805</td>\n",
       "      <td>$7,686,564</td>\n",
       "      <td>Reputation_Stadium_Tour</td>\n",
       "    </tr>\n",
       "    <tr>\n",
       "      <th>441</th>\n",
       "      <td>Brisbane</td>\n",
       "      <td>Australia</td>\n",
       "      <td>The Gabba</td>\n",
       "      <td>Charli XCX\\r\\nBroods</td>\n",
       "      <td>43,907 / 43,907</td>\n",
       "      <td>$4,338,127</td>\n",
       "      <td>Reputation_Stadium_Tour</td>\n",
       "    </tr>\n",
       "    <tr>\n",
       "      <th>442</th>\n",
       "      <td>Auckland</td>\n",
       "      <td>New Zealand</td>\n",
       "      <td>Mount Smart Stadium</td>\n",
       "      <td>Charli XCX\\r\\nBroods</td>\n",
       "      <td>35,749 / 35,749</td>\n",
       "      <td>$3,617,593</td>\n",
       "      <td>Reputation_Stadium_Tour</td>\n",
       "    </tr>\n",
       "    <tr>\n",
       "      <th>443</th>\n",
       "      <td>Tokyo</td>\n",
       "      <td>Japan</td>\n",
       "      <td>Tokyo Dome</td>\n",
       "      <td>Charli XCX</td>\n",
       "      <td>100,109 / 100,109</td>\n",
       "      <td>$14,859,847</td>\n",
       "      <td>Reputation_Stadium_Tour</td>\n",
       "    </tr>\n",
       "    <tr>\n",
       "      <th>444</th>\n",
       "      <td>Tokyo</td>\n",
       "      <td>Japan</td>\n",
       "      <td>Tokyo Dome</td>\n",
       "      <td>Charli XCX</td>\n",
       "      <td>100,109 / 100,109</td>\n",
       "      <td>$14,859,847</td>\n",
       "      <td>Reputation_Stadium_Tour</td>\n",
       "    </tr>\n",
       "  </tbody>\n",
       "</table>\n",
       "<p>445 rows × 7 columns</p>\n",
       "</div>"
      ],
      "text/plain": [
       "                 city        country                      venue  \\\n",
       "0          Evansville  United States  Roberts Municipal Stadium   \n",
       "1           Jonesboro  United States         Convocation Center   \n",
       "2           St. Louis  United States           Scottrade Center   \n",
       "3          Alexandria  United States  Bishop Ireton High School   \n",
       "4    North Charleston  United States  North Charleston Coliseum   \n",
       "..                ...            ...                        ...   \n",
       "440            Sydney      Australia                ANZ Stadium   \n",
       "441          Brisbane      Australia                  The Gabba   \n",
       "442          Auckland    New Zealand        Mount Smart Stadium   \n",
       "443             Tokyo          Japan                 Tokyo Dome   \n",
       "444             Tokyo          Japan                 Tokyo Dome   \n",
       "\n",
       "                 opening_act(s) attendance_(tickets_sold_/_available)  \\\n",
       "0    Gloriana\\r\\nKellie Pickler                         7,463 / 7,463   \n",
       "1    Gloriana\\r\\nKellie Pickler                         7,822 / 7,822   \n",
       "2    Gloriana\\r\\nKellie Pickler                       13,764 / 13,764   \n",
       "3    Gloriana\\r\\nKellie Pickler                                     —   \n",
       "4    Gloriana\\r\\nKellie Pickler                         8,751 / 8,751   \n",
       "..                          ...                                   ...   \n",
       "440        Charli XCX\\r\\nBroods                       72,805 / 72,805   \n",
       "441        Charli XCX\\r\\nBroods                       43,907 / 43,907   \n",
       "442        Charli XCX\\r\\nBroods                       35,749 / 35,749   \n",
       "443                  Charli XCX                     100,109 / 100,109   \n",
       "444                  Charli XCX                     100,109 / 100,109   \n",
       "\n",
       "         revenue                     tour  \n",
       "0       $360,617            Fearless_Tour  \n",
       "1       $340,328            Fearless_Tour  \n",
       "2       $650,420            Fearless_Tour  \n",
       "3              —            Fearless_Tour  \n",
       "4       $398,154            Fearless_Tour  \n",
       "..           ...                      ...  \n",
       "440   $7,686,564  Reputation_Stadium_Tour  \n",
       "441   $4,338,127  Reputation_Stadium_Tour  \n",
       "442   $3,617,593  Reputation_Stadium_Tour  \n",
       "443  $14,859,847  Reputation_Stadium_Tour  \n",
       "444  $14,859,847  Reputation_Stadium_Tour  \n",
       "\n",
       "[445 rows x 7 columns]"
      ]
     },
     "execution_count": 340,
     "metadata": {},
     "output_type": "execute_result"
    }
   ],
   "source": [
    "df.replace('-', 0)"
   ]
  },
  {
   "cell_type": "code",
   "execution_count": 341,
   "metadata": {},
   "outputs": [
    {
     "name": "stdout",
     "output_type": "stream",
     "text": [
      "0         360.617\n",
      "1         340.328\n",
      "2         650.420\n",
      "3               —\n",
      "4         398.154\n",
      "          ...    \n",
      "440     7.686.564\n",
      "441     4.338.127\n",
      "442     3.617.593\n",
      "443    14.859.847\n",
      "444    14.859.847\n",
      "Name: revenue, Length: 445, dtype: object\n"
     ]
    }
   ],
   "source": [
    "df_revenue = df['revenue'].str.strip().str.replace('-', '').str.replace('$', '').str.replace(',', '.').astype(float, copy=None, errors='ignore')\n",
    "\n",
    "print(df_revenue)"
   ]
  },
  {
   "cell_type": "markdown",
   "metadata": {},
   "source": [
    "Find and Fill in Null Values"
   ]
  },
  {
   "cell_type": "code",
   "execution_count": 342,
   "metadata": {},
   "outputs": [
    {
     "data": {
      "text/plain": [
       "city                                     0\n",
       "country                                  0\n",
       "venue                                    0\n",
       "opening_act(s)                           1\n",
       "attendance_(tickets_sold_/_available)    3\n",
       "revenue                                  3\n",
       "tour                                     0\n",
       "dtype: int64"
      ]
     },
     "execution_count": 342,
     "metadata": {},
     "output_type": "execute_result"
    }
   ],
   "source": [
    "df.isna().sum()"
   ]
  },
  {
   "cell_type": "code",
   "execution_count": 346,
   "metadata": {},
   "outputs": [
    {
     "ename": "TypeError",
     "evalue": "can only concatenate str (not \"int\") to str",
     "output_type": "error",
     "traceback": [
      "\u001b[0;31m---------------------------------------------------------------------------\u001b[0m",
      "\u001b[0;31mTypeError\u001b[0m                                 Traceback (most recent call last)",
      "\u001b[1;32mUntitled-1.ipynb Cell 13\u001b[0m line \u001b[0;36m7\n\u001b[1;32m      <a href='vscode-notebook-cell:Untitled-1.ipynb?jupyter-notebook#X36sdW50aXRsZWQ%3D?line=2'>3</a>\u001b[0m df[\u001b[39m'\u001b[39m\u001b[39mcountry\u001b[39m\u001b[39m'\u001b[39m] \u001b[39m=\u001b[39m df[\u001b[39m'\u001b[39m\u001b[39mcountry\u001b[39m\u001b[39m'\u001b[39m]\u001b[39m.\u001b[39mfillna(\u001b[39m'\u001b[39m\u001b[39munknown\u001b[39m\u001b[39m'\u001b[39m)\n\u001b[1;32m      <a href='vscode-notebook-cell:Untitled-1.ipynb?jupyter-notebook#X36sdW50aXRsZWQ%3D?line=4'>5</a>\u001b[0m df[\u001b[39m'\u001b[39m\u001b[39mopening_act(s)\u001b[39m\u001b[39m'\u001b[39m] \u001b[39m=\u001b[39m df[\u001b[39m'\u001b[39m\u001b[39mopening_act(s)\u001b[39m\u001b[39m'\u001b[39m]\u001b[39m.\u001b[39mfillna(\u001b[39m'\u001b[39m\u001b[39munknown\u001b[39m\u001b[39m'\u001b[39m)\n\u001b[0;32m----> <a href='vscode-notebook-cell:Untitled-1.ipynb?jupyter-notebook#X36sdW50aXRsZWQ%3D?line=6'>7</a>\u001b[0m df[\u001b[39m'\u001b[39m\u001b[39mattendance_(tickets_sold_/_available)\u001b[39m\u001b[39m'\u001b[39m] \u001b[39m=\u001b[39m df[\u001b[39m'\u001b[39m\u001b[39mattendance_(tickets_sold_/_available)\u001b[39m\u001b[39m'\u001b[39m]\u001b[39m.\u001b[39mfillna(df[\u001b[39m'\u001b[39;49m\u001b[39mattendance_(tickets_sold_/_available)\u001b[39;49m\u001b[39m'\u001b[39;49m]\u001b[39m.\u001b[39;49mmean())\n\u001b[1;32m      <a href='vscode-notebook-cell:Untitled-1.ipynb?jupyter-notebook#X36sdW50aXRsZWQ%3D?line=8'>9</a>\u001b[0m df[\u001b[39m'\u001b[39m\u001b[39mrevenue\u001b[39m\u001b[39m'\u001b[39m] \u001b[39m=\u001b[39m df[\u001b[39m'\u001b[39m\u001b[39mrevenue\u001b[39m\u001b[39m'\u001b[39m]\u001b[39m.\u001b[39mfillna(df[\u001b[39m'\u001b[39m\u001b[39mrevenue\u001b[39m\u001b[39m'\u001b[39m]\u001b[39m.\u001b[39mmean())\n",
      "File \u001b[0;32m/Library/Frameworks/Python.framework/Versions/3.11/lib/python3.11/site-packages/pandas/core/series.py:6221\u001b[0m, in \u001b[0;36mSeries.mean\u001b[0;34m(self, axis, skipna, numeric_only, **kwargs)\u001b[0m\n\u001b[1;32m   6213\u001b[0m \u001b[39m@doc\u001b[39m(make_doc(\u001b[39m\"\u001b[39m\u001b[39mmean\u001b[39m\u001b[39m\"\u001b[39m, ndim\u001b[39m=\u001b[39m\u001b[39m1\u001b[39m))\n\u001b[1;32m   6214\u001b[0m \u001b[39mdef\u001b[39;00m \u001b[39mmean\u001b[39m(\n\u001b[1;32m   6215\u001b[0m     \u001b[39mself\u001b[39m,\n\u001b[0;32m   (...)\u001b[0m\n\u001b[1;32m   6219\u001b[0m     \u001b[39m*\u001b[39m\u001b[39m*\u001b[39mkwargs,\n\u001b[1;32m   6220\u001b[0m ):\n\u001b[0;32m-> 6221\u001b[0m     \u001b[39mreturn\u001b[39;00m NDFrame\u001b[39m.\u001b[39;49mmean(\u001b[39mself\u001b[39;49m, axis, skipna, numeric_only, \u001b[39m*\u001b[39;49m\u001b[39m*\u001b[39;49mkwargs)\n",
      "File \u001b[0;32m/Library/Frameworks/Python.framework/Versions/3.11/lib/python3.11/site-packages/pandas/core/generic.py:11978\u001b[0m, in \u001b[0;36mNDFrame.mean\u001b[0;34m(self, axis, skipna, numeric_only, **kwargs)\u001b[0m\n\u001b[1;32m  11971\u001b[0m \u001b[39mdef\u001b[39;00m \u001b[39mmean\u001b[39m(\n\u001b[1;32m  11972\u001b[0m     \u001b[39mself\u001b[39m,\n\u001b[1;32m  11973\u001b[0m     axis: Axis \u001b[39m|\u001b[39m \u001b[39mNone\u001b[39;00m \u001b[39m=\u001b[39m \u001b[39m0\u001b[39m,\n\u001b[0;32m   (...)\u001b[0m\n\u001b[1;32m  11976\u001b[0m     \u001b[39m*\u001b[39m\u001b[39m*\u001b[39mkwargs,\n\u001b[1;32m  11977\u001b[0m ) \u001b[39m-\u001b[39m\u001b[39m>\u001b[39m Series \u001b[39m|\u001b[39m \u001b[39mfloat\u001b[39m:\n\u001b[0;32m> 11978\u001b[0m     \u001b[39mreturn\u001b[39;00m \u001b[39mself\u001b[39;49m\u001b[39m.\u001b[39;49m_stat_function(\n\u001b[1;32m  11979\u001b[0m         \u001b[39m\"\u001b[39;49m\u001b[39mmean\u001b[39;49m\u001b[39m\"\u001b[39;49m, nanops\u001b[39m.\u001b[39;49mnanmean, axis, skipna, numeric_only, \u001b[39m*\u001b[39;49m\u001b[39m*\u001b[39;49mkwargs\n\u001b[1;32m  11980\u001b[0m     )\n",
      "File \u001b[0;32m/Library/Frameworks/Python.framework/Versions/3.11/lib/python3.11/site-packages/pandas/core/generic.py:11935\u001b[0m, in \u001b[0;36mNDFrame._stat_function\u001b[0;34m(self, name, func, axis, skipna, numeric_only, **kwargs)\u001b[0m\n\u001b[1;32m  11931\u001b[0m nv\u001b[39m.\u001b[39mvalidate_func(name, (), kwargs)\n\u001b[1;32m  11933\u001b[0m validate_bool_kwarg(skipna, \u001b[39m\"\u001b[39m\u001b[39mskipna\u001b[39m\u001b[39m\"\u001b[39m, none_allowed\u001b[39m=\u001b[39m\u001b[39mFalse\u001b[39;00m)\n\u001b[0;32m> 11935\u001b[0m \u001b[39mreturn\u001b[39;00m \u001b[39mself\u001b[39;49m\u001b[39m.\u001b[39;49m_reduce(\n\u001b[1;32m  11936\u001b[0m     func, name\u001b[39m=\u001b[39;49mname, axis\u001b[39m=\u001b[39;49maxis, skipna\u001b[39m=\u001b[39;49mskipna, numeric_only\u001b[39m=\u001b[39;49mnumeric_only\n\u001b[1;32m  11937\u001b[0m )\n",
      "File \u001b[0;32m/Library/Frameworks/Python.framework/Versions/3.11/lib/python3.11/site-packages/pandas/core/series.py:6129\u001b[0m, in \u001b[0;36mSeries._reduce\u001b[0;34m(self, op, name, axis, skipna, numeric_only, filter_type, **kwds)\u001b[0m\n\u001b[1;32m   6124\u001b[0m     \u001b[39m# GH#47500 - change to TypeError to match other methods\u001b[39;00m\n\u001b[1;32m   6125\u001b[0m     \u001b[39mraise\u001b[39;00m \u001b[39mTypeError\u001b[39;00m(\n\u001b[1;32m   6126\u001b[0m         \u001b[39mf\u001b[39m\u001b[39m\"\u001b[39m\u001b[39mSeries.\u001b[39m\u001b[39m{\u001b[39;00mname\u001b[39m}\u001b[39;00m\u001b[39m does not allow \u001b[39m\u001b[39m{\u001b[39;00mkwd_name\u001b[39m}\u001b[39;00m\u001b[39m=\u001b[39m\u001b[39m{\u001b[39;00mnumeric_only\u001b[39m}\u001b[39;00m\u001b[39m \u001b[39m\u001b[39m\"\u001b[39m\n\u001b[1;32m   6127\u001b[0m         \u001b[39m\"\u001b[39m\u001b[39mwith non-numeric dtypes.\u001b[39m\u001b[39m\"\u001b[39m\n\u001b[1;32m   6128\u001b[0m     )\n\u001b[0;32m-> 6129\u001b[0m \u001b[39mreturn\u001b[39;00m op(delegate, skipna\u001b[39m=\u001b[39;49mskipna, \u001b[39m*\u001b[39;49m\u001b[39m*\u001b[39;49mkwds)\n",
      "File \u001b[0;32m/Library/Frameworks/Python.framework/Versions/3.11/lib/python3.11/site-packages/pandas/core/nanops.py:147\u001b[0m, in \u001b[0;36mbottleneck_switch.__call__.<locals>.f\u001b[0;34m(values, axis, skipna, **kwds)\u001b[0m\n\u001b[1;32m    145\u001b[0m         result \u001b[39m=\u001b[39m alt(values, axis\u001b[39m=\u001b[39maxis, skipna\u001b[39m=\u001b[39mskipna, \u001b[39m*\u001b[39m\u001b[39m*\u001b[39mkwds)\n\u001b[1;32m    146\u001b[0m \u001b[39melse\u001b[39;00m:\n\u001b[0;32m--> 147\u001b[0m     result \u001b[39m=\u001b[39m alt(values, axis\u001b[39m=\u001b[39;49maxis, skipna\u001b[39m=\u001b[39;49mskipna, \u001b[39m*\u001b[39;49m\u001b[39m*\u001b[39;49mkwds)\n\u001b[1;32m    149\u001b[0m \u001b[39mreturn\u001b[39;00m result\n",
      "File \u001b[0;32m/Library/Frameworks/Python.framework/Versions/3.11/lib/python3.11/site-packages/pandas/core/nanops.py:404\u001b[0m, in \u001b[0;36m_datetimelike_compat.<locals>.new_func\u001b[0;34m(values, axis, skipna, mask, **kwargs)\u001b[0m\n\u001b[1;32m    401\u001b[0m \u001b[39mif\u001b[39;00m datetimelike \u001b[39mand\u001b[39;00m mask \u001b[39mis\u001b[39;00m \u001b[39mNone\u001b[39;00m:\n\u001b[1;32m    402\u001b[0m     mask \u001b[39m=\u001b[39m isna(values)\n\u001b[0;32m--> 404\u001b[0m result \u001b[39m=\u001b[39m func(values, axis\u001b[39m=\u001b[39;49maxis, skipna\u001b[39m=\u001b[39;49mskipna, mask\u001b[39m=\u001b[39;49mmask, \u001b[39m*\u001b[39;49m\u001b[39m*\u001b[39;49mkwargs)\n\u001b[1;32m    406\u001b[0m \u001b[39mif\u001b[39;00m datetimelike:\n\u001b[1;32m    407\u001b[0m     result \u001b[39m=\u001b[39m _wrap_results(result, orig_values\u001b[39m.\u001b[39mdtype, fill_value\u001b[39m=\u001b[39miNaT)\n",
      "File \u001b[0;32m/Library/Frameworks/Python.framework/Versions/3.11/lib/python3.11/site-packages/pandas/core/nanops.py:719\u001b[0m, in \u001b[0;36mnanmean\u001b[0;34m(values, axis, skipna, mask)\u001b[0m\n\u001b[1;32m    716\u001b[0m     dtype_count \u001b[39m=\u001b[39m dtype\n\u001b[1;32m    718\u001b[0m count \u001b[39m=\u001b[39m _get_counts(values\u001b[39m.\u001b[39mshape, mask, axis, dtype\u001b[39m=\u001b[39mdtype_count)\n\u001b[0;32m--> 719\u001b[0m the_sum \u001b[39m=\u001b[39m values\u001b[39m.\u001b[39;49msum(axis, dtype\u001b[39m=\u001b[39;49mdtype_sum)\n\u001b[1;32m    720\u001b[0m the_sum \u001b[39m=\u001b[39m _ensure_numeric(the_sum)\n\u001b[1;32m    722\u001b[0m \u001b[39mif\u001b[39;00m axis \u001b[39mis\u001b[39;00m \u001b[39mnot\u001b[39;00m \u001b[39mNone\u001b[39;00m \u001b[39mand\u001b[39;00m \u001b[39mgetattr\u001b[39m(the_sum, \u001b[39m\"\u001b[39m\u001b[39mndim\u001b[39m\u001b[39m\"\u001b[39m, \u001b[39mFalse\u001b[39;00m):\n",
      "File \u001b[0;32m/Library/Frameworks/Python.framework/Versions/3.11/lib/python3.11/site-packages/numpy/core/_methods.py:49\u001b[0m, in \u001b[0;36m_sum\u001b[0;34m(a, axis, dtype, out, keepdims, initial, where)\u001b[0m\n\u001b[1;32m     47\u001b[0m \u001b[39mdef\u001b[39;00m \u001b[39m_sum\u001b[39m(a, axis\u001b[39m=\u001b[39m\u001b[39mNone\u001b[39;00m, dtype\u001b[39m=\u001b[39m\u001b[39mNone\u001b[39;00m, out\u001b[39m=\u001b[39m\u001b[39mNone\u001b[39;00m, keepdims\u001b[39m=\u001b[39m\u001b[39mFalse\u001b[39;00m,\n\u001b[1;32m     48\u001b[0m          initial\u001b[39m=\u001b[39m_NoValue, where\u001b[39m=\u001b[39m\u001b[39mTrue\u001b[39;00m):\n\u001b[0;32m---> 49\u001b[0m     \u001b[39mreturn\u001b[39;00m umr_sum(a, axis, dtype, out, keepdims, initial, where)\n",
      "\u001b[0;31mTypeError\u001b[0m: can only concatenate str (not \"int\") to str"
     ]
    }
   ],
   "source": [
    "df['city'] = df['city'].fillna('unknown')\n",
    "\n",
    "df['country'] = df['country'].fillna('unknown')\n",
    "\n",
    "df['opening_act(s)'] = df['opening_act(s)'].fillna('unknown')\n",
    "\n",
    "df['attendance_(tickets_sold_/_available)'] = df['attendance_(tickets_sold_/_available)'].fillna(df['attendance_(tickets_sold_/_available)'].mean())\n",
    "\n",
    "df['revenue'] = df['revenue'].fillna(df['revenue'].mean())\n",
    "\n",
    "\n"
   ]
  },
  {
   "cell_type": "markdown",
   "metadata": {},
   "source": [
    "Replace dashes with zero, remove $, and convert , to . \n",
    "in order to convert dtype to a float"
   ]
  },
  {
   "cell_type": "code",
   "execution_count": null,
   "metadata": {},
   "outputs": [
    {
     "name": "stdout",
     "output_type": "stream",
     "text": [
      "512.487\n"
     ]
    }
   ],
   "source": [
    "df_revenue = df['revenue'].replace('-', 0).str.replace('$', '').str.replace(',', '.')\n",
    "\n",
    "print(df_revenue[26])\n"
   ]
  },
  {
   "cell_type": "code",
   "execution_count": null,
   "metadata": {},
   "outputs": [
    {
     "ename": "ValueError",
     "evalue": "could not convert string to float: '—'",
     "output_type": "error",
     "traceback": [
      "\u001b[0;31m---------------------------------------------------------------------------\u001b[0m",
      "\u001b[0;31mValueError\u001b[0m                                Traceback (most recent call last)",
      "\u001b[1;32mUntitled-1.ipynb Cell 15\u001b[0m line \u001b[0;36m3\n\u001b[1;32m      <a href='vscode-notebook-cell:Untitled-1.ipynb?jupyter-notebook#X31sdW50aXRsZWQ%3D?line=0'>1</a>\u001b[0m \u001b[39m#cast it as an integer type\u001b[39;00m\n\u001b[0;32m----> <a href='vscode-notebook-cell:Untitled-1.ipynb?jupyter-notebook#X31sdW50aXRsZWQ%3D?line=2'>3</a>\u001b[0m df_revenue \u001b[39m=\u001b[39m df_revenue\u001b[39m.\u001b[39;49mastype(\u001b[39mfloat\u001b[39;49m)\n\u001b[1;32m      <a href='vscode-notebook-cell:Untitled-1.ipynb?jupyter-notebook#X31sdW50aXRsZWQ%3D?line=3'>4</a>\u001b[0m \u001b[39mprint\u001b[39m(df_revenue)\n",
      "File \u001b[0;32m/Library/Frameworks/Python.framework/Versions/3.11/lib/python3.11/site-packages/pandas/core/generic.py:6534\u001b[0m, in \u001b[0;36mNDFrame.astype\u001b[0;34m(self, dtype, copy, errors)\u001b[0m\n\u001b[1;32m   6530\u001b[0m     results \u001b[39m=\u001b[39m [ser\u001b[39m.\u001b[39mastype(dtype, copy\u001b[39m=\u001b[39mcopy) \u001b[39mfor\u001b[39;00m _, ser \u001b[39min\u001b[39;00m \u001b[39mself\u001b[39m\u001b[39m.\u001b[39mitems()]\n\u001b[1;32m   6532\u001b[0m \u001b[39melse\u001b[39;00m:\n\u001b[1;32m   6533\u001b[0m     \u001b[39m# else, only a single dtype is given\u001b[39;00m\n\u001b[0;32m-> 6534\u001b[0m     new_data \u001b[39m=\u001b[39m \u001b[39mself\u001b[39;49m\u001b[39m.\u001b[39;49m_mgr\u001b[39m.\u001b[39;49mastype(dtype\u001b[39m=\u001b[39;49mdtype, copy\u001b[39m=\u001b[39;49mcopy, errors\u001b[39m=\u001b[39;49merrors)\n\u001b[1;32m   6535\u001b[0m     res \u001b[39m=\u001b[39m \u001b[39mself\u001b[39m\u001b[39m.\u001b[39m_constructor_from_mgr(new_data, axes\u001b[39m=\u001b[39mnew_data\u001b[39m.\u001b[39maxes)\n\u001b[1;32m   6536\u001b[0m     \u001b[39mreturn\u001b[39;00m res\u001b[39m.\u001b[39m__finalize__(\u001b[39mself\u001b[39m, method\u001b[39m=\u001b[39m\u001b[39m\"\u001b[39m\u001b[39mastype\u001b[39m\u001b[39m\"\u001b[39m)\n",
      "File \u001b[0;32m/Library/Frameworks/Python.framework/Versions/3.11/lib/python3.11/site-packages/pandas/core/internals/managers.py:414\u001b[0m, in \u001b[0;36mBaseBlockManager.astype\u001b[0;34m(self, dtype, copy, errors)\u001b[0m\n\u001b[1;32m    411\u001b[0m \u001b[39melif\u001b[39;00m using_copy_on_write():\n\u001b[1;32m    412\u001b[0m     copy \u001b[39m=\u001b[39m \u001b[39mFalse\u001b[39;00m\n\u001b[0;32m--> 414\u001b[0m \u001b[39mreturn\u001b[39;00m \u001b[39mself\u001b[39;49m\u001b[39m.\u001b[39;49mapply(\n\u001b[1;32m    415\u001b[0m     \u001b[39m\"\u001b[39;49m\u001b[39mastype\u001b[39;49m\u001b[39m\"\u001b[39;49m,\n\u001b[1;32m    416\u001b[0m     dtype\u001b[39m=\u001b[39;49mdtype,\n\u001b[1;32m    417\u001b[0m     copy\u001b[39m=\u001b[39;49mcopy,\n\u001b[1;32m    418\u001b[0m     errors\u001b[39m=\u001b[39;49merrors,\n\u001b[1;32m    419\u001b[0m     using_cow\u001b[39m=\u001b[39;49musing_copy_on_write(),\n\u001b[1;32m    420\u001b[0m )\n",
      "File \u001b[0;32m/Library/Frameworks/Python.framework/Versions/3.11/lib/python3.11/site-packages/pandas/core/internals/managers.py:354\u001b[0m, in \u001b[0;36mBaseBlockManager.apply\u001b[0;34m(self, f, align_keys, **kwargs)\u001b[0m\n\u001b[1;32m    352\u001b[0m         applied \u001b[39m=\u001b[39m b\u001b[39m.\u001b[39mapply(f, \u001b[39m*\u001b[39m\u001b[39m*\u001b[39mkwargs)\n\u001b[1;32m    353\u001b[0m     \u001b[39melse\u001b[39;00m:\n\u001b[0;32m--> 354\u001b[0m         applied \u001b[39m=\u001b[39m \u001b[39mgetattr\u001b[39;49m(b, f)(\u001b[39m*\u001b[39;49m\u001b[39m*\u001b[39;49mkwargs)\n\u001b[1;32m    355\u001b[0m     result_blocks \u001b[39m=\u001b[39m extend_blocks(applied, result_blocks)\n\u001b[1;32m    357\u001b[0m out \u001b[39m=\u001b[39m \u001b[39mtype\u001b[39m(\u001b[39mself\u001b[39m)\u001b[39m.\u001b[39mfrom_blocks(result_blocks, \u001b[39mself\u001b[39m\u001b[39m.\u001b[39maxes)\n",
      "File \u001b[0;32m/Library/Frameworks/Python.framework/Versions/3.11/lib/python3.11/site-packages/pandas/core/internals/blocks.py:616\u001b[0m, in \u001b[0;36mBlock.astype\u001b[0;34m(self, dtype, copy, errors, using_cow)\u001b[0m\n\u001b[1;32m    596\u001b[0m \u001b[39m\u001b[39m\u001b[39m\"\"\"\u001b[39;00m\n\u001b[1;32m    597\u001b[0m \u001b[39mCoerce to the new dtype.\u001b[39;00m\n\u001b[1;32m    598\u001b[0m \n\u001b[0;32m   (...)\u001b[0m\n\u001b[1;32m    612\u001b[0m \u001b[39mBlock\u001b[39;00m\n\u001b[1;32m    613\u001b[0m \u001b[39m\"\"\"\u001b[39;00m\n\u001b[1;32m    614\u001b[0m values \u001b[39m=\u001b[39m \u001b[39mself\u001b[39m\u001b[39m.\u001b[39mvalues\n\u001b[0;32m--> 616\u001b[0m new_values \u001b[39m=\u001b[39m astype_array_safe(values, dtype, copy\u001b[39m=\u001b[39;49mcopy, errors\u001b[39m=\u001b[39;49merrors)\n\u001b[1;32m    618\u001b[0m new_values \u001b[39m=\u001b[39m maybe_coerce_values(new_values)\n\u001b[1;32m    620\u001b[0m refs \u001b[39m=\u001b[39m \u001b[39mNone\u001b[39;00m\n",
      "File \u001b[0;32m/Library/Frameworks/Python.framework/Versions/3.11/lib/python3.11/site-packages/pandas/core/dtypes/astype.py:238\u001b[0m, in \u001b[0;36mastype_array_safe\u001b[0;34m(values, dtype, copy, errors)\u001b[0m\n\u001b[1;32m    235\u001b[0m     dtype \u001b[39m=\u001b[39m dtype\u001b[39m.\u001b[39mnumpy_dtype\n\u001b[1;32m    237\u001b[0m \u001b[39mtry\u001b[39;00m:\n\u001b[0;32m--> 238\u001b[0m     new_values \u001b[39m=\u001b[39m astype_array(values, dtype, copy\u001b[39m=\u001b[39;49mcopy)\n\u001b[1;32m    239\u001b[0m \u001b[39mexcept\u001b[39;00m (\u001b[39mValueError\u001b[39;00m, \u001b[39mTypeError\u001b[39;00m):\n\u001b[1;32m    240\u001b[0m     \u001b[39m# e.g. _astype_nansafe can fail on object-dtype of strings\u001b[39;00m\n\u001b[1;32m    241\u001b[0m     \u001b[39m#  trying to convert to float\u001b[39;00m\n\u001b[1;32m    242\u001b[0m     \u001b[39mif\u001b[39;00m errors \u001b[39m==\u001b[39m \u001b[39m\"\u001b[39m\u001b[39mignore\u001b[39m\u001b[39m\"\u001b[39m:\n",
      "File \u001b[0;32m/Library/Frameworks/Python.framework/Versions/3.11/lib/python3.11/site-packages/pandas/core/dtypes/astype.py:183\u001b[0m, in \u001b[0;36mastype_array\u001b[0;34m(values, dtype, copy)\u001b[0m\n\u001b[1;32m    180\u001b[0m     values \u001b[39m=\u001b[39m values\u001b[39m.\u001b[39mastype(dtype, copy\u001b[39m=\u001b[39mcopy)\n\u001b[1;32m    182\u001b[0m \u001b[39melse\u001b[39;00m:\n\u001b[0;32m--> 183\u001b[0m     values \u001b[39m=\u001b[39m _astype_nansafe(values, dtype, copy\u001b[39m=\u001b[39;49mcopy)\n\u001b[1;32m    185\u001b[0m \u001b[39m# in pandas we don't store numpy str dtypes, so convert to object\u001b[39;00m\n\u001b[1;32m    186\u001b[0m \u001b[39mif\u001b[39;00m \u001b[39misinstance\u001b[39m(dtype, np\u001b[39m.\u001b[39mdtype) \u001b[39mand\u001b[39;00m \u001b[39missubclass\u001b[39m(values\u001b[39m.\u001b[39mdtype\u001b[39m.\u001b[39mtype, \u001b[39mstr\u001b[39m):\n",
      "File \u001b[0;32m/Library/Frameworks/Python.framework/Versions/3.11/lib/python3.11/site-packages/pandas/core/dtypes/astype.py:134\u001b[0m, in \u001b[0;36m_astype_nansafe\u001b[0;34m(arr, dtype, copy, skipna)\u001b[0m\n\u001b[1;32m    130\u001b[0m     \u001b[39mraise\u001b[39;00m \u001b[39mValueError\u001b[39;00m(msg)\n\u001b[1;32m    132\u001b[0m \u001b[39mif\u001b[39;00m copy \u001b[39mor\u001b[39;00m arr\u001b[39m.\u001b[39mdtype \u001b[39m==\u001b[39m \u001b[39mobject\u001b[39m \u001b[39mor\u001b[39;00m dtype \u001b[39m==\u001b[39m \u001b[39mobject\u001b[39m:\n\u001b[1;32m    133\u001b[0m     \u001b[39m# Explicit copy, or required since NumPy can't view from / to object.\u001b[39;00m\n\u001b[0;32m--> 134\u001b[0m     \u001b[39mreturn\u001b[39;00m arr\u001b[39m.\u001b[39;49mastype(dtype, copy\u001b[39m=\u001b[39;49m\u001b[39mTrue\u001b[39;49;00m)\n\u001b[1;32m    136\u001b[0m \u001b[39mreturn\u001b[39;00m arr\u001b[39m.\u001b[39mastype(dtype, copy\u001b[39m=\u001b[39mcopy)\n",
      "\u001b[0;31mValueError\u001b[0m: could not convert string to float: '—'"
     ]
    }
   ],
   "source": [
    "#cast it as an integer type\n",
    "\n",
    "df_revenue = df_revenue.astype(float)\n",
    "print(df_revenue)"
   ]
  },
  {
   "cell_type": "code",
   "execution_count": null,
   "metadata": {},
   "outputs": [
    {
     "ename": "ValueError",
     "evalue": "Mime type rendering requires nbformat>=4.2.0 but it is not installed",
     "output_type": "error",
     "traceback": [
      "\u001b[0;31m---------------------------------------------------------------------------\u001b[0m",
      "\u001b[0;31mValueError\u001b[0m                                Traceback (most recent call last)",
      "File \u001b[0;32m~/Library/Python/3.11/lib/python/site-packages/IPython/core/formatters.py:922\u001b[0m, in \u001b[0;36mIPythonDisplayFormatter.__call__\u001b[0;34m(self, obj)\u001b[0m\n\u001b[1;32m    920\u001b[0m method \u001b[39m=\u001b[39m get_real_method(obj, \u001b[39mself\u001b[39m\u001b[39m.\u001b[39mprint_method)\n\u001b[1;32m    921\u001b[0m \u001b[39mif\u001b[39;00m method \u001b[39mis\u001b[39;00m \u001b[39mnot\u001b[39;00m \u001b[39mNone\u001b[39;00m:\n\u001b[0;32m--> 922\u001b[0m     method()\n\u001b[1;32m    923\u001b[0m     \u001b[39mreturn\u001b[39;00m \u001b[39mTrue\u001b[39;00m\n",
      "File \u001b[0;32m/Library/Frameworks/Python.framework/Versions/3.11/lib/python3.11/site-packages/plotly/basedatatypes.py:834\u001b[0m, in \u001b[0;36mBaseFigure._ipython_display_\u001b[0;34m(self)\u001b[0m\n\u001b[1;32m    831\u001b[0m \u001b[39mimport\u001b[39;00m \u001b[39mplotly\u001b[39;00m\u001b[39m.\u001b[39;00m\u001b[39mio\u001b[39;00m \u001b[39mas\u001b[39;00m \u001b[39mpio\u001b[39;00m\n\u001b[1;32m    833\u001b[0m \u001b[39mif\u001b[39;00m pio\u001b[39m.\u001b[39mrenderers\u001b[39m.\u001b[39mrender_on_display \u001b[39mand\u001b[39;00m pio\u001b[39m.\u001b[39mrenderers\u001b[39m.\u001b[39mdefault:\n\u001b[0;32m--> 834\u001b[0m     pio\u001b[39m.\u001b[39;49mshow(\u001b[39mself\u001b[39;49m)\n\u001b[1;32m    835\u001b[0m \u001b[39melse\u001b[39;00m:\n\u001b[1;32m    836\u001b[0m     \u001b[39mprint\u001b[39m(\u001b[39mrepr\u001b[39m(\u001b[39mself\u001b[39m))\n",
      "File \u001b[0;32m/Library/Frameworks/Python.framework/Versions/3.11/lib/python3.11/site-packages/plotly/io/_renderers.py:396\u001b[0m, in \u001b[0;36mshow\u001b[0;34m(fig, renderer, validate, **kwargs)\u001b[0m\n\u001b[1;32m    391\u001b[0m         \u001b[39mraise\u001b[39;00m \u001b[39mValueError\u001b[39;00m(\n\u001b[1;32m    392\u001b[0m             \u001b[39m\"\u001b[39m\u001b[39mMime type rendering requires ipython but it is not installed\u001b[39m\u001b[39m\"\u001b[39m\n\u001b[1;32m    393\u001b[0m         )\n\u001b[1;32m    395\u001b[0m     \u001b[39mif\u001b[39;00m \u001b[39mnot\u001b[39;00m nbformat \u001b[39mor\u001b[39;00m Version(nbformat\u001b[39m.\u001b[39m__version__) \u001b[39m<\u001b[39m Version(\u001b[39m\"\u001b[39m\u001b[39m4.2.0\u001b[39m\u001b[39m\"\u001b[39m):\n\u001b[0;32m--> 396\u001b[0m         \u001b[39mraise\u001b[39;00m \u001b[39mValueError\u001b[39;00m(\n\u001b[1;32m    397\u001b[0m             \u001b[39m\"\u001b[39m\u001b[39mMime type rendering requires nbformat>=4.2.0 but it is not installed\u001b[39m\u001b[39m\"\u001b[39m\n\u001b[1;32m    398\u001b[0m         )\n\u001b[1;32m    400\u001b[0m     ipython_display\u001b[39m.\u001b[39mdisplay(bundle, raw\u001b[39m=\u001b[39m\u001b[39mTrue\u001b[39;00m)\n\u001b[1;32m    402\u001b[0m \u001b[39m# external renderers\u001b[39;00m\n",
      "\u001b[0;31mValueError\u001b[0m: Mime type rendering requires nbformat>=4.2.0 but it is not installed"
     ]
    },
    {
     "data": {
      "application/vnd.plotly.v1+json": {
       "config": {
        "plotlyServerURL": "https://plot.ly"
       },
       "data": [
        {
         "alignmentgroup": "True",
         "bingroup": "x",
         "hovertemplate": "revenue=%{x}<br>count=%{y}<extra></extra>",
         "legendgroup": "",
         "marker": {
          "color": "#636efa",
          "pattern": {
           "shape": ""
          }
         },
         "name": "",
         "offsetgroup": "",
         "orientation": "v",
         "showlegend": false,
         "type": "histogram",
         "x": [
          "$360,617",
          "$340,328",
          "$650,420",
          "—",
          "$398,154",
          "$507,012",
          "$437,313",
          "$401,328",
          "$401,328",
          "$482,146",
          "$528,637",
          "$613,284",
          "$413,622",
          "$647,923",
          "$720,940",
          "$551,051",
          "$502,689",
          "$555,207",
          "—",
          "$608,438",
          "$690,959",
          "—",
          "—",
          "—",
          "$2,540,906",
          "—",
          "$512,487",
          "—",
          "—",
          "—",
          "—",
          "—",
          "—",
          "—",
          "—",
          "—",
          "—",
          "—",
          "$976,062",
          "$296,306",
          "—",
          "—",
          "—",
          "—",
          "—",
          "—",
          "—",
          "—",
          "$642,387",
          "$628,062",
          "$654,089",
          "—",
          "—",
          "—",
          "$743,492",
          "$634,876",
          "$1,150,896",
          "$1,150,896",
          "$623,975",
          "—",
          "—",
          "$956,505",
          "$2,030,640",
          "$2,030,640",
          "$555,396",
          "$1,627,510",
          "$1,627,510",
          "$585,352",
          "—",
          "$793,049",
          "$598,581",
          "$777,442",
          "$642,705",
          "$742,954",
          "$501,169",
          "$2,002,321",
          "$2,002,321",
          "$664,305",
          "$1,711,591",
          "$1,711,591",
          "$645,592",
          "$675,184",
          "$610,801",
          "$761,110",
          "$1,497,135",
          "$1,497,135",
          "$649,488",
          "$716,726",
          "$1,736,197",
          "$1,736,197",
          "$1,024,223",
          "$755,475",
          "$752,303",
          "$738,280",
          "$846,111",
          "$610,668",
          "$1,742,669",
          "$1,742,669",
          "$1,713,529",
          "$1,713,529",
          "$873,206",
          "$2,497,690",
          "$2,497,690",
          "$1,290,926",
          "$1,290,926",
          "—",
          "$1,824,743",
          "$1,824,743",
          "$3,726,157",
          "—",
          "—",
          "$916,850",
          "$385,374",
          "$758,113",
          "$1,738,227",
          "$1,738,227",
          "$859,037",
          "$1,030,633",
          "$219,212",
          "$248,314",
          "$815,246",
          "$370,028",
          "$153,303",
          "$201,781",
          "$251,864",
          "$508,854",
          "$379,001",
          "$419,806",
          "$580,558",
          "$891,152",
          "$1,717,104",
          "$1,717,104",
          "$862,771",
          "$1,582,951",
          "$1,582,951",
          "$791,980",
          "$955,259",
          "$897,042",
          "$3,453,549",
          "$1,913,737",
          "$1,913,737",
          "$4,009,118",
          "$966,749",
          "$810,165",
          "$8,026,350",
          "$8,026,350",
          "$990,701",
          "$903,875",
          "$1,254,230",
          "$3,036,000",
          "$3,036,000",
          "$3,875,463",
          "$3,875,463",
          "$3,875,463",
          "$3,875,463",
          "$724,854",
          "$877,175",
          "$976,954",
          "$2,068,789",
          "$2,068,789",
          "$4,268,678",
          "$1,909,603",
          "$1,909,603",
          "$1,850,159",
          "$1,850,159",
          "$2,136,270",
          "$2,136,270",
          "$3,927,154",
          "$3,927,154",
          "$3,927,154",
          "$3,927,154",
          "$1,825,448",
          "$1,825,448",
          "$934,326",
          "$903,445",
          "$1,289,430",
          "$2,190,680",
          "$2,190,680",
          "$1,841,134",
          "$1,841,134",
          "$728,546",
          "$907,573",
          "$3,148,046",
          "$834,916",
          "$896,946",
          "$1,726,661",
          "$1,726,661",
          "$856,123",
          "$830,289",
          "$4,337,062",
          "$1,003,828",
          "$710,426",
          "$758,364",
          "$792,634",
          "$1,826,025",
          "$1,826,025",
          "$901,535",
          "$752,078",
          "$1,041,935",
          "$820,036",
          "$3,435,756",
          "$749,099",
          "$914,300",
          "$786,904",
          "$920,903",
          "$866,056",
          "$828,231",
          "$1,988,411",
          "$1,988,411",
          "$1,878,530",
          "$1,075,370",
          "$2,416,030",
          "$2,416,030",
          "$3,420,360",
          "$3,420,360",
          "$4,151,650",
          "$4,151,650",
          "$4,151,650",
          "$2,888,560",
          "$2,888,560",
          "$2,888,560",
          "$2,243,164",
          "$2,243,164",
          "$2,346,203",
          "$2,346,203",
          "$1,162,733",
          "$996,114",
          "$3,565,317",
          "$3,565,317",
          "$3,565,317",
          "$1,010,175",
          "$2,054,128",
          "$2,054,128",
          "$2,048,023",
          "$2,048,023",
          "$1,132,095",
          "$1,247,605",
          "$1,082,042",
          "$1,342,699",
          "$3,969,059",
          "$1,246,491",
          "$1,155,170",
          "$2,489,205",
          "$2,489,205",
          "$961,422",
          "$935,631",
          "$1,105,253",
          "$4,589,266",
          "$2,239,370",
          "$2,239,370",
          "$1,139,360",
          "$1,076,069",
          "$7,863,310",
          "$7,863,310",
          "$3,175,430",
          "$2,379,870",
          "$2,379,870",
          "$3,974,410",
          "$4,718,518",
          "$4,670,011",
          "$8,822,335",
          "$8,822,335",
          "$9,464,063",
          "$9,464,063",
          "$1,075,576",
          "$2,093,172",
          "$2,093,172",
          "$983,882",
          "$868,955",
          "$4,149,148",
          "$948,541",
          "$4,734,463",
          "$4,734,463",
          "$4,734,463",
          "$4,734,463",
          "$1,138,103",
          "$1,084,760",
          "$1,584,049",
          "$1,661,578",
          "$2,320,937",
          "$2,320,937",
          "$1,109,253",
          "$1,088,612",
          "$997,216",
          "$3,336,545",
          "$3,336,545",
          "$3,336,545",
          "$3,100,290",
          "$3,100,290",
          "$3,100,290",
          "$4,096,060",
          "$3,895,810",
          "$2,364,080",
          "$4,547,250",
          "$5,829,240",
          "$5,829,240",
          "$5,829,240",
          "$755,006",
          null,
          null,
          "$1,864,934",
          "$1,837,147",
          "$1,481,473",
          "$1,511,662",
          "$2,524,080",
          "$998,608",
          null,
          "$10,586,828",
          "$10,586,828",
          "—",
          "$1,458,197",
          "$4,119,670",
          "$5,999,690",
          "$1,863,281",
          "$1,732,041",
          "$5,836,926",
          "$1,627,798",
          "$1,653,762",
          "$11,987,816",
          "$11,987,816",
          "$2,054,690",
          "$2,054,690",
          "$800,829",
          "$1,119,300",
          "$1,478,760",
          "—",
          "$1,975,510",
          "$1,975,510",
          "$1,325,480",
          "$1,499,040",
          "$13,423,858",
          "$13,423,858",
          "$9,730,596",
          "$9,730,596",
          "$11,469,887",
          "$11,469,887",
          "$12,533,166",
          "$12,533,166",
          "$4,081,820",
          "$2,387,080",
          "$2,387,080",
          "$6,050,643",
          "$13,031,146",
          "$13,031,146",
          "$3,029,628",
          "$3,029,628",
          "$8,961,681",
          "$8,961,681",
          "$8,961,681",
          "$8,961,681",
          "$8,961,681",
          "$5,475,237",
          "$1,589,686",
          "$2,868,991",
          "$2,868,991",
          "$5,202,196",
          "$5,514,863",
          "$5,514,863",
          "$5,514,863",
          "$1,550,268",
          "$3,369,693",
          "$3,369,693",
          "$2,967,558",
          "$2,967,558",
          "$3,354,844",
          "$3,354,844",
          "$3,452,940",
          "$3,452,940",
          "$8,670,990",
          "$8,670,990",
          "$1,566,321",
          "$3,121,421",
          "$3,121,421",
          "$2,219,188",
          "$7,396,733",
          "$1,870,471",
          "$1,662,171",
          "$6,034,846",
          "$1,527,919",
          "$6,202,515",
          "$3,217,569",
          "$3,217,569",
          "$5,917,348",
          "$5,917,348",
          "$5,917,348",
          "$6,571,683",
          "$4,759,471",
          "$2,407,499",
          "$2,407,499",
          "$10,421,553",
          "$10,421,553",
          "$10,421,553",
          "$7,214,478",
          "$14,006,963",
          "$14,006,963",
          "$16,251,980",
          "$16,251,980",
          "$8,672,219",
          "$7,926,366",
          "$14,576,697",
          "$14,576,697",
          "$6,169,724",
          "$6,169,724",
          "$8,567,769",
          "$8,567,769",
          "$12,214,933",
          "$12,214,933",
          "$4,928,219",
          "$6,606,529",
          "$11,396,004",
          "$11,396,004",
          "$11,951,047",
          "$11,951,047",
          "$5,148,757",
          "$22,031,386",
          "$22,031,386",
          "$22,031,386",
          "$21,779,846",
          "$21,779,846",
          "$21,779,846",
          "$11,177,000",
          "$11,177,000",
          "$6,230,876",
          "$18,089,415",
          "$18,089,415",
          "$7,244,264",
          "$7,072,164",
          "$9,007,179",
          "$6,597,852",
          "$10,242,024",
          "$10,242,024",
          "$6,730,138",
          "$6,531,245",
          "$4,884,054",
          "$6,491,546",
          "$9,350,275",
          "$15,006,157",
          "$15,006,157",
          "$4,153,658",
          "$6,755,570",
          "$7,686,564",
          "$4,338,127",
          "$3,617,593",
          "$14,859,847",
          "$14,859,847"
         ],
         "xaxis": "x",
         "yaxis": "y"
        }
       ],
       "layout": {
        "barmode": "relative",
        "legend": {
         "tracegroupgap": 0
        },
        "margin": {
         "t": 60
        },
        "template": {
         "data": {
          "bar": [
           {
            "error_x": {
             "color": "#2a3f5f"
            },
            "error_y": {
             "color": "#2a3f5f"
            },
            "marker": {
             "line": {
              "color": "#E5ECF6",
              "width": 0.5
             },
             "pattern": {
              "fillmode": "overlay",
              "size": 10,
              "solidity": 0.2
             }
            },
            "type": "bar"
           }
          ],
          "barpolar": [
           {
            "marker": {
             "line": {
              "color": "#E5ECF6",
              "width": 0.5
             },
             "pattern": {
              "fillmode": "overlay",
              "size": 10,
              "solidity": 0.2
             }
            },
            "type": "barpolar"
           }
          ],
          "carpet": [
           {
            "aaxis": {
             "endlinecolor": "#2a3f5f",
             "gridcolor": "white",
             "linecolor": "white",
             "minorgridcolor": "white",
             "startlinecolor": "#2a3f5f"
            },
            "baxis": {
             "endlinecolor": "#2a3f5f",
             "gridcolor": "white",
             "linecolor": "white",
             "minorgridcolor": "white",
             "startlinecolor": "#2a3f5f"
            },
            "type": "carpet"
           }
          ],
          "choropleth": [
           {
            "colorbar": {
             "outlinewidth": 0,
             "ticks": ""
            },
            "type": "choropleth"
           }
          ],
          "contour": [
           {
            "colorbar": {
             "outlinewidth": 0,
             "ticks": ""
            },
            "colorscale": [
             [
              0,
              "#0d0887"
             ],
             [
              0.1111111111111111,
              "#46039f"
             ],
             [
              0.2222222222222222,
              "#7201a8"
             ],
             [
              0.3333333333333333,
              "#9c179e"
             ],
             [
              0.4444444444444444,
              "#bd3786"
             ],
             [
              0.5555555555555556,
              "#d8576b"
             ],
             [
              0.6666666666666666,
              "#ed7953"
             ],
             [
              0.7777777777777778,
              "#fb9f3a"
             ],
             [
              0.8888888888888888,
              "#fdca26"
             ],
             [
              1,
              "#f0f921"
             ]
            ],
            "type": "contour"
           }
          ],
          "contourcarpet": [
           {
            "colorbar": {
             "outlinewidth": 0,
             "ticks": ""
            },
            "type": "contourcarpet"
           }
          ],
          "heatmap": [
           {
            "colorbar": {
             "outlinewidth": 0,
             "ticks": ""
            },
            "colorscale": [
             [
              0,
              "#0d0887"
             ],
             [
              0.1111111111111111,
              "#46039f"
             ],
             [
              0.2222222222222222,
              "#7201a8"
             ],
             [
              0.3333333333333333,
              "#9c179e"
             ],
             [
              0.4444444444444444,
              "#bd3786"
             ],
             [
              0.5555555555555556,
              "#d8576b"
             ],
             [
              0.6666666666666666,
              "#ed7953"
             ],
             [
              0.7777777777777778,
              "#fb9f3a"
             ],
             [
              0.8888888888888888,
              "#fdca26"
             ],
             [
              1,
              "#f0f921"
             ]
            ],
            "type": "heatmap"
           }
          ],
          "heatmapgl": [
           {
            "colorbar": {
             "outlinewidth": 0,
             "ticks": ""
            },
            "colorscale": [
             [
              0,
              "#0d0887"
             ],
             [
              0.1111111111111111,
              "#46039f"
             ],
             [
              0.2222222222222222,
              "#7201a8"
             ],
             [
              0.3333333333333333,
              "#9c179e"
             ],
             [
              0.4444444444444444,
              "#bd3786"
             ],
             [
              0.5555555555555556,
              "#d8576b"
             ],
             [
              0.6666666666666666,
              "#ed7953"
             ],
             [
              0.7777777777777778,
              "#fb9f3a"
             ],
             [
              0.8888888888888888,
              "#fdca26"
             ],
             [
              1,
              "#f0f921"
             ]
            ],
            "type": "heatmapgl"
           }
          ],
          "histogram": [
           {
            "marker": {
             "pattern": {
              "fillmode": "overlay",
              "size": 10,
              "solidity": 0.2
             }
            },
            "type": "histogram"
           }
          ],
          "histogram2d": [
           {
            "colorbar": {
             "outlinewidth": 0,
             "ticks": ""
            },
            "colorscale": [
             [
              0,
              "#0d0887"
             ],
             [
              0.1111111111111111,
              "#46039f"
             ],
             [
              0.2222222222222222,
              "#7201a8"
             ],
             [
              0.3333333333333333,
              "#9c179e"
             ],
             [
              0.4444444444444444,
              "#bd3786"
             ],
             [
              0.5555555555555556,
              "#d8576b"
             ],
             [
              0.6666666666666666,
              "#ed7953"
             ],
             [
              0.7777777777777778,
              "#fb9f3a"
             ],
             [
              0.8888888888888888,
              "#fdca26"
             ],
             [
              1,
              "#f0f921"
             ]
            ],
            "type": "histogram2d"
           }
          ],
          "histogram2dcontour": [
           {
            "colorbar": {
             "outlinewidth": 0,
             "ticks": ""
            },
            "colorscale": [
             [
              0,
              "#0d0887"
             ],
             [
              0.1111111111111111,
              "#46039f"
             ],
             [
              0.2222222222222222,
              "#7201a8"
             ],
             [
              0.3333333333333333,
              "#9c179e"
             ],
             [
              0.4444444444444444,
              "#bd3786"
             ],
             [
              0.5555555555555556,
              "#d8576b"
             ],
             [
              0.6666666666666666,
              "#ed7953"
             ],
             [
              0.7777777777777778,
              "#fb9f3a"
             ],
             [
              0.8888888888888888,
              "#fdca26"
             ],
             [
              1,
              "#f0f921"
             ]
            ],
            "type": "histogram2dcontour"
           }
          ],
          "mesh3d": [
           {
            "colorbar": {
             "outlinewidth": 0,
             "ticks": ""
            },
            "type": "mesh3d"
           }
          ],
          "parcoords": [
           {
            "line": {
             "colorbar": {
              "outlinewidth": 0,
              "ticks": ""
             }
            },
            "type": "parcoords"
           }
          ],
          "pie": [
           {
            "automargin": true,
            "type": "pie"
           }
          ],
          "scatter": [
           {
            "fillpattern": {
             "fillmode": "overlay",
             "size": 10,
             "solidity": 0.2
            },
            "type": "scatter"
           }
          ],
          "scatter3d": [
           {
            "line": {
             "colorbar": {
              "outlinewidth": 0,
              "ticks": ""
             }
            },
            "marker": {
             "colorbar": {
              "outlinewidth": 0,
              "ticks": ""
             }
            },
            "type": "scatter3d"
           }
          ],
          "scattercarpet": [
           {
            "marker": {
             "colorbar": {
              "outlinewidth": 0,
              "ticks": ""
             }
            },
            "type": "scattercarpet"
           }
          ],
          "scattergeo": [
           {
            "marker": {
             "colorbar": {
              "outlinewidth": 0,
              "ticks": ""
             }
            },
            "type": "scattergeo"
           }
          ],
          "scattergl": [
           {
            "marker": {
             "colorbar": {
              "outlinewidth": 0,
              "ticks": ""
             }
            },
            "type": "scattergl"
           }
          ],
          "scattermapbox": [
           {
            "marker": {
             "colorbar": {
              "outlinewidth": 0,
              "ticks": ""
             }
            },
            "type": "scattermapbox"
           }
          ],
          "scatterpolar": [
           {
            "marker": {
             "colorbar": {
              "outlinewidth": 0,
              "ticks": ""
             }
            },
            "type": "scatterpolar"
           }
          ],
          "scatterpolargl": [
           {
            "marker": {
             "colorbar": {
              "outlinewidth": 0,
              "ticks": ""
             }
            },
            "type": "scatterpolargl"
           }
          ],
          "scatterternary": [
           {
            "marker": {
             "colorbar": {
              "outlinewidth": 0,
              "ticks": ""
             }
            },
            "type": "scatterternary"
           }
          ],
          "surface": [
           {
            "colorbar": {
             "outlinewidth": 0,
             "ticks": ""
            },
            "colorscale": [
             [
              0,
              "#0d0887"
             ],
             [
              0.1111111111111111,
              "#46039f"
             ],
             [
              0.2222222222222222,
              "#7201a8"
             ],
             [
              0.3333333333333333,
              "#9c179e"
             ],
             [
              0.4444444444444444,
              "#bd3786"
             ],
             [
              0.5555555555555556,
              "#d8576b"
             ],
             [
              0.6666666666666666,
              "#ed7953"
             ],
             [
              0.7777777777777778,
              "#fb9f3a"
             ],
             [
              0.8888888888888888,
              "#fdca26"
             ],
             [
              1,
              "#f0f921"
             ]
            ],
            "type": "surface"
           }
          ],
          "table": [
           {
            "cells": {
             "fill": {
              "color": "#EBF0F8"
             },
             "line": {
              "color": "white"
             }
            },
            "header": {
             "fill": {
              "color": "#C8D4E3"
             },
             "line": {
              "color": "white"
             }
            },
            "type": "table"
           }
          ]
         },
         "layout": {
          "annotationdefaults": {
           "arrowcolor": "#2a3f5f",
           "arrowhead": 0,
           "arrowwidth": 1
          },
          "autotypenumbers": "strict",
          "coloraxis": {
           "colorbar": {
            "outlinewidth": 0,
            "ticks": ""
           }
          },
          "colorscale": {
           "diverging": [
            [
             0,
             "#8e0152"
            ],
            [
             0.1,
             "#c51b7d"
            ],
            [
             0.2,
             "#de77ae"
            ],
            [
             0.3,
             "#f1b6da"
            ],
            [
             0.4,
             "#fde0ef"
            ],
            [
             0.5,
             "#f7f7f7"
            ],
            [
             0.6,
             "#e6f5d0"
            ],
            [
             0.7,
             "#b8e186"
            ],
            [
             0.8,
             "#7fbc41"
            ],
            [
             0.9,
             "#4d9221"
            ],
            [
             1,
             "#276419"
            ]
           ],
           "sequential": [
            [
             0,
             "#0d0887"
            ],
            [
             0.1111111111111111,
             "#46039f"
            ],
            [
             0.2222222222222222,
             "#7201a8"
            ],
            [
             0.3333333333333333,
             "#9c179e"
            ],
            [
             0.4444444444444444,
             "#bd3786"
            ],
            [
             0.5555555555555556,
             "#d8576b"
            ],
            [
             0.6666666666666666,
             "#ed7953"
            ],
            [
             0.7777777777777778,
             "#fb9f3a"
            ],
            [
             0.8888888888888888,
             "#fdca26"
            ],
            [
             1,
             "#f0f921"
            ]
           ],
           "sequentialminus": [
            [
             0,
             "#0d0887"
            ],
            [
             0.1111111111111111,
             "#46039f"
            ],
            [
             0.2222222222222222,
             "#7201a8"
            ],
            [
             0.3333333333333333,
             "#9c179e"
            ],
            [
             0.4444444444444444,
             "#bd3786"
            ],
            [
             0.5555555555555556,
             "#d8576b"
            ],
            [
             0.6666666666666666,
             "#ed7953"
            ],
            [
             0.7777777777777778,
             "#fb9f3a"
            ],
            [
             0.8888888888888888,
             "#fdca26"
            ],
            [
             1,
             "#f0f921"
            ]
           ]
          },
          "colorway": [
           "#636efa",
           "#EF553B",
           "#00cc96",
           "#ab63fa",
           "#FFA15A",
           "#19d3f3",
           "#FF6692",
           "#B6E880",
           "#FF97FF",
           "#FECB52"
          ],
          "font": {
           "color": "#2a3f5f"
          },
          "geo": {
           "bgcolor": "white",
           "lakecolor": "white",
           "landcolor": "#E5ECF6",
           "showlakes": true,
           "showland": true,
           "subunitcolor": "white"
          },
          "hoverlabel": {
           "align": "left"
          },
          "hovermode": "closest",
          "mapbox": {
           "style": "light"
          },
          "paper_bgcolor": "white",
          "plot_bgcolor": "#E5ECF6",
          "polar": {
           "angularaxis": {
            "gridcolor": "white",
            "linecolor": "white",
            "ticks": ""
           },
           "bgcolor": "#E5ECF6",
           "radialaxis": {
            "gridcolor": "white",
            "linecolor": "white",
            "ticks": ""
           }
          },
          "scene": {
           "xaxis": {
            "backgroundcolor": "#E5ECF6",
            "gridcolor": "white",
            "gridwidth": 2,
            "linecolor": "white",
            "showbackground": true,
            "ticks": "",
            "zerolinecolor": "white"
           },
           "yaxis": {
            "backgroundcolor": "#E5ECF6",
            "gridcolor": "white",
            "gridwidth": 2,
            "linecolor": "white",
            "showbackground": true,
            "ticks": "",
            "zerolinecolor": "white"
           },
           "zaxis": {
            "backgroundcolor": "#E5ECF6",
            "gridcolor": "white",
            "gridwidth": 2,
            "linecolor": "white",
            "showbackground": true,
            "ticks": "",
            "zerolinecolor": "white"
           }
          },
          "shapedefaults": {
           "line": {
            "color": "#2a3f5f"
           }
          },
          "ternary": {
           "aaxis": {
            "gridcolor": "white",
            "linecolor": "white",
            "ticks": ""
           },
           "baxis": {
            "gridcolor": "white",
            "linecolor": "white",
            "ticks": ""
           },
           "bgcolor": "#E5ECF6",
           "caxis": {
            "gridcolor": "white",
            "linecolor": "white",
            "ticks": ""
           }
          },
          "title": {
           "x": 0.05
          },
          "xaxis": {
           "automargin": true,
           "gridcolor": "white",
           "linecolor": "white",
           "ticks": "",
           "title": {
            "standoff": 15
           },
           "zerolinecolor": "white",
           "zerolinewidth": 2
          },
          "yaxis": {
           "automargin": true,
           "gridcolor": "white",
           "linecolor": "white",
           "ticks": "",
           "title": {
            "standoff": 15
           },
           "zerolinecolor": "white",
           "zerolinewidth": 2
          }
         }
        },
        "xaxis": {
         "anchor": "y",
         "domain": [
          0,
          1
         ],
         "title": {
          "text": "revenue"
         }
        },
        "yaxis": {
         "anchor": "x",
         "domain": [
          0,
          1
         ],
         "title": {
          "text": "count"
         }
        }
       }
      },
      "text/html": [
       "<div>                        <script type=\"text/javascript\">window.PlotlyConfig = {MathJaxConfig: 'local'};</script>\n",
       "        <script charset=\"utf-8\" src=\"https://cdn.plot.ly/plotly-2.26.0.min.js\"></script>                <div id=\"4b408f63-0a8d-4d44-8cd4-bd78e3436f4c\" class=\"plotly-graph-div\" style=\"height:100%; width:100%;\"></div>            <script type=\"text/javascript\">                                    window.PLOTLYENV=window.PLOTLYENV || {};                                    if (document.getElementById(\"4b408f63-0a8d-4d44-8cd4-bd78e3436f4c\")) {                    Plotly.newPlot(                        \"4b408f63-0a8d-4d44-8cd4-bd78e3436f4c\",                        [{\"alignmentgroup\":\"True\",\"bingroup\":\"x\",\"hovertemplate\":\"revenue=%{x}\\u003cbr\\u003ecount=%{y}\\u003cextra\\u003e\\u003c\\u002fextra\\u003e\",\"legendgroup\":\"\",\"marker\":{\"color\":\"#636efa\",\"pattern\":{\"shape\":\"\"}},\"name\":\"\",\"offsetgroup\":\"\",\"orientation\":\"v\",\"showlegend\":false,\"x\":[\"$360,617\",\"$340,328\",\"$650,420\",\"\\u2014\",\"$398,154\",\"$507,012\",\"$437,313\",\"$401,328\",\"$401,328\",\"$482,146\",\"$528,637\",\"$613,284\",\"$413,622\",\"$647,923\",\"$720,940\",\"$551,051\",\"$502,689\",\"$555,207\",\"\\u2014\",\"$608,438\",\"$690,959\",\"\\u2014\",\"\\u2014\",\"\\u2014\",\"$2,540,906\",\"\\u2014\",\"$512,487\",\"\\u2014\",\"\\u2014\",\"\\u2014\",\"\\u2014\",\"\\u2014\",\"\\u2014\",\"\\u2014\",\"\\u2014\",\"\\u2014\",\"\\u2014\",\"\\u2014\",\"$976,062\",\"$296,306\",\"\\u2014\",\"\\u2014\",\"\\u2014\",\"\\u2014\",\"\\u2014\",\"\\u2014\",\"\\u2014\",\"\\u2014\",\"$642,387\",\"$628,062\",\"$654,089\",\"\\u2014\",\"\\u2014\",\"\\u2014\",\"$743,492\",\"$634,876\",\"$1,150,896\",\"$1,150,896\",\"$623,975\",\"\\u2014\",\"\\u2014\",\"$956,505\",\"$2,030,640\",\"$2,030,640\",\"$555,396\",\"$1,627,510\",\"$1,627,510\",\"$585,352\",\"\\u2014\",\"$793,049\",\"$598,581\",\"$777,442\",\"$642,705\",\"$742,954\",\"$501,169\",\"$2,002,321\",\"$2,002,321\",\"$664,305\",\"$1,711,591\",\"$1,711,591\",\"$645,592\",\"$675,184\",\"$610,801\",\"$761,110\",\"$1,497,135\",\"$1,497,135\",\"$649,488\",\"$716,726\",\"$1,736,197\",\"$1,736,197\",\"$1,024,223\",\"$755,475\",\"$752,303\",\"$738,280\",\"$846,111\",\"$610,668\",\"$1,742,669\",\"$1,742,669\",\"$1,713,529\",\"$1,713,529\",\"$873,206\",\"$2,497,690\",\"$2,497,690\",\"$1,290,926\",\"$1,290,926\",\"\\u2014\",\"$1,824,743\",\"$1,824,743\",\"$3,726,157\",\"\\u2014\",\"\\u2014\",\"$916,850\",\"$385,374\",\"$758,113\",\"$1,738,227\",\"$1,738,227\",\"$859,037\",\"$1,030,633\",\"$219,212\",\"$248,314\",\"$815,246\",\"$370,028\",\"$153,303\",\"$201,781\",\"$251,864\",\"$508,854\",\"$379,001\",\"$419,806\",\"$580,558\",\"$891,152\",\"$1,717,104\",\"$1,717,104\",\"$862,771\",\"$1,582,951\",\"$1,582,951\",\"$791,980\",\"$955,259\",\"$897,042\",\"$3,453,549\",\"$1,913,737\",\"$1,913,737\",\"$4,009,118\",\"$966,749\",\"$810,165\",\"$8,026,350\",\"$8,026,350\",\"$990,701\",\"$903,875\",\"$1,254,230\",\"$3,036,000\",\"$3,036,000\",\"$3,875,463\",\"$3,875,463\",\"$3,875,463\",\"$3,875,463\",\"$724,854\",\"$877,175\",\"$976,954\",\"$2,068,789\",\"$2,068,789\",\"$4,268,678\",\"$1,909,603\",\"$1,909,603\",\"$1,850,159\",\"$1,850,159\",\"$2,136,270\",\"$2,136,270\",\"$3,927,154\",\"$3,927,154\",\"$3,927,154\",\"$3,927,154\",\"$1,825,448\",\"$1,825,448\",\"$934,326\",\"$903,445\",\"$1,289,430\",\"$2,190,680\",\"$2,190,680\",\"$1,841,134\",\"$1,841,134\",\"$728,546\",\"$907,573\",\"$3,148,046\",\"$834,916\",\"$896,946\",\"$1,726,661\",\"$1,726,661\",\"$856,123\",\"$830,289\",\"$4,337,062\",\"$1,003,828\",\"$710,426\",\"$758,364\",\"$792,634\",\"$1,826,025\",\"$1,826,025\",\"$901,535\",\"$752,078\",\"$1,041,935\",\"$820,036\",\"$3,435,756\",\"$749,099\",\"$914,300\",\"$786,904\",\"$920,903\",\"$866,056\",\"$828,231\",\"$1,988,411\",\"$1,988,411\",\"$1,878,530\",\"$1,075,370\",\"$2,416,030\",\"$2,416,030\",\"$3,420,360\",\"$3,420,360\",\"$4,151,650\",\"$4,151,650\",\"$4,151,650\",\"$2,888,560\",\"$2,888,560\",\"$2,888,560\",\"$2,243,164\",\"$2,243,164\",\"$2,346,203\",\"$2,346,203\",\"$1,162,733\",\"$996,114\",\"$3,565,317\",\"$3,565,317\",\"$3,565,317\",\"$1,010,175\",\"$2,054,128\",\"$2,054,128\",\"$2,048,023\",\"$2,048,023\",\"$1,132,095\",\"$1,247,605\",\"$1,082,042\",\"$1,342,699\",\"$3,969,059\",\"$1,246,491\",\"$1,155,170\",\"$2,489,205\",\"$2,489,205\",\"$961,422\",\"$935,631\",\"$1,105,253\",\"$4,589,266\",\"$2,239,370\",\"$2,239,370\",\"$1,139,360\",\"$1,076,069\",\"$7,863,310\",\"$7,863,310\",\"$3,175,430\",\"$2,379,870\",\"$2,379,870\",\"$3,974,410\",\"$4,718,518\",\"$4,670,011\",\"$8,822,335\",\"$8,822,335\",\"$9,464,063\",\"$9,464,063\",\"$1,075,576\",\"$2,093,172\",\"$2,093,172\",\"$983,882\",\"$868,955\",\"$4,149,148\",\"$948,541\",\"$4,734,463\",\"$4,734,463\",\"$4,734,463\",\"$4,734,463\",\"$1,138,103\",\"$1,084,760\",\"$1,584,049\",\"$1,661,578\",\"$2,320,937\",\"$2,320,937\",\"$1,109,253\",\"$1,088,612\",\"$997,216\",\"$3,336,545\",\"$3,336,545\",\"$3,336,545\",\"$3,100,290\",\"$3,100,290\",\"$3,100,290\",\"$4,096,060\",\"$3,895,810\",\"$2,364,080\",\"$4,547,250\",\"$5,829,240\",\"$5,829,240\",\"$5,829,240\",\"$755,006\",null,null,\"$1,864,934\",\"$1,837,147\",\"$1,481,473\",\"$1,511,662\",\"$2,524,080\",\"$998,608\",null,\"$10,586,828\",\"$10,586,828\",\"\\u2014\",\"$1,458,197\",\"$4,119,670\",\"$5,999,690\",\"$1,863,281\",\"$1,732,041\",\"$5,836,926\",\"$1,627,798\",\"$1,653,762\",\"$11,987,816\",\"$11,987,816\",\"$2,054,690\",\"$2,054,690\",\"$800,829\",\"$1,119,300\",\"$1,478,760\",\"\\u2014\",\"$1,975,510\",\"$1,975,510\",\"$1,325,480\",\"$1,499,040\",\"$13,423,858\",\"$13,423,858\",\"$9,730,596\",\"$9,730,596\",\"$11,469,887\",\"$11,469,887\",\"$12,533,166\",\"$12,533,166\",\"$4,081,820\",\"$2,387,080\",\"$2,387,080\",\"$6,050,643\",\"$13,031,146\",\"$13,031,146\",\"$3,029,628\",\"$3,029,628\",\"$8,961,681\",\"$8,961,681\",\"$8,961,681\",\"$8,961,681\",\"$8,961,681\",\"$5,475,237\",\"$1,589,686\",\"$2,868,991\",\"$2,868,991\",\"$5,202,196\",\"$5,514,863\",\"$5,514,863\",\"$5,514,863\",\"$1,550,268\",\"$3,369,693\",\"$3,369,693\",\"$2,967,558\",\"$2,967,558\",\"$3,354,844\",\"$3,354,844\",\"$3,452,940\",\"$3,452,940\",\"$8,670,990\",\"$8,670,990\",\"$1,566,321\",\"$3,121,421\",\"$3,121,421\",\"$2,219,188\",\"$7,396,733\",\"$1,870,471\",\"$1,662,171\",\"$6,034,846\",\"$1,527,919\",\"$6,202,515\",\"$3,217,569\",\"$3,217,569\",\"$5,917,348\",\"$5,917,348\",\"$5,917,348\",\"$6,571,683\",\"$4,759,471\",\"$2,407,499\",\"$2,407,499\",\"$10,421,553\",\"$10,421,553\",\"$10,421,553\",\"$7,214,478\",\"$14,006,963\",\"$14,006,963\",\"$16,251,980\",\"$16,251,980\",\"$8,672,219\",\"$7,926,366\",\"$14,576,697\",\"$14,576,697\",\"$6,169,724\",\"$6,169,724\",\"$8,567,769\",\"$8,567,769\",\"$12,214,933\",\"$12,214,933\",\"$4,928,219\",\"$6,606,529\",\"$11,396,004\",\"$11,396,004\",\"$11,951,047\",\"$11,951,047\",\"$5,148,757\",\"$22,031,386\",\"$22,031,386\",\"$22,031,386\",\"$21,779,846\",\"$21,779,846\",\"$21,779,846\",\"$11,177,000\",\"$11,177,000\",\"$6,230,876\",\"$18,089,415\",\"$18,089,415\",\"$7,244,264\",\"$7,072,164\",\"$9,007,179\",\"$6,597,852\",\"$10,242,024\",\"$10,242,024\",\"$6,730,138\",\"$6,531,245\",\"$4,884,054\",\"$6,491,546\",\"$9,350,275\",\"$15,006,157\",\"$15,006,157\",\"$4,153,658\",\"$6,755,570\",\"$7,686,564\",\"$4,338,127\",\"$3,617,593\",\"$14,859,847\",\"$14,859,847\"],\"xaxis\":\"x\",\"yaxis\":\"y\",\"type\":\"histogram\"}],                        {\"template\":{\"data\":{\"histogram2dcontour\":[{\"type\":\"histogram2dcontour\",\"colorbar\":{\"outlinewidth\":0,\"ticks\":\"\"},\"colorscale\":[[0.0,\"#0d0887\"],[0.1111111111111111,\"#46039f\"],[0.2222222222222222,\"#7201a8\"],[0.3333333333333333,\"#9c179e\"],[0.4444444444444444,\"#bd3786\"],[0.5555555555555556,\"#d8576b\"],[0.6666666666666666,\"#ed7953\"],[0.7777777777777778,\"#fb9f3a\"],[0.8888888888888888,\"#fdca26\"],[1.0,\"#f0f921\"]]}],\"choropleth\":[{\"type\":\"choropleth\",\"colorbar\":{\"outlinewidth\":0,\"ticks\":\"\"}}],\"histogram2d\":[{\"type\":\"histogram2d\",\"colorbar\":{\"outlinewidth\":0,\"ticks\":\"\"},\"colorscale\":[[0.0,\"#0d0887\"],[0.1111111111111111,\"#46039f\"],[0.2222222222222222,\"#7201a8\"],[0.3333333333333333,\"#9c179e\"],[0.4444444444444444,\"#bd3786\"],[0.5555555555555556,\"#d8576b\"],[0.6666666666666666,\"#ed7953\"],[0.7777777777777778,\"#fb9f3a\"],[0.8888888888888888,\"#fdca26\"],[1.0,\"#f0f921\"]]}],\"heatmap\":[{\"type\":\"heatmap\",\"colorbar\":{\"outlinewidth\":0,\"ticks\":\"\"},\"colorscale\":[[0.0,\"#0d0887\"],[0.1111111111111111,\"#46039f\"],[0.2222222222222222,\"#7201a8\"],[0.3333333333333333,\"#9c179e\"],[0.4444444444444444,\"#bd3786\"],[0.5555555555555556,\"#d8576b\"],[0.6666666666666666,\"#ed7953\"],[0.7777777777777778,\"#fb9f3a\"],[0.8888888888888888,\"#fdca26\"],[1.0,\"#f0f921\"]]}],\"heatmapgl\":[{\"type\":\"heatmapgl\",\"colorbar\":{\"outlinewidth\":0,\"ticks\":\"\"},\"colorscale\":[[0.0,\"#0d0887\"],[0.1111111111111111,\"#46039f\"],[0.2222222222222222,\"#7201a8\"],[0.3333333333333333,\"#9c179e\"],[0.4444444444444444,\"#bd3786\"],[0.5555555555555556,\"#d8576b\"],[0.6666666666666666,\"#ed7953\"],[0.7777777777777778,\"#fb9f3a\"],[0.8888888888888888,\"#fdca26\"],[1.0,\"#f0f921\"]]}],\"contourcarpet\":[{\"type\":\"contourcarpet\",\"colorbar\":{\"outlinewidth\":0,\"ticks\":\"\"}}],\"contour\":[{\"type\":\"contour\",\"colorbar\":{\"outlinewidth\":0,\"ticks\":\"\"},\"colorscale\":[[0.0,\"#0d0887\"],[0.1111111111111111,\"#46039f\"],[0.2222222222222222,\"#7201a8\"],[0.3333333333333333,\"#9c179e\"],[0.4444444444444444,\"#bd3786\"],[0.5555555555555556,\"#d8576b\"],[0.6666666666666666,\"#ed7953\"],[0.7777777777777778,\"#fb9f3a\"],[0.8888888888888888,\"#fdca26\"],[1.0,\"#f0f921\"]]}],\"surface\":[{\"type\":\"surface\",\"colorbar\":{\"outlinewidth\":0,\"ticks\":\"\"},\"colorscale\":[[0.0,\"#0d0887\"],[0.1111111111111111,\"#46039f\"],[0.2222222222222222,\"#7201a8\"],[0.3333333333333333,\"#9c179e\"],[0.4444444444444444,\"#bd3786\"],[0.5555555555555556,\"#d8576b\"],[0.6666666666666666,\"#ed7953\"],[0.7777777777777778,\"#fb9f3a\"],[0.8888888888888888,\"#fdca26\"],[1.0,\"#f0f921\"]]}],\"mesh3d\":[{\"type\":\"mesh3d\",\"colorbar\":{\"outlinewidth\":0,\"ticks\":\"\"}}],\"scatter\":[{\"fillpattern\":{\"fillmode\":\"overlay\",\"size\":10,\"solidity\":0.2},\"type\":\"scatter\"}],\"parcoords\":[{\"type\":\"parcoords\",\"line\":{\"colorbar\":{\"outlinewidth\":0,\"ticks\":\"\"}}}],\"scatterpolargl\":[{\"type\":\"scatterpolargl\",\"marker\":{\"colorbar\":{\"outlinewidth\":0,\"ticks\":\"\"}}}],\"bar\":[{\"error_x\":{\"color\":\"#2a3f5f\"},\"error_y\":{\"color\":\"#2a3f5f\"},\"marker\":{\"line\":{\"color\":\"#E5ECF6\",\"width\":0.5},\"pattern\":{\"fillmode\":\"overlay\",\"size\":10,\"solidity\":0.2}},\"type\":\"bar\"}],\"scattergeo\":[{\"type\":\"scattergeo\",\"marker\":{\"colorbar\":{\"outlinewidth\":0,\"ticks\":\"\"}}}],\"scatterpolar\":[{\"type\":\"scatterpolar\",\"marker\":{\"colorbar\":{\"outlinewidth\":0,\"ticks\":\"\"}}}],\"histogram\":[{\"marker\":{\"pattern\":{\"fillmode\":\"overlay\",\"size\":10,\"solidity\":0.2}},\"type\":\"histogram\"}],\"scattergl\":[{\"type\":\"scattergl\",\"marker\":{\"colorbar\":{\"outlinewidth\":0,\"ticks\":\"\"}}}],\"scatter3d\":[{\"type\":\"scatter3d\",\"line\":{\"colorbar\":{\"outlinewidth\":0,\"ticks\":\"\"}},\"marker\":{\"colorbar\":{\"outlinewidth\":0,\"ticks\":\"\"}}}],\"scattermapbox\":[{\"type\":\"scattermapbox\",\"marker\":{\"colorbar\":{\"outlinewidth\":0,\"ticks\":\"\"}}}],\"scatterternary\":[{\"type\":\"scatterternary\",\"marker\":{\"colorbar\":{\"outlinewidth\":0,\"ticks\":\"\"}}}],\"scattercarpet\":[{\"type\":\"scattercarpet\",\"marker\":{\"colorbar\":{\"outlinewidth\":0,\"ticks\":\"\"}}}],\"carpet\":[{\"aaxis\":{\"endlinecolor\":\"#2a3f5f\",\"gridcolor\":\"white\",\"linecolor\":\"white\",\"minorgridcolor\":\"white\",\"startlinecolor\":\"#2a3f5f\"},\"baxis\":{\"endlinecolor\":\"#2a3f5f\",\"gridcolor\":\"white\",\"linecolor\":\"white\",\"minorgridcolor\":\"white\",\"startlinecolor\":\"#2a3f5f\"},\"type\":\"carpet\"}],\"table\":[{\"cells\":{\"fill\":{\"color\":\"#EBF0F8\"},\"line\":{\"color\":\"white\"}},\"header\":{\"fill\":{\"color\":\"#C8D4E3\"},\"line\":{\"color\":\"white\"}},\"type\":\"table\"}],\"barpolar\":[{\"marker\":{\"line\":{\"color\":\"#E5ECF6\",\"width\":0.5},\"pattern\":{\"fillmode\":\"overlay\",\"size\":10,\"solidity\":0.2}},\"type\":\"barpolar\"}],\"pie\":[{\"automargin\":true,\"type\":\"pie\"}]},\"layout\":{\"autotypenumbers\":\"strict\",\"colorway\":[\"#636efa\",\"#EF553B\",\"#00cc96\",\"#ab63fa\",\"#FFA15A\",\"#19d3f3\",\"#FF6692\",\"#B6E880\",\"#FF97FF\",\"#FECB52\"],\"font\":{\"color\":\"#2a3f5f\"},\"hovermode\":\"closest\",\"hoverlabel\":{\"align\":\"left\"},\"paper_bgcolor\":\"white\",\"plot_bgcolor\":\"#E5ECF6\",\"polar\":{\"bgcolor\":\"#E5ECF6\",\"angularaxis\":{\"gridcolor\":\"white\",\"linecolor\":\"white\",\"ticks\":\"\"},\"radialaxis\":{\"gridcolor\":\"white\",\"linecolor\":\"white\",\"ticks\":\"\"}},\"ternary\":{\"bgcolor\":\"#E5ECF6\",\"aaxis\":{\"gridcolor\":\"white\",\"linecolor\":\"white\",\"ticks\":\"\"},\"baxis\":{\"gridcolor\":\"white\",\"linecolor\":\"white\",\"ticks\":\"\"},\"caxis\":{\"gridcolor\":\"white\",\"linecolor\":\"white\",\"ticks\":\"\"}},\"coloraxis\":{\"colorbar\":{\"outlinewidth\":0,\"ticks\":\"\"}},\"colorscale\":{\"sequential\":[[0.0,\"#0d0887\"],[0.1111111111111111,\"#46039f\"],[0.2222222222222222,\"#7201a8\"],[0.3333333333333333,\"#9c179e\"],[0.4444444444444444,\"#bd3786\"],[0.5555555555555556,\"#d8576b\"],[0.6666666666666666,\"#ed7953\"],[0.7777777777777778,\"#fb9f3a\"],[0.8888888888888888,\"#fdca26\"],[1.0,\"#f0f921\"]],\"sequentialminus\":[[0.0,\"#0d0887\"],[0.1111111111111111,\"#46039f\"],[0.2222222222222222,\"#7201a8\"],[0.3333333333333333,\"#9c179e\"],[0.4444444444444444,\"#bd3786\"],[0.5555555555555556,\"#d8576b\"],[0.6666666666666666,\"#ed7953\"],[0.7777777777777778,\"#fb9f3a\"],[0.8888888888888888,\"#fdca26\"],[1.0,\"#f0f921\"]],\"diverging\":[[0,\"#8e0152\"],[0.1,\"#c51b7d\"],[0.2,\"#de77ae\"],[0.3,\"#f1b6da\"],[0.4,\"#fde0ef\"],[0.5,\"#f7f7f7\"],[0.6,\"#e6f5d0\"],[0.7,\"#b8e186\"],[0.8,\"#7fbc41\"],[0.9,\"#4d9221\"],[1,\"#276419\"]]},\"xaxis\":{\"gridcolor\":\"white\",\"linecolor\":\"white\",\"ticks\":\"\",\"title\":{\"standoff\":15},\"zerolinecolor\":\"white\",\"automargin\":true,\"zerolinewidth\":2},\"yaxis\":{\"gridcolor\":\"white\",\"linecolor\":\"white\",\"ticks\":\"\",\"title\":{\"standoff\":15},\"zerolinecolor\":\"white\",\"automargin\":true,\"zerolinewidth\":2},\"scene\":{\"xaxis\":{\"backgroundcolor\":\"#E5ECF6\",\"gridcolor\":\"white\",\"linecolor\":\"white\",\"showbackground\":true,\"ticks\":\"\",\"zerolinecolor\":\"white\",\"gridwidth\":2},\"yaxis\":{\"backgroundcolor\":\"#E5ECF6\",\"gridcolor\":\"white\",\"linecolor\":\"white\",\"showbackground\":true,\"ticks\":\"\",\"zerolinecolor\":\"white\",\"gridwidth\":2},\"zaxis\":{\"backgroundcolor\":\"#E5ECF6\",\"gridcolor\":\"white\",\"linecolor\":\"white\",\"showbackground\":true,\"ticks\":\"\",\"zerolinecolor\":\"white\",\"gridwidth\":2}},\"shapedefaults\":{\"line\":{\"color\":\"#2a3f5f\"}},\"annotationdefaults\":{\"arrowcolor\":\"#2a3f5f\",\"arrowhead\":0,\"arrowwidth\":1},\"geo\":{\"bgcolor\":\"white\",\"landcolor\":\"#E5ECF6\",\"subunitcolor\":\"white\",\"showland\":true,\"showlakes\":true,\"lakecolor\":\"white\"},\"title\":{\"x\":0.05},\"mapbox\":{\"style\":\"light\"}}},\"xaxis\":{\"anchor\":\"y\",\"domain\":[0.0,1.0],\"title\":{\"text\":\"revenue\"}},\"yaxis\":{\"anchor\":\"x\",\"domain\":[0.0,1.0],\"title\":{\"text\":\"count\"}},\"legend\":{\"tracegroupgap\":0},\"margin\":{\"t\":60},\"barmode\":\"relative\"},                        {\"responsive\": true}                    )                };                            </script>        </div>"
      ],
      "text/plain": [
       "Figure({\n",
       "    'data': [{'alignmentgroup': 'True',\n",
       "              'bingroup': 'x',\n",
       "              'hovertemplate': 'revenue=%{x}<br>count=%{y}<extra></extra>',\n",
       "              'legendgroup': '',\n",
       "              'marker': {'color': '#636efa', 'pattern': {'shape': ''}},\n",
       "              'name': '',\n",
       "              'offsetgroup': '',\n",
       "              'orientation': 'v',\n",
       "              'showlegend': False,\n",
       "              'type': 'histogram',\n",
       "              'x': array(['$360,617', '$340,328', '$650,420', ..., '$3,617,593', '$14,859,847',\n",
       "                          '$14,859,847'], dtype=object),\n",
       "              'xaxis': 'x',\n",
       "              'yaxis': 'y'}],\n",
       "    'layout': {'barmode': 'relative',\n",
       "               'legend': {'tracegroupgap': 0},\n",
       "               'margin': {'t': 60},\n",
       "               'template': '...',\n",
       "               'xaxis': {'anchor': 'y', 'domain': [0.0, 1.0], 'title': {'text': 'revenue'}},\n",
       "               'yaxis': {'anchor': 'x', 'domain': [0.0, 1.0], 'title': {'text': 'count'}}}\n",
       "})"
      ]
     },
     "execution_count": 254,
     "metadata": {},
     "output_type": "execute_result"
    }
   ],
   "source": [
    "px.histogram(df, 'revenue')"
   ]
  },
  {
   "cell_type": "code",
   "execution_count": null,
   "metadata": {},
   "outputs": [
    {
     "name": "stdout",
     "output_type": "stream",
     "text": [
      "<class 'pandas.core.frame.DataFrame'>\n",
      "RangeIndex: 445 entries, 0 to 444\n",
      "Data columns (total 7 columns):\n",
      " #   Column                                 Non-Null Count  Dtype \n",
      "---  ------                                 --------------  ----- \n",
      " 0   city                                   445 non-null    object\n",
      " 1   country                                445 non-null    object\n",
      " 2   venue                                  445 non-null    object\n",
      " 3   opening_act(s)                         444 non-null    object\n",
      " 4   attendance_(tickets_sold_/_available)  442 non-null    object\n",
      " 5   revenue                                442 non-null    object\n",
      " 6   tour                                   445 non-null    object\n",
      "dtypes: object(7)\n",
      "memory usage: 24.5+ KB\n"
     ]
    }
   ],
   "source": [
    "df.info()"
   ]
  }
 ],
 "metadata": {
  "kernelspec": {
   "display_name": "Python 3",
   "language": "python",
   "name": "python3"
  },
  "language_info": {
   "codemirror_mode": {
    "name": "ipython",
    "version": 3
   },
   "file_extension": ".py",
   "mimetype": "text/x-python",
   "name": "python",
   "nbconvert_exporter": "python",
   "pygments_lexer": "ipython3",
   "version": "3.11.5"
  },
  "orig_nbformat": 4
 },
 "nbformat": 4,
 "nbformat_minor": 2
}
