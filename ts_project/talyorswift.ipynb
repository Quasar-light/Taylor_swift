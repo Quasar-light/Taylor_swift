{
 "cells": [
  {
   "cell_type": "markdown",
   "metadata": {},
   "source": [
    "## Step 1: Set Up Imports"
   ]
  },
  {
   "cell_type": "code",
   "execution_count": 36,
   "metadata": {},
   "outputs": [],
   "source": [
    "import pandas as pd\n",
    "import plotly.express as px\n",
    "import numpy as np"
   ]
  },
  {
   "cell_type": "markdown",
   "metadata": {},
   "source": [
    "## Step 1b: Import the data (issue with encoder)"
   ]
  },
  {
   "cell_type": "code",
   "execution_count": 37,
   "metadata": {},
   "outputs": [
    {
     "data": {
      "text/html": [
       "<div>\n",
       "<style scoped>\n",
       "    .dataframe tbody tr th:only-of-type {\n",
       "        vertical-align: middle;\n",
       "    }\n",
       "\n",
       "    .dataframe tbody tr th {\n",
       "        vertical-align: top;\n",
       "    }\n",
       "\n",
       "    .dataframe thead th {\n",
       "        text-align: right;\n",
       "    }\n",
       "</style>\n",
       "<table border=\"1\" class=\"dataframe\">\n",
       "  <thead>\n",
       "    <tr style=\"text-align: right;\">\n",
       "      <th></th>\n",
       "      <th>City</th>\n",
       "      <th>Country</th>\n",
       "      <th>Venue</th>\n",
       "      <th>Opening act(s)</th>\n",
       "      <th>Attendance (tickets sold / available)</th>\n",
       "      <th>Revenue</th>\n",
       "      <th>Tour</th>\n",
       "    </tr>\n",
       "  </thead>\n",
       "  <tbody>\n",
       "    <tr>\n",
       "      <th>0</th>\n",
       "      <td>Evansville</td>\n",
       "      <td>United States</td>\n",
       "      <td>Roberts Municipal Stadium</td>\n",
       "      <td>Gloriana\\r\\nKellie Pickler</td>\n",
       "      <td>7,463 / 7,463</td>\n",
       "      <td>$360,617</td>\n",
       "      <td>Fearless_Tour</td>\n",
       "    </tr>\n",
       "    <tr>\n",
       "      <th>1</th>\n",
       "      <td>Jonesboro</td>\n",
       "      <td>United States</td>\n",
       "      <td>Convocation Center</td>\n",
       "      <td>Gloriana\\r\\nKellie Pickler</td>\n",
       "      <td>7,822 / 7,822</td>\n",
       "      <td>$340,328</td>\n",
       "      <td>Fearless_Tour</td>\n",
       "    </tr>\n",
       "    <tr>\n",
       "      <th>2</th>\n",
       "      <td>St. Louis</td>\n",
       "      <td>United States</td>\n",
       "      <td>Scottrade Center</td>\n",
       "      <td>Gloriana\\r\\nKellie Pickler</td>\n",
       "      <td>13,764 / 13,764</td>\n",
       "      <td>$650,420</td>\n",
       "      <td>Fearless_Tour</td>\n",
       "    </tr>\n",
       "    <tr>\n",
       "      <th>3</th>\n",
       "      <td>Alexandria</td>\n",
       "      <td>United States</td>\n",
       "      <td>Bishop Ireton High School</td>\n",
       "      <td>Gloriana\\r\\nKellie Pickler</td>\n",
       "      <td>—</td>\n",
       "      <td>—</td>\n",
       "      <td>Fearless_Tour</td>\n",
       "    </tr>\n",
       "    <tr>\n",
       "      <th>4</th>\n",
       "      <td>North Charleston</td>\n",
       "      <td>United States</td>\n",
       "      <td>North Charleston Coliseum</td>\n",
       "      <td>Gloriana\\r\\nKellie Pickler</td>\n",
       "      <td>8,751 / 8,751</td>\n",
       "      <td>$398,154</td>\n",
       "      <td>Fearless_Tour</td>\n",
       "    </tr>\n",
       "  </tbody>\n",
       "</table>\n",
       "</div>"
      ],
      "text/plain": [
       "               City        Country                      Venue  \\\n",
       "0        Evansville  United States  Roberts Municipal Stadium   \n",
       "1         Jonesboro  United States         Convocation Center   \n",
       "2         St. Louis  United States           Scottrade Center   \n",
       "3        Alexandria  United States  Bishop Ireton High School   \n",
       "4  North Charleston  United States  North Charleston Coliseum   \n",
       "\n",
       "               Opening act(s) Attendance (tickets sold / available)   Revenue  \\\n",
       "0  Gloriana\\r\\nKellie Pickler                         7,463 / 7,463  $360,617   \n",
       "1  Gloriana\\r\\nKellie Pickler                         7,822 / 7,822  $340,328   \n",
       "2  Gloriana\\r\\nKellie Pickler                       13,764 / 13,764  $650,420   \n",
       "3  Gloriana\\r\\nKellie Pickler                                     —         —   \n",
       "4  Gloriana\\r\\nKellie Pickler                         8,751 / 8,751  $398,154   \n",
       "\n",
       "            Tour  \n",
       "0  Fearless_Tour  \n",
       "1  Fearless_Tour  \n",
       "2  Fearless_Tour  \n",
       "3  Fearless_Tour  \n",
       "4  Fearless_Tour  "
      ]
     },
     "execution_count": 37,
     "metadata": {},
     "output_type": "execute_result"
    }
   ],
   "source": [
    "#data had an encoding issue. Byte was not compatible with UTF-8\n",
    "#cp1252 was compatible for decoding 0x96 byte\n",
    "\n",
    "df = pd.read_csv('/Users/kali/Documents/GitHub/Taylor_swift/taylor.csv', encoding='cp1252')\n",
    "df.head()"
   ]
  },
  {
   "cell_type": "markdown",
   "metadata": {},
   "source": [
    "## Step 2: Tidy Data"
   ]
  },
  {
   "cell_type": "code",
   "execution_count": 38,
   "metadata": {},
   "outputs": [
    {
     "data": {
      "text/plain": [
       "Index(['city', 'country', 'venue', 'opening_act(s)',\n",
       "       'attendance_(tickets_sold_/_available)', 'revenue', 'tour'],\n",
       "      dtype='object')"
      ]
     },
     "execution_count": 38,
     "metadata": {},
     "output_type": "execute_result"
    }
   ],
   "source": [
    "#Pep 8 compliance: Column headers be snake cased. \n",
    "\n",
    "df.columns = df.columns.str.lower().str.strip().str.replace(' ', '_')\n",
    "df.columns"
   ]
  },
  {
   "cell_type": "markdown",
   "metadata": {},
   "source": [
    "## Step 3:EDA(Exploratory Data Analysis)\n",
    "\n",
    "To gather summary statistics about our dataset we can use the following methods to identify if any further tidying is necessary.\n",
    "\n",
    "* df.describe()\n",
    "\n",
    "* df.info()\n",
    "\n",
    "* df.shape\n",
    "\n",
    "* df.value_counts()"
   ]
  },
  {
   "cell_type": "code",
   "execution_count": 39,
   "metadata": {},
   "outputs": [
    {
     "name": "stdout",
     "output_type": "stream",
     "text": [
      "<class 'pandas.core.frame.DataFrame'>\n",
      "RangeIndex: 445 entries, 0 to 444\n",
      "Data columns (total 7 columns):\n",
      " #   Column                                 Non-Null Count  Dtype \n",
      "---  ------                                 --------------  ----- \n",
      " 0   city                                   445 non-null    object\n",
      " 1   country                                445 non-null    object\n",
      " 2   venue                                  445 non-null    object\n",
      " 3   opening_act(s)                         444 non-null    object\n",
      " 4   attendance_(tickets_sold_/_available)  442 non-null    object\n",
      " 5   revenue                                442 non-null    object\n",
      " 6   tour                                   445 non-null    object\n",
      "dtypes: object(7)\n",
      "memory usage: 24.5+ KB\n"
     ]
    }
   ],
   "source": [
    "df.info()"
   ]
  },
  {
   "cell_type": "markdown",
   "metadata": {},
   "source": [
    "Clean revenue column name"
   ]
  },
  {
   "cell_type": "code",
   "execution_count": 40,
   "metadata": {},
   "outputs": [],
   "source": [
    "df['revenue'] = df['revenue'].str.replace('-', '').str.replace('$', '').str.replace(',', '')"
   ]
  },
  {
   "cell_type": "markdown",
   "metadata": {},
   "source": [
    "change revenue to float data type"
   ]
  },
  {
   "cell_type": "code",
   "execution_count": 41,
   "metadata": {},
   "outputs": [
    {
     "name": "stdout",
     "output_type": "stream",
     "text": [
      "<class 'pandas.core.frame.DataFrame'>\n",
      "RangeIndex: 445 entries, 0 to 444\n",
      "Data columns (total 7 columns):\n",
      " #   Column                                 Non-Null Count  Dtype  \n",
      "---  ------                                 --------------  -----  \n",
      " 0   city                                   445 non-null    object \n",
      " 1   country                                445 non-null    object \n",
      " 2   venue                                  445 non-null    object \n",
      " 3   opening_act(s)                         444 non-null    object \n",
      " 4   attendance_(tickets_sold_/_available)  442 non-null    object \n",
      " 5   revenue                                406 non-null    float64\n",
      " 6   tour                                   445 non-null    object \n",
      "dtypes: float64(1), object(6)\n",
      "memory usage: 24.5+ KB\n"
     ]
    }
   ],
   "source": [
    "#df[\"revenue\"] = df[\"revenue\"].astype(float, errors= 'coerce')\n",
    "\n",
    "df[\"revenue\"] = pd.to_numeric(df[\"revenue\"], errors='coerce')\n",
    "df.info()"
   ]
  },
  {
   "cell_type": "markdown",
   "metadata": {},
   "source": [
    "fill in revenue null values"
   ]
  },
  {
   "cell_type": "code",
   "execution_count": 42,
   "metadata": {},
   "outputs": [],
   "source": [
    "df[\"revenue\"].fillna(df[\"revenue\"].mean(), inplace=True)"
   ]
  },
  {
   "cell_type": "markdown",
   "metadata": {},
   "source": [
    "check revenue filled in Null Values"
   ]
  },
  {
   "cell_type": "code",
   "execution_count": 43,
   "metadata": {},
   "outputs": [
    {
     "data": {
      "text/plain": [
       "city                                     0\n",
       "country                                  0\n",
       "venue                                    0\n",
       "opening_act(s)                           1\n",
       "attendance_(tickets_sold_/_available)    3\n",
       "revenue                                  0\n",
       "tour                                     0\n",
       "dtype: int64"
      ]
     },
     "execution_count": 43,
     "metadata": {},
     "output_type": "execute_result"
    }
   ],
   "source": [
    "df.isna().sum()"
   ]
  },
  {
   "cell_type": "markdown",
   "metadata": {},
   "source": [
    "cleaning column name for attendance_etc,"
   ]
  },
  {
   "cell_type": "code",
   "execution_count": 44,
   "metadata": {},
   "outputs": [
    {
     "name": "stdout",
     "output_type": "stream",
     "text": [
      "<class 'pandas.core.frame.DataFrame'>\n",
      "RangeIndex: 445 entries, 0 to 444\n",
      "Data columns (total 7 columns):\n",
      " #   Column                                 Non-Null Count  Dtype  \n",
      "---  ------                                 --------------  -----  \n",
      " 0   city                                   445 non-null    object \n",
      " 1   country                                445 non-null    object \n",
      " 2   venue                                  445 non-null    object \n",
      " 3   opening_act(s)                         444 non-null    object \n",
      " 4   attendance_(tickets_sold_/_available)  442 non-null    object \n",
      " 5   revenue                                445 non-null    float64\n",
      " 6   tour                                   445 non-null    object \n",
      "dtypes: float64(1), object(6)\n",
      "memory usage: 24.5+ KB\n"
     ]
    }
   ],
   "source": [
    "df.info()"
   ]
  },
  {
   "cell_type": "markdown",
   "metadata": {},
   "source": [
    "First have to create two new columns to get rid of the slash"
   ]
  },
  {
   "cell_type": "code",
   "execution_count": 45,
   "metadata": {},
   "outputs": [
    {
     "data": {
      "text/html": [
       "<div>\n",
       "<style scoped>\n",
       "    .dataframe tbody tr th:only-of-type {\n",
       "        vertical-align: middle;\n",
       "    }\n",
       "\n",
       "    .dataframe tbody tr th {\n",
       "        vertical-align: top;\n",
       "    }\n",
       "\n",
       "    .dataframe thead th {\n",
       "        text-align: right;\n",
       "    }\n",
       "</style>\n",
       "<table border=\"1\" class=\"dataframe\">\n",
       "  <thead>\n",
       "    <tr style=\"text-align: right;\">\n",
       "      <th></th>\n",
       "      <th>city</th>\n",
       "      <th>country</th>\n",
       "      <th>venue</th>\n",
       "      <th>opening_act(s)</th>\n",
       "      <th>attendance_(tickets_sold_/_available)</th>\n",
       "      <th>revenue</th>\n",
       "      <th>tour</th>\n",
       "      <th>tick_sold</th>\n",
       "      <th>tick_avail</th>\n",
       "    </tr>\n",
       "  </thead>\n",
       "  <tbody>\n",
       "    <tr>\n",
       "      <th>0</th>\n",
       "      <td>Evansville</td>\n",
       "      <td>United States</td>\n",
       "      <td>Roberts Municipal Stadium</td>\n",
       "      <td>Gloriana\\r\\nKellie Pickler</td>\n",
       "      <td>7,463 / 7,463</td>\n",
       "      <td>3.606170e+05</td>\n",
       "      <td>Fearless_Tour</td>\n",
       "      <td>7463</td>\n",
       "      <td>7463</td>\n",
       "    </tr>\n",
       "    <tr>\n",
       "      <th>1</th>\n",
       "      <td>Jonesboro</td>\n",
       "      <td>United States</td>\n",
       "      <td>Convocation Center</td>\n",
       "      <td>Gloriana\\r\\nKellie Pickler</td>\n",
       "      <td>7,822 / 7,822</td>\n",
       "      <td>3.403280e+05</td>\n",
       "      <td>Fearless_Tour</td>\n",
       "      <td>7822</td>\n",
       "      <td>7822</td>\n",
       "    </tr>\n",
       "    <tr>\n",
       "      <th>2</th>\n",
       "      <td>St. Louis</td>\n",
       "      <td>United States</td>\n",
       "      <td>Scottrade Center</td>\n",
       "      <td>Gloriana\\r\\nKellie Pickler</td>\n",
       "      <td>13,764 / 13,764</td>\n",
       "      <td>6.504200e+05</td>\n",
       "      <td>Fearless_Tour</td>\n",
       "      <td>13764</td>\n",
       "      <td>13764</td>\n",
       "    </tr>\n",
       "    <tr>\n",
       "      <th>3</th>\n",
       "      <td>Alexandria</td>\n",
       "      <td>United States</td>\n",
       "      <td>Bishop Ireton High School</td>\n",
       "      <td>Gloriana\\r\\nKellie Pickler</td>\n",
       "      <td>—</td>\n",
       "      <td>3.892357e+06</td>\n",
       "      <td>Fearless_Tour</td>\n",
       "      <td>—</td>\n",
       "      <td>NaN</td>\n",
       "    </tr>\n",
       "    <tr>\n",
       "      <th>4</th>\n",
       "      <td>North Charleston</td>\n",
       "      <td>United States</td>\n",
       "      <td>North Charleston Coliseum</td>\n",
       "      <td>Gloriana\\r\\nKellie Pickler</td>\n",
       "      <td>8,751 / 8,751</td>\n",
       "      <td>3.981540e+05</td>\n",
       "      <td>Fearless_Tour</td>\n",
       "      <td>8751</td>\n",
       "      <td>8751</td>\n",
       "    </tr>\n",
       "  </tbody>\n",
       "</table>\n",
       "</div>"
      ],
      "text/plain": [
       "               city        country                      venue  \\\n",
       "0        Evansville  United States  Roberts Municipal Stadium   \n",
       "1         Jonesboro  United States         Convocation Center   \n",
       "2         St. Louis  United States           Scottrade Center   \n",
       "3        Alexandria  United States  Bishop Ireton High School   \n",
       "4  North Charleston  United States  North Charleston Coliseum   \n",
       "\n",
       "               opening_act(s) attendance_(tickets_sold_/_available)  \\\n",
       "0  Gloriana\\r\\nKellie Pickler                         7,463 / 7,463   \n",
       "1  Gloriana\\r\\nKellie Pickler                         7,822 / 7,822   \n",
       "2  Gloriana\\r\\nKellie Pickler                       13,764 / 13,764   \n",
       "3  Gloriana\\r\\nKellie Pickler                                     —   \n",
       "4  Gloriana\\r\\nKellie Pickler                         8,751 / 8,751   \n",
       "\n",
       "        revenue           tour tick_sold tick_avail  \n",
       "0  3.606170e+05  Fearless_Tour      7463       7463  \n",
       "1  3.403280e+05  Fearless_Tour      7822       7822  \n",
       "2  6.504200e+05  Fearless_Tour     13764      13764  \n",
       "3  3.892357e+06  Fearless_Tour         —        NaN  \n",
       "4  3.981540e+05  Fearless_Tour      8751       8751  "
      ]
     },
     "execution_count": 45,
     "metadata": {},
     "output_type": "execute_result"
    }
   ],
   "source": [
    "df['tick_sold'] = df['attendance_(tickets_sold_/_available)'].str.split(\" / \").str[0].str.replace(',', '')\n",
    "df['tick_avail'] = df['attendance_(tickets_sold_/_available)'].str.split(\" / \").str[1].str.replace(',', '')\n",
    "df.head()"
   ]
  },
  {
   "cell_type": "code",
   "execution_count": 46,
   "metadata": {},
   "outputs": [
    {
     "name": "stdout",
     "output_type": "stream",
     "text": [
      "<class 'pandas.core.frame.DataFrame'>\n",
      "RangeIndex: 445 entries, 0 to 444\n",
      "Data columns (total 9 columns):\n",
      " #   Column                                 Non-Null Count  Dtype  \n",
      "---  ------                                 --------------  -----  \n",
      " 0   city                                   445 non-null    object \n",
      " 1   country                                445 non-null    object \n",
      " 2   venue                                  445 non-null    object \n",
      " 3   opening_act(s)                         444 non-null    object \n",
      " 4   attendance_(tickets_sold_/_available)  442 non-null    object \n",
      " 5   revenue                                445 non-null    float64\n",
      " 6   tour                                   445 non-null    object \n",
      " 7   tick_sold                              407 non-null    float64\n",
      " 8   tick_avail                             407 non-null    float64\n",
      "dtypes: float64(3), object(6)\n",
      "memory usage: 31.4+ KB\n"
     ]
    }
   ],
   "source": [
    "df[\"tick_sold\"] = pd.to_numeric(df[\"tick_sold\"], errors='coerce')\n",
    "df[\"tick_avail\"] = pd.to_numeric(df[\"tick_avail\"], errors='coerce')\n",
    "\n",
    "df.info()"
   ]
  },
  {
   "cell_type": "code",
   "execution_count": 47,
   "metadata": {},
   "outputs": [
    {
     "data": {
      "text/html": [
       "<div>\n",
       "<style scoped>\n",
       "    .dataframe tbody tr th:only-of-type {\n",
       "        vertical-align: middle;\n",
       "    }\n",
       "\n",
       "    .dataframe tbody tr th {\n",
       "        vertical-align: top;\n",
       "    }\n",
       "\n",
       "    .dataframe thead th {\n",
       "        text-align: right;\n",
       "    }\n",
       "</style>\n",
       "<table border=\"1\" class=\"dataframe\">\n",
       "  <thead>\n",
       "    <tr style=\"text-align: right;\">\n",
       "      <th></th>\n",
       "      <th>city</th>\n",
       "      <th>country</th>\n",
       "      <th>venue</th>\n",
       "      <th>opening_act(s)</th>\n",
       "      <th>attendance_(tickets_sold_/_available)</th>\n",
       "      <th>revenue</th>\n",
       "      <th>tour</th>\n",
       "      <th>tick_sold</th>\n",
       "      <th>tick_avail</th>\n",
       "    </tr>\n",
       "  </thead>\n",
       "  <tbody>\n",
       "    <tr>\n",
       "      <th>0</th>\n",
       "      <td>Evansville</td>\n",
       "      <td>United States</td>\n",
       "      <td>Roberts Municipal Stadium</td>\n",
       "      <td>Gloriana\\r\\nKellie Pickler</td>\n",
       "      <td>7,463 / 7,463</td>\n",
       "      <td>3.606170e+05</td>\n",
       "      <td>Fearless_Tour</td>\n",
       "      <td>7463.000000</td>\n",
       "      <td>7463.000000</td>\n",
       "    </tr>\n",
       "    <tr>\n",
       "      <th>1</th>\n",
       "      <td>Jonesboro</td>\n",
       "      <td>United States</td>\n",
       "      <td>Convocation Center</td>\n",
       "      <td>Gloriana\\r\\nKellie Pickler</td>\n",
       "      <td>7,822 / 7,822</td>\n",
       "      <td>3.403280e+05</td>\n",
       "      <td>Fearless_Tour</td>\n",
       "      <td>7822.000000</td>\n",
       "      <td>7822.000000</td>\n",
       "    </tr>\n",
       "    <tr>\n",
       "      <th>2</th>\n",
       "      <td>St. Louis</td>\n",
       "      <td>United States</td>\n",
       "      <td>Scottrade Center</td>\n",
       "      <td>Gloriana\\r\\nKellie Pickler</td>\n",
       "      <td>13,764 / 13,764</td>\n",
       "      <td>6.504200e+05</td>\n",
       "      <td>Fearless_Tour</td>\n",
       "      <td>13764.000000</td>\n",
       "      <td>13764.000000</td>\n",
       "    </tr>\n",
       "    <tr>\n",
       "      <th>3</th>\n",
       "      <td>Alexandria</td>\n",
       "      <td>United States</td>\n",
       "      <td>Bishop Ireton High School</td>\n",
       "      <td>Gloriana\\r\\nKellie Pickler</td>\n",
       "      <td>—</td>\n",
       "      <td>3.892357e+06</td>\n",
       "      <td>Fearless_Tour</td>\n",
       "      <td>38954.904177</td>\n",
       "      <td>39002.093366</td>\n",
       "    </tr>\n",
       "    <tr>\n",
       "      <th>4</th>\n",
       "      <td>North Charleston</td>\n",
       "      <td>United States</td>\n",
       "      <td>North Charleston Coliseum</td>\n",
       "      <td>Gloriana\\r\\nKellie Pickler</td>\n",
       "      <td>8,751 / 8,751</td>\n",
       "      <td>3.981540e+05</td>\n",
       "      <td>Fearless_Tour</td>\n",
       "      <td>8751.000000</td>\n",
       "      <td>8751.000000</td>\n",
       "    </tr>\n",
       "  </tbody>\n",
       "</table>\n",
       "</div>"
      ],
      "text/plain": [
       "               city        country                      venue  \\\n",
       "0        Evansville  United States  Roberts Municipal Stadium   \n",
       "1         Jonesboro  United States         Convocation Center   \n",
       "2         St. Louis  United States           Scottrade Center   \n",
       "3        Alexandria  United States  Bishop Ireton High School   \n",
       "4  North Charleston  United States  North Charleston Coliseum   \n",
       "\n",
       "               opening_act(s) attendance_(tickets_sold_/_available)  \\\n",
       "0  Gloriana\\r\\nKellie Pickler                         7,463 / 7,463   \n",
       "1  Gloriana\\r\\nKellie Pickler                         7,822 / 7,822   \n",
       "2  Gloriana\\r\\nKellie Pickler                       13,764 / 13,764   \n",
       "3  Gloriana\\r\\nKellie Pickler                                     —   \n",
       "4  Gloriana\\r\\nKellie Pickler                         8,751 / 8,751   \n",
       "\n",
       "        revenue           tour     tick_sold    tick_avail  \n",
       "0  3.606170e+05  Fearless_Tour   7463.000000   7463.000000  \n",
       "1  3.403280e+05  Fearless_Tour   7822.000000   7822.000000  \n",
       "2  6.504200e+05  Fearless_Tour  13764.000000  13764.000000  \n",
       "3  3.892357e+06  Fearless_Tour  38954.904177  39002.093366  \n",
       "4  3.981540e+05  Fearless_Tour   8751.000000   8751.000000  "
      ]
     },
     "execution_count": 47,
     "metadata": {},
     "output_type": "execute_result"
    }
   ],
   "source": [
    "df[\"tick_sold\"].fillna(df[\"tick_sold\"].mean(), inplace=True)\n",
    "df[\"tick_avail\"].fillna(df[\"tick_avail\"].mean(), inplace=True)\n",
    "df.head()"
   ]
  },
  {
   "cell_type": "markdown",
   "metadata": {},
   "source": [
    "dropping the attendance_etc column"
   ]
  },
  {
   "cell_type": "code",
   "execution_count": 48,
   "metadata": {},
   "outputs": [
    {
     "data": {
      "text/html": [
       "<div>\n",
       "<style scoped>\n",
       "    .dataframe tbody tr th:only-of-type {\n",
       "        vertical-align: middle;\n",
       "    }\n",
       "\n",
       "    .dataframe tbody tr th {\n",
       "        vertical-align: top;\n",
       "    }\n",
       "\n",
       "    .dataframe thead th {\n",
       "        text-align: right;\n",
       "    }\n",
       "</style>\n",
       "<table border=\"1\" class=\"dataframe\">\n",
       "  <thead>\n",
       "    <tr style=\"text-align: right;\">\n",
       "      <th></th>\n",
       "      <th>city</th>\n",
       "      <th>country</th>\n",
       "      <th>venue</th>\n",
       "      <th>opening_act(s)</th>\n",
       "      <th>revenue</th>\n",
       "      <th>tour</th>\n",
       "      <th>tick_sold</th>\n",
       "      <th>tick_avail</th>\n",
       "    </tr>\n",
       "  </thead>\n",
       "  <tbody>\n",
       "    <tr>\n",
       "      <th>0</th>\n",
       "      <td>Evansville</td>\n",
       "      <td>United States</td>\n",
       "      <td>Roberts Municipal Stadium</td>\n",
       "      <td>Gloriana\\r\\nKellie Pickler</td>\n",
       "      <td>3.606170e+05</td>\n",
       "      <td>Fearless_Tour</td>\n",
       "      <td>7463.000000</td>\n",
       "      <td>7463.000000</td>\n",
       "    </tr>\n",
       "    <tr>\n",
       "      <th>1</th>\n",
       "      <td>Jonesboro</td>\n",
       "      <td>United States</td>\n",
       "      <td>Convocation Center</td>\n",
       "      <td>Gloriana\\r\\nKellie Pickler</td>\n",
       "      <td>3.403280e+05</td>\n",
       "      <td>Fearless_Tour</td>\n",
       "      <td>7822.000000</td>\n",
       "      <td>7822.000000</td>\n",
       "    </tr>\n",
       "    <tr>\n",
       "      <th>2</th>\n",
       "      <td>St. Louis</td>\n",
       "      <td>United States</td>\n",
       "      <td>Scottrade Center</td>\n",
       "      <td>Gloriana\\r\\nKellie Pickler</td>\n",
       "      <td>6.504200e+05</td>\n",
       "      <td>Fearless_Tour</td>\n",
       "      <td>13764.000000</td>\n",
       "      <td>13764.000000</td>\n",
       "    </tr>\n",
       "    <tr>\n",
       "      <th>3</th>\n",
       "      <td>Alexandria</td>\n",
       "      <td>United States</td>\n",
       "      <td>Bishop Ireton High School</td>\n",
       "      <td>Gloriana\\r\\nKellie Pickler</td>\n",
       "      <td>3.892357e+06</td>\n",
       "      <td>Fearless_Tour</td>\n",
       "      <td>38954.904177</td>\n",
       "      <td>39002.093366</td>\n",
       "    </tr>\n",
       "    <tr>\n",
       "      <th>4</th>\n",
       "      <td>North Charleston</td>\n",
       "      <td>United States</td>\n",
       "      <td>North Charleston Coliseum</td>\n",
       "      <td>Gloriana\\r\\nKellie Pickler</td>\n",
       "      <td>3.981540e+05</td>\n",
       "      <td>Fearless_Tour</td>\n",
       "      <td>8751.000000</td>\n",
       "      <td>8751.000000</td>\n",
       "    </tr>\n",
       "  </tbody>\n",
       "</table>\n",
       "</div>"
      ],
      "text/plain": [
       "               city        country                      venue  \\\n",
       "0        Evansville  United States  Roberts Municipal Stadium   \n",
       "1         Jonesboro  United States         Convocation Center   \n",
       "2         St. Louis  United States           Scottrade Center   \n",
       "3        Alexandria  United States  Bishop Ireton High School   \n",
       "4  North Charleston  United States  North Charleston Coliseum   \n",
       "\n",
       "               opening_act(s)       revenue           tour     tick_sold  \\\n",
       "0  Gloriana\\r\\nKellie Pickler  3.606170e+05  Fearless_Tour   7463.000000   \n",
       "1  Gloriana\\r\\nKellie Pickler  3.403280e+05  Fearless_Tour   7822.000000   \n",
       "2  Gloriana\\r\\nKellie Pickler  6.504200e+05  Fearless_Tour  13764.000000   \n",
       "3  Gloriana\\r\\nKellie Pickler  3.892357e+06  Fearless_Tour  38954.904177   \n",
       "4  Gloriana\\r\\nKellie Pickler  3.981540e+05  Fearless_Tour   8751.000000   \n",
       "\n",
       "     tick_avail  \n",
       "0   7463.000000  \n",
       "1   7822.000000  \n",
       "2  13764.000000  \n",
       "3  39002.093366  \n",
       "4   8751.000000  "
      ]
     },
     "execution_count": 48,
     "metadata": {},
     "output_type": "execute_result"
    }
   ],
   "source": [
    "df.drop(columns='attendance_(tickets_sold_/_available)', inplace=True)\n",
    "df.head()"
   ]
  },
  {
   "cell_type": "code",
   "execution_count": 49,
   "metadata": {},
   "outputs": [
    {
     "name": "stdout",
     "output_type": "stream",
     "text": [
      "<class 'pandas.core.frame.DataFrame'>\n",
      "RangeIndex: 445 entries, 0 to 444\n",
      "Data columns (total 8 columns):\n",
      " #   Column          Non-Null Count  Dtype  \n",
      "---  ------          --------------  -----  \n",
      " 0   city            445 non-null    object \n",
      " 1   country         445 non-null    object \n",
      " 2   venue           445 non-null    object \n",
      " 3   opening_act(s)  444 non-null    object \n",
      " 4   revenue         445 non-null    float64\n",
      " 5   tour            445 non-null    object \n",
      " 6   tick_sold       445 non-null    float64\n",
      " 7   tick_avail      445 non-null    float64\n",
      "dtypes: float64(3), object(5)\n",
      "memory usage: 27.9+ KB\n"
     ]
    }
   ],
   "source": [
    "df.info()"
   ]
  },
  {
   "cell_type": "code",
   "execution_count": 50,
   "metadata": {},
   "outputs": [
    {
     "data": {
      "text/plain": [
       "city              0\n",
       "country           0\n",
       "venue             0\n",
       "opening_act(s)    1\n",
       "revenue           0\n",
       "tour              0\n",
       "tick_sold         0\n",
       "tick_avail        0\n",
       "dtype: int64"
      ]
     },
     "execution_count": 50,
     "metadata": {},
     "output_type": "execute_result"
    }
   ],
   "source": [
    "df.isna().sum()"
   ]
  },
  {
   "cell_type": "code",
   "execution_count": 51,
   "metadata": {},
   "outputs": [],
   "source": [
    "\n",
    "df['opening_act(s)'] = df['opening_act(s)'].fillna('unavailable')"
   ]
  },
  {
   "cell_type": "code",
   "execution_count": 52,
   "metadata": {},
   "outputs": [
    {
     "data": {
      "text/plain": [
       "city              0\n",
       "country           0\n",
       "venue             0\n",
       "opening_act(s)    0\n",
       "revenue           0\n",
       "tour              0\n",
       "tick_sold         0\n",
       "tick_avail        0\n",
       "dtype: int64"
      ]
     },
     "execution_count": 52,
     "metadata": {},
     "output_type": "execute_result"
    }
   ],
   "source": [
    "df.isna().sum()"
   ]
  },
  {
   "cell_type": "markdown",
   "metadata": {},
   "source": [
    "# Create visualizations"
   ]
  },
  {
   "cell_type": "code",
   "execution_count": 53,
   "metadata": {},
   "outputs": [
    {
     "data": {
      "application/vnd.plotly.v1+json": {
       "config": {
        "plotlyServerURL": "https://plot.ly"
       },
       "data": [
        {
         "alignmentgroup": "True",
         "bingroup": "x",
         "hovertemplate": "revenue=%{x}<br>count=%{y}<extra></extra>",
         "legendgroup": "",
         "marker": {
          "color": "#636efa",
          "pattern": {
           "shape": ""
          }
         },
         "name": "",
         "offsetgroup": "",
         "orientation": "v",
         "showlegend": false,
         "type": "histogram",
         "x": [
          360617,
          340328,
          650420,
          3892356.8349753693,
          398154,
          507012,
          437313,
          401328,
          401328,
          482146,
          528637,
          613284,
          413622,
          647923,
          720940,
          551051,
          502689,
          555207,
          3892356.8349753693,
          608438,
          690959,
          3892356.8349753693,
          3892356.8349753693,
          3892356.8349753693,
          2540906,
          3892356.8349753693,
          512487,
          3892356.8349753693,
          3892356.8349753693,
          3892356.8349753693,
          3892356.8349753693,
          3892356.8349753693,
          3892356.8349753693,
          3892356.8349753693,
          3892356.8349753693,
          3892356.8349753693,
          3892356.8349753693,
          3892356.8349753693,
          976062,
          296306,
          3892356.8349753693,
          3892356.8349753693,
          3892356.8349753693,
          3892356.8349753693,
          3892356.8349753693,
          3892356.8349753693,
          3892356.8349753693,
          3892356.8349753693,
          642387,
          628062,
          654089,
          3892356.8349753693,
          3892356.8349753693,
          3892356.8349753693,
          743492,
          634876,
          1150896,
          1150896,
          623975,
          3892356.8349753693,
          3892356.8349753693,
          956505,
          2030640,
          2030640,
          555396,
          1627510,
          1627510,
          585352,
          3892356.8349753693,
          793049,
          598581,
          777442,
          642705,
          742954,
          501169,
          2002321,
          2002321,
          664305,
          1711591,
          1711591,
          645592,
          675184,
          610801,
          761110,
          1497135,
          1497135,
          649488,
          716726,
          1736197,
          1736197,
          1024223,
          755475,
          752303,
          738280,
          846111,
          610668,
          1742669,
          1742669,
          1713529,
          1713529,
          873206,
          2497690,
          2497690,
          1290926,
          1290926,
          3892356.8349753693,
          1824743,
          1824743,
          3726157,
          3892356.8349753693,
          3892356.8349753693,
          916850,
          385374,
          758113,
          1738227,
          1738227,
          859037,
          1030633,
          219212,
          248314,
          815246,
          370028,
          153303,
          201781,
          251864,
          508854,
          379001,
          419806,
          580558,
          891152,
          1717104,
          1717104,
          862771,
          1582951,
          1582951,
          791980,
          955259,
          897042,
          3453549,
          1913737,
          1913737,
          4009118,
          966749,
          810165,
          8026350,
          8026350,
          990701,
          903875,
          1254230,
          3036000,
          3036000,
          3875463,
          3875463,
          3875463,
          3875463,
          724854,
          877175,
          976954,
          2068789,
          2068789,
          4268678,
          1909603,
          1909603,
          1850159,
          1850159,
          2136270,
          2136270,
          3927154,
          3927154,
          3927154,
          3927154,
          1825448,
          1825448,
          934326,
          903445,
          1289430,
          2190680,
          2190680,
          1841134,
          1841134,
          728546,
          907573,
          3148046,
          834916,
          896946,
          1726661,
          1726661,
          856123,
          830289,
          4337062,
          1003828,
          710426,
          758364,
          792634,
          1826025,
          1826025,
          901535,
          752078,
          1041935,
          820036,
          3435756,
          749099,
          914300,
          786904,
          920903,
          866056,
          828231,
          1988411,
          1988411,
          1878530,
          1075370,
          2416030,
          2416030,
          3420360,
          3420360,
          4151650,
          4151650,
          4151650,
          2888560,
          2888560,
          2888560,
          2243164,
          2243164,
          2346203,
          2346203,
          1162733,
          996114,
          3565317,
          3565317,
          3565317,
          1010175,
          2054128,
          2054128,
          2048023,
          2048023,
          1132095,
          1247605,
          1082042,
          1342699,
          3969059,
          1246491,
          1155170,
          2489205,
          2489205,
          961422,
          935631,
          1105253,
          4589266,
          2239370,
          2239370,
          1139360,
          1076069,
          7863310,
          7863310,
          3175430,
          2379870,
          2379870,
          3974410,
          4718518,
          4670011,
          8822335,
          8822335,
          9464063,
          9464063,
          1075576,
          2093172,
          2093172,
          983882,
          868955,
          4149148,
          948541,
          4734463,
          4734463,
          4734463,
          4734463,
          1138103,
          1084760,
          1584049,
          1661578,
          2320937,
          2320937,
          1109253,
          1088612,
          997216,
          3336545,
          3336545,
          3336545,
          3100290,
          3100290,
          3100290,
          4096060,
          3895810,
          2364080,
          4547250,
          5829240,
          5829240,
          5829240,
          755006,
          3892356.8349753693,
          3892356.8349753693,
          1864934,
          1837147,
          1481473,
          1511662,
          2524080,
          998608,
          3892356.8349753693,
          10586828,
          10586828,
          3892356.8349753693,
          1458197,
          4119670,
          5999690,
          1863281,
          1732041,
          5836926,
          1627798,
          1653762,
          11987816,
          11987816,
          2054690,
          2054690,
          800829,
          1119300,
          1478760,
          3892356.8349753693,
          1975510,
          1975510,
          1325480,
          1499040,
          13423858,
          13423858,
          9730596,
          9730596,
          11469887,
          11469887,
          12533166,
          12533166,
          4081820,
          2387080,
          2387080,
          6050643,
          13031146,
          13031146,
          3029628,
          3029628,
          8961681,
          8961681,
          8961681,
          8961681,
          8961681,
          5475237,
          1589686,
          2868991,
          2868991,
          5202196,
          5514863,
          5514863,
          5514863,
          1550268,
          3369693,
          3369693,
          2967558,
          2967558,
          3354844,
          3354844,
          3452940,
          3452940,
          8670990,
          8670990,
          1566321,
          3121421,
          3121421,
          2219188,
          7396733,
          1870471,
          1662171,
          6034846,
          1527919,
          6202515,
          3217569,
          3217569,
          5917348,
          5917348,
          5917348,
          6571683,
          4759471,
          2407499,
          2407499,
          10421553,
          10421553,
          10421553,
          7214478,
          14006963,
          14006963,
          16251980,
          16251980,
          8672219,
          7926366,
          14576697,
          14576697,
          6169724,
          6169724,
          8567769,
          8567769,
          12214933,
          12214933,
          4928219,
          6606529,
          11396004,
          11396004,
          11951047,
          11951047,
          5148757,
          22031386,
          22031386,
          22031386,
          21779846,
          21779846,
          21779846,
          11177000,
          11177000,
          6230876,
          18089415,
          18089415,
          7244264,
          7072164,
          9007179,
          6597852,
          10242024,
          10242024,
          6730138,
          6531245,
          4884054,
          6491546,
          9350275,
          15006157,
          15006157,
          4153658,
          6755570,
          7686564,
          4338127,
          3617593,
          14859847,
          14859847
         ],
         "xaxis": "x",
         "yaxis": "y"
        }
       ],
       "layout": {
        "barmode": "relative",
        "legend": {
         "tracegroupgap": 0
        },
        "margin": {
         "t": 60
        },
        "template": {
         "data": {
          "bar": [
           {
            "error_x": {
             "color": "#2a3f5f"
            },
            "error_y": {
             "color": "#2a3f5f"
            },
            "marker": {
             "line": {
              "color": "#E5ECF6",
              "width": 0.5
             },
             "pattern": {
              "fillmode": "overlay",
              "size": 10,
              "solidity": 0.2
             }
            },
            "type": "bar"
           }
          ],
          "barpolar": [
           {
            "marker": {
             "line": {
              "color": "#E5ECF6",
              "width": 0.5
             },
             "pattern": {
              "fillmode": "overlay",
              "size": 10,
              "solidity": 0.2
             }
            },
            "type": "barpolar"
           }
          ],
          "carpet": [
           {
            "aaxis": {
             "endlinecolor": "#2a3f5f",
             "gridcolor": "white",
             "linecolor": "white",
             "minorgridcolor": "white",
             "startlinecolor": "#2a3f5f"
            },
            "baxis": {
             "endlinecolor": "#2a3f5f",
             "gridcolor": "white",
             "linecolor": "white",
             "minorgridcolor": "white",
             "startlinecolor": "#2a3f5f"
            },
            "type": "carpet"
           }
          ],
          "choropleth": [
           {
            "colorbar": {
             "outlinewidth": 0,
             "ticks": ""
            },
            "type": "choropleth"
           }
          ],
          "contour": [
           {
            "colorbar": {
             "outlinewidth": 0,
             "ticks": ""
            },
            "colorscale": [
             [
              0,
              "#0d0887"
             ],
             [
              0.1111111111111111,
              "#46039f"
             ],
             [
              0.2222222222222222,
              "#7201a8"
             ],
             [
              0.3333333333333333,
              "#9c179e"
             ],
             [
              0.4444444444444444,
              "#bd3786"
             ],
             [
              0.5555555555555556,
              "#d8576b"
             ],
             [
              0.6666666666666666,
              "#ed7953"
             ],
             [
              0.7777777777777778,
              "#fb9f3a"
             ],
             [
              0.8888888888888888,
              "#fdca26"
             ],
             [
              1,
              "#f0f921"
             ]
            ],
            "type": "contour"
           }
          ],
          "contourcarpet": [
           {
            "colorbar": {
             "outlinewidth": 0,
             "ticks": ""
            },
            "type": "contourcarpet"
           }
          ],
          "heatmap": [
           {
            "colorbar": {
             "outlinewidth": 0,
             "ticks": ""
            },
            "colorscale": [
             [
              0,
              "#0d0887"
             ],
             [
              0.1111111111111111,
              "#46039f"
             ],
             [
              0.2222222222222222,
              "#7201a8"
             ],
             [
              0.3333333333333333,
              "#9c179e"
             ],
             [
              0.4444444444444444,
              "#bd3786"
             ],
             [
              0.5555555555555556,
              "#d8576b"
             ],
             [
              0.6666666666666666,
              "#ed7953"
             ],
             [
              0.7777777777777778,
              "#fb9f3a"
             ],
             [
              0.8888888888888888,
              "#fdca26"
             ],
             [
              1,
              "#f0f921"
             ]
            ],
            "type": "heatmap"
           }
          ],
          "heatmapgl": [
           {
            "colorbar": {
             "outlinewidth": 0,
             "ticks": ""
            },
            "colorscale": [
             [
              0,
              "#0d0887"
             ],
             [
              0.1111111111111111,
              "#46039f"
             ],
             [
              0.2222222222222222,
              "#7201a8"
             ],
             [
              0.3333333333333333,
              "#9c179e"
             ],
             [
              0.4444444444444444,
              "#bd3786"
             ],
             [
              0.5555555555555556,
              "#d8576b"
             ],
             [
              0.6666666666666666,
              "#ed7953"
             ],
             [
              0.7777777777777778,
              "#fb9f3a"
             ],
             [
              0.8888888888888888,
              "#fdca26"
             ],
             [
              1,
              "#f0f921"
             ]
            ],
            "type": "heatmapgl"
           }
          ],
          "histogram": [
           {
            "marker": {
             "pattern": {
              "fillmode": "overlay",
              "size": 10,
              "solidity": 0.2
             }
            },
            "type": "histogram"
           }
          ],
          "histogram2d": [
           {
            "colorbar": {
             "outlinewidth": 0,
             "ticks": ""
            },
            "colorscale": [
             [
              0,
              "#0d0887"
             ],
             [
              0.1111111111111111,
              "#46039f"
             ],
             [
              0.2222222222222222,
              "#7201a8"
             ],
             [
              0.3333333333333333,
              "#9c179e"
             ],
             [
              0.4444444444444444,
              "#bd3786"
             ],
             [
              0.5555555555555556,
              "#d8576b"
             ],
             [
              0.6666666666666666,
              "#ed7953"
             ],
             [
              0.7777777777777778,
              "#fb9f3a"
             ],
             [
              0.8888888888888888,
              "#fdca26"
             ],
             [
              1,
              "#f0f921"
             ]
            ],
            "type": "histogram2d"
           }
          ],
          "histogram2dcontour": [
           {
            "colorbar": {
             "outlinewidth": 0,
             "ticks": ""
            },
            "colorscale": [
             [
              0,
              "#0d0887"
             ],
             [
              0.1111111111111111,
              "#46039f"
             ],
             [
              0.2222222222222222,
              "#7201a8"
             ],
             [
              0.3333333333333333,
              "#9c179e"
             ],
             [
              0.4444444444444444,
              "#bd3786"
             ],
             [
              0.5555555555555556,
              "#d8576b"
             ],
             [
              0.6666666666666666,
              "#ed7953"
             ],
             [
              0.7777777777777778,
              "#fb9f3a"
             ],
             [
              0.8888888888888888,
              "#fdca26"
             ],
             [
              1,
              "#f0f921"
             ]
            ],
            "type": "histogram2dcontour"
           }
          ],
          "mesh3d": [
           {
            "colorbar": {
             "outlinewidth": 0,
             "ticks": ""
            },
            "type": "mesh3d"
           }
          ],
          "parcoords": [
           {
            "line": {
             "colorbar": {
              "outlinewidth": 0,
              "ticks": ""
             }
            },
            "type": "parcoords"
           }
          ],
          "pie": [
           {
            "automargin": true,
            "type": "pie"
           }
          ],
          "scatter": [
           {
            "fillpattern": {
             "fillmode": "overlay",
             "size": 10,
             "solidity": 0.2
            },
            "type": "scatter"
           }
          ],
          "scatter3d": [
           {
            "line": {
             "colorbar": {
              "outlinewidth": 0,
              "ticks": ""
             }
            },
            "marker": {
             "colorbar": {
              "outlinewidth": 0,
              "ticks": ""
             }
            },
            "type": "scatter3d"
           }
          ],
          "scattercarpet": [
           {
            "marker": {
             "colorbar": {
              "outlinewidth": 0,
              "ticks": ""
             }
            },
            "type": "scattercarpet"
           }
          ],
          "scattergeo": [
           {
            "marker": {
             "colorbar": {
              "outlinewidth": 0,
              "ticks": ""
             }
            },
            "type": "scattergeo"
           }
          ],
          "scattergl": [
           {
            "marker": {
             "colorbar": {
              "outlinewidth": 0,
              "ticks": ""
             }
            },
            "type": "scattergl"
           }
          ],
          "scattermapbox": [
           {
            "marker": {
             "colorbar": {
              "outlinewidth": 0,
              "ticks": ""
             }
            },
            "type": "scattermapbox"
           }
          ],
          "scatterpolar": [
           {
            "marker": {
             "colorbar": {
              "outlinewidth": 0,
              "ticks": ""
             }
            },
            "type": "scatterpolar"
           }
          ],
          "scatterpolargl": [
           {
            "marker": {
             "colorbar": {
              "outlinewidth": 0,
              "ticks": ""
             }
            },
            "type": "scatterpolargl"
           }
          ],
          "scatterternary": [
           {
            "marker": {
             "colorbar": {
              "outlinewidth": 0,
              "ticks": ""
             }
            },
            "type": "scatterternary"
           }
          ],
          "surface": [
           {
            "colorbar": {
             "outlinewidth": 0,
             "ticks": ""
            },
            "colorscale": [
             [
              0,
              "#0d0887"
             ],
             [
              0.1111111111111111,
              "#46039f"
             ],
             [
              0.2222222222222222,
              "#7201a8"
             ],
             [
              0.3333333333333333,
              "#9c179e"
             ],
             [
              0.4444444444444444,
              "#bd3786"
             ],
             [
              0.5555555555555556,
              "#d8576b"
             ],
             [
              0.6666666666666666,
              "#ed7953"
             ],
             [
              0.7777777777777778,
              "#fb9f3a"
             ],
             [
              0.8888888888888888,
              "#fdca26"
             ],
             [
              1,
              "#f0f921"
             ]
            ],
            "type": "surface"
           }
          ],
          "table": [
           {
            "cells": {
             "fill": {
              "color": "#EBF0F8"
             },
             "line": {
              "color": "white"
             }
            },
            "header": {
             "fill": {
              "color": "#C8D4E3"
             },
             "line": {
              "color": "white"
             }
            },
            "type": "table"
           }
          ]
         },
         "layout": {
          "annotationdefaults": {
           "arrowcolor": "#2a3f5f",
           "arrowhead": 0,
           "arrowwidth": 1
          },
          "autotypenumbers": "strict",
          "coloraxis": {
           "colorbar": {
            "outlinewidth": 0,
            "ticks": ""
           }
          },
          "colorscale": {
           "diverging": [
            [
             0,
             "#8e0152"
            ],
            [
             0.1,
             "#c51b7d"
            ],
            [
             0.2,
             "#de77ae"
            ],
            [
             0.3,
             "#f1b6da"
            ],
            [
             0.4,
             "#fde0ef"
            ],
            [
             0.5,
             "#f7f7f7"
            ],
            [
             0.6,
             "#e6f5d0"
            ],
            [
             0.7,
             "#b8e186"
            ],
            [
             0.8,
             "#7fbc41"
            ],
            [
             0.9,
             "#4d9221"
            ],
            [
             1,
             "#276419"
            ]
           ],
           "sequential": [
            [
             0,
             "#0d0887"
            ],
            [
             0.1111111111111111,
             "#46039f"
            ],
            [
             0.2222222222222222,
             "#7201a8"
            ],
            [
             0.3333333333333333,
             "#9c179e"
            ],
            [
             0.4444444444444444,
             "#bd3786"
            ],
            [
             0.5555555555555556,
             "#d8576b"
            ],
            [
             0.6666666666666666,
             "#ed7953"
            ],
            [
             0.7777777777777778,
             "#fb9f3a"
            ],
            [
             0.8888888888888888,
             "#fdca26"
            ],
            [
             1,
             "#f0f921"
            ]
           ],
           "sequentialminus": [
            [
             0,
             "#0d0887"
            ],
            [
             0.1111111111111111,
             "#46039f"
            ],
            [
             0.2222222222222222,
             "#7201a8"
            ],
            [
             0.3333333333333333,
             "#9c179e"
            ],
            [
             0.4444444444444444,
             "#bd3786"
            ],
            [
             0.5555555555555556,
             "#d8576b"
            ],
            [
             0.6666666666666666,
             "#ed7953"
            ],
            [
             0.7777777777777778,
             "#fb9f3a"
            ],
            [
             0.8888888888888888,
             "#fdca26"
            ],
            [
             1,
             "#f0f921"
            ]
           ]
          },
          "colorway": [
           "#636efa",
           "#EF553B",
           "#00cc96",
           "#ab63fa",
           "#FFA15A",
           "#19d3f3",
           "#FF6692",
           "#B6E880",
           "#FF97FF",
           "#FECB52"
          ],
          "font": {
           "color": "#2a3f5f"
          },
          "geo": {
           "bgcolor": "white",
           "lakecolor": "white",
           "landcolor": "#E5ECF6",
           "showlakes": true,
           "showland": true,
           "subunitcolor": "white"
          },
          "hoverlabel": {
           "align": "left"
          },
          "hovermode": "closest",
          "mapbox": {
           "style": "light"
          },
          "paper_bgcolor": "white",
          "plot_bgcolor": "#E5ECF6",
          "polar": {
           "angularaxis": {
            "gridcolor": "white",
            "linecolor": "white",
            "ticks": ""
           },
           "bgcolor": "#E5ECF6",
           "radialaxis": {
            "gridcolor": "white",
            "linecolor": "white",
            "ticks": ""
           }
          },
          "scene": {
           "xaxis": {
            "backgroundcolor": "#E5ECF6",
            "gridcolor": "white",
            "gridwidth": 2,
            "linecolor": "white",
            "showbackground": true,
            "ticks": "",
            "zerolinecolor": "white"
           },
           "yaxis": {
            "backgroundcolor": "#E5ECF6",
            "gridcolor": "white",
            "gridwidth": 2,
            "linecolor": "white",
            "showbackground": true,
            "ticks": "",
            "zerolinecolor": "white"
           },
           "zaxis": {
            "backgroundcolor": "#E5ECF6",
            "gridcolor": "white",
            "gridwidth": 2,
            "linecolor": "white",
            "showbackground": true,
            "ticks": "",
            "zerolinecolor": "white"
           }
          },
          "shapedefaults": {
           "line": {
            "color": "#2a3f5f"
           }
          },
          "ternary": {
           "aaxis": {
            "gridcolor": "white",
            "linecolor": "white",
            "ticks": ""
           },
           "baxis": {
            "gridcolor": "white",
            "linecolor": "white",
            "ticks": ""
           },
           "bgcolor": "#E5ECF6",
           "caxis": {
            "gridcolor": "white",
            "linecolor": "white",
            "ticks": ""
           }
          },
          "title": {
           "x": 0.05
          },
          "xaxis": {
           "automargin": true,
           "gridcolor": "white",
           "linecolor": "white",
           "ticks": "",
           "title": {
            "standoff": 15
           },
           "zerolinecolor": "white",
           "zerolinewidth": 2
          },
          "yaxis": {
           "automargin": true,
           "gridcolor": "white",
           "linecolor": "white",
           "ticks": "",
           "title": {
            "standoff": 15
           },
           "zerolinecolor": "white",
           "zerolinewidth": 2
          }
         }
        },
        "xaxis": {
         "anchor": "y",
         "domain": [
          0,
          1
         ],
         "title": {
          "text": "revenue"
         }
        },
        "yaxis": {
         "anchor": "x",
         "domain": [
          0,
          1
         ],
         "title": {
          "text": "count"
         }
        }
       }
      }
     },
     "metadata": {},
     "output_type": "display_data"
    }
   ],
   "source": [
    "px.histogram(df, 'revenue')"
   ]
  },
  {
   "cell_type": "code",
   "execution_count": 54,
   "metadata": {},
   "outputs": [
    {
     "data": {
      "application/vnd.plotly.v1+json": {
       "config": {
        "plotlyServerURL": "https://plot.ly"
       },
       "data": [
        {
         "alignmentgroup": "True",
         "bingroup": "x",
         "hovertemplate": "opening_act(s)=%{x}<br>count=%{y}<extra></extra>",
         "legendgroup": "",
         "marker": {
          "color": "#636efa",
          "pattern": {
           "shape": ""
          }
         },
         "name": "",
         "offsetgroup": "",
         "orientation": "v",
         "showlegend": false,
         "type": "histogram",
         "x": [
          "Gloriana\r\nKellie Pickler",
          "Gloriana\r\nKellie Pickler",
          "Gloriana\r\nKellie Pickler",
          "Gloriana\r\nKellie Pickler",
          "Gloriana\r\nKellie Pickler",
          "Gloriana\r\nKellie Pickler",
          "Gloriana\r\nKellie Pickler",
          "—",
          "—",
          "Gloriana\r\nKellie Pickler",
          "Gloriana\r\nKellie Pickler",
          "Gloriana\r\nKellie Pickler",
          "Gloriana\r\nKellie Pickler",
          "Gloriana\r\nKellie Pickler",
          "Gloriana\r\nKellie Pickler",
          "Gloriana\r\nKellie Pickler",
          "Gloriana\r\nKellie Pickler",
          "Gloriana\r\nKellie Pickler",
          "—",
          "Gloriana\r\nKellie Pickler",
          "Gloriana\r\nKellie Pickler",
          "—",
          "—",
          "Gloriana\r\nKellie Pickler",
          "—",
          "—",
          "Gloriana\r\nKellie Pickler",
          "—",
          "Gloriana\r\nKellie Pickler",
          "Gloriana\r\nKellie Pickler",
          "Kellie Pickler",
          "Gloriana\r\nKellie Pickler",
          "—",
          "Gloriana\r\nKellie Pickler",
          "—",
          "Gloriana\r\nKellie Pickler",
          "—",
          "—",
          "Gloriana\r\nKellie Pickler",
          "Gloriana\r\nKellie Pickler",
          "Gloriana\r\nKellie Pickler",
          "Gloriana\r\nKellie Pickler",
          "Gloriana\r\nKellie Pickler",
          "Gloriana\r\nKellie Pickler",
          "Gloriana\r\nKellie Pickler",
          "Gloriana\r\nKellie Pickler",
          "Gloriana\r\nKellie Pickler",
          "Gloriana\r\nKellie Pickler",
          "Gloriana\r\nKellie Pickler",
          "Gloriana\r\nKellie Pickler",
          "Gloriana\r\nKellie Pickler",
          "Gloriana\r\nKellie Pickler",
          "Gloriana\r\nKellie Pickler",
          "Gloriana\r\nKellie Pickler",
          "Gloriana\r\nKellie Pickler",
          "Gloriana\r\nKellie Pickler",
          "Gloriana\r\nKellie Pickler",
          "Gloriana\r\nKellie Pickler",
          "Gloriana\r\nKellie Pickler",
          "Justin Bieber",
          "Justin Bieber",
          "Gloriana",
          "Gloriana",
          "Gloriana",
          "Gloriana",
          "Gloriana",
          "Gloriana",
          "Gloriana",
          "—",
          "Gloriana\r\nKellie Pickler",
          "Gloriana\r\nKellie Pickler",
          "Gloriana\r\nKellie Pickler",
          "Gloriana\r\nKellie Pickler",
          "Gloriana\r\nKellie Pickler",
          "Gloriana\r\nKellie Pickler",
          "Gloriana\r\nKellie Pickler",
          "Gloriana\r\nKellie Pickler",
          "Gloriana\r\nKellie Pickler",
          "Gloriana\r\nKellie Pickler",
          "Gloriana\r\nKellie Pickler",
          "Gloriana\r\nKellie Pickler",
          "Gloriana\r\nKellie Pickler",
          "Gloriana\r\nKellie Pickler",
          "Gloriana\r\nKellie Pickler",
          "Gloriana\r\nKellie Pickler",
          "Gloriana\r\nKellie Pickler",
          "Gloriana\r\nKellie Pickler",
          "Gloriana\r\nKellie Pickler",
          "Gloriana\r\nKellie Pickler",
          "Gloriana\r\nKellie Pickler",
          "Gloriana\r\nKellie Pickler",
          "Gloriana\r\nKellie Pickler",
          "Gloriana\r\nKellie Pickler",
          "Gloriana\r\nKellie Pickler",
          "Gloriana\r\nKellie Pickler",
          "Gloriana\r\nKellie Pickler",
          "Gloriana\r\nKellie Pickler",
          "Gloriana\r\nKellie Pickler",
          "Gloriana\r\nKellie Pickler",
          "Gloriana\r\nKellie Pickler",
          "Gloriana\r\nKellie Pickler",
          "Gloriana\r\nKellie Pickler",
          "Gloriana\r\nKellie Pickler",
          "Gloriana\r\nKellie Pickler",
          "Gloriana\r\nKellie Pickler",
          "—",
          "Gloriana\r\nKellie Pickler",
          "Gloriana\r\nKellie Pickler",
          "Gloriana\r\nJustin Bieber\r\nKellie Pickler",
          "Gloriana\r\nKellie Pickler",
          "—",
          "Sezairi Sezali",
          "—",
          "—",
          "—",
          "—",
          "Sam Concepcion",
          "Saito Johnny",
          "Tom Dice",
          "Tom Dice",
          "—",
          "Martin & James",
          "Emma Marrone",
          "—",
          "The Bright",
          "Martin & James",
          "Ryan Sheridan",
          "Ryan Sheridan",
          "Martin & James",
          "Martin & James",
          "Needtobreathe",
          "Needtobreathe",
          "Needtobreathe",
          "Needtobreathe",
          "Needtobreathe",
          "Needtobreathe",
          "Needtobreathe",
          "Needtobreathe",
          "Needtobreathe",
          "Needtobreathe",
          "Needtobreathe",
          "Needtobreathe",
          "Needtobreathe",
          "Needtobreathe",
          "Needtobreathe",
          "Needtobreathe",
          "Needtobreathe",
          "Needtobreathe",
          "Needtobreathe",
          "Needtobreathe",
          "Needtobreathe",
          "Needtobreathe",
          "Needtobreathe",
          "Needtobreathe",
          "Needtobreathe",
          "Needtobreathe",
          "Needtobreathe",
          "Needtobreathe",
          "Needtobreathe",
          "Needtobreathe",
          "Needtobreathe",
          "Needtobreathe",
          "Needtobreathe",
          "Needtobreathe",
          "Needtobreathe",
          "Needtobreathe",
          "Needtobreathe",
          "Needtobreathe",
          "Needtobreathe",
          "Needtobreathe",
          "Needtobreathe",
          "Needtobreathe",
          "Needtobreathe",
          "Needtobreathe",
          "Needtobreathe",
          "Needtobreathe",
          "Needtobreathe",
          "Needtobreathe",
          "Needtobreathe",
          "Needtobreathe",
          "Needtobreathe",
          "Needtobreathe",
          "Needtobreathe",
          "Needtobreathe",
          "Needtobreathe",
          "Needtobreathe",
          "Needtobreathe",
          "Needtobreathe",
          "Needtobreathe",
          "Needtobreathe",
          "Needtobreathe",
          "Needtobreathe",
          "Needtobreathe",
          "Needtobreathe",
          "Needtobreathe",
          "Needtobreathe",
          "Needtobreathe",
          "Needtobreathe",
          "Needtobreathe",
          "Needtobreathe",
          "Needtobreathe",
          "Needtobreathe",
          "Needtobreathe",
          "Needtobreathe",
          "Needtobreathe",
          "Needtobreathe",
          "Needtobreathe",
          "Needtobreathe",
          "Needtobreathe",
          "Hot Chelle Rae",
          "Hot Chelle Rae",
          "Hot Chelle Rae",
          "Hot Chelle Rae",
          "Hot Chelle Rae",
          "Hot Chelle Rae",
          "Hot Chelle Rae",
          "Hot Chelle Rae",
          "Hot Chelle Rae",
          "Hot Chelle Rae",
          "Hot Chelle Rae",
          "Hot Chelle Rae",
          "Ed Sheeran\r\nBrett Eldredge",
          "Ed Sheeran\r\nBrett Eldredge",
          "Ed Sheeran\r\nBrett Eldredge",
          "Ed Sheeran\r\nBrett Eldredge",
          "Ed Sheeran\r\nBrett Eldredge",
          "Ed Sheeran\r\nBrett Eldredge",
          "Ed Sheeran\r\nFlorida Georgia Line",
          "Ed Sheeran\r\nFlorida Georgia Line",
          "Ed Sheeran\r\nFlorida Georgia Line",
          "Ed Sheeran\r\nBrett Eldredge",
          "Ed Sheeran\r\nBrett Eldredge",
          "Ed Sheeran\r\nBrett Eldredge",
          "Ed Sheeran\r\nBrett Eldredge",
          "Ed Sheeran\r\nBrett Eldredge",
          "Ed Sheeran\r\nBrett Eldredge",
          "Ed Sheeran\r\nBrett Eldredge",
          "Ed Sheeran\r\nBrett Eldredge",
          "Ed Sheeran\r\nBrett Eldredge",
          "Ed Sheeran\r\nAustin Mahone\r\nBrett Eldredge",
          "Ed Sheeran\r\nFlorida Georgia Line",
          "Ed Sheeran\r\nFlorida Georgia Line",
          "Ed Sheeran\r\nBrett Eldredge",
          "Ed Sheeran\r\nBrett Eldredge",
          "Ed Sheeran\r\nBrett Eldredge",
          "Ed Sheeran\r\nFlorida Georgia Line",
          "Ed Sheeran\r\nFlorida Georgia Line",
          "Ed Sheeran\r\nAustin Mahone\r\nFlorida Georgia Line",
          "Ed Sheeran\r\nJoel Crouse",
          "Ed Sheeran\r\nJoel Crouse",
          "Ed Sheeran\r\nJoel Crouse",
          "Ed Sheeran\r\nJoel Crouse",
          "Ed Sheeran\r\nAustin Mahone\r\nJoel Crouse",
          "Ed Sheeran\r\nAustin Mahone\r\nJoel Crouse",
          "Ed Sheeran\r\nAustin Mahone\r\nJoel Crouse",
          "Ed Sheeran\r\nJoel Crouse",
          "Ed Sheeran\r\nJoel Crouse",
          "Ed Sheeran\r\nAustin Mahone\r\nJoel Crouse",
          "Ed Sheeran\r\nAustin Mahone\r\nJoel Crouse",
          "Ed Sheeran\r\nAustin Mahone\r\nJoel Crouse",
          "Ed Sheeran\r\nAustin Mahone\r\nJoel Crouse",
          "Ed Sheeran\r\nAustin Mahone\r\nJoel Crouse",
          "Ed Sheeran\r\nAustin Mahone\r\nJoel Crouse",
          "Ed Sheeran\r\nAustin Mahone\r\nJoel Crouse",
          "Ed Sheeran\r\nFlorida Georgia Line",
          "Ed Sheeran\r\nFlorida Georgia Line",
          "Ed Sheeran\r\nFlorida Georgia Line",
          "Ed Sheeran\r\nCasey James",
          "Ed Sheeran\r\nCasey James",
          "Ed Sheeran\r\nAustin Mahone\r\nCasey James",
          "Ed Sheeran\r\nCasey James",
          "Ed Sheeran\r\nCasey James",
          "Ed Sheeran\r\nCasey James",
          "Ed Sheeran\r\nCasey James",
          "Ed Sheeran\r\nCasey James",
          "Ed Sheeran\r\nCasey James",
          "Ed Sheeran\r\nCasey James",
          "Ed Sheeran\r\nCasey James",
          "Ed Sheeran\r\nCasey James",
          "Ed Sheeran\r\nCasey James",
          "Ed Sheeran\r\nCasey James",
          "Ed Sheeran\r\nCasey James",
          "Ed Sheeran\r\nCasey James",
          "Ed Sheeran\r\nCasey James",
          "Ed Sheeran\r\nCasey James",
          "Ed Sheeran\r\nCasey James",
          "Ed Sheeran\r\nCasey James",
          "Neon Trees",
          "Neon Trees",
          "Neon Trees",
          "Guy Sebastian\r\nNeon Trees",
          "Guy Sebastian\r\nNeon Trees",
          "Guy Sebastian\r\nNeon Trees",
          "Guy Sebastian\r\nNeon Trees",
          "The Vamps",
          "The Vamps",
          "The Vamps",
          "Andreas Bourani",
          "The Vamps",
          "The Vamps",
          "unavailable",
          "CTS",
          "Nicole Zefanya",
          "Meg Bucsit",
          "Imprompt-3",
          "IamNeeta",
          "Imprompt-3",
          "—",
          "—",
          "—",
          "Vance Joy",
          "Vance Joy\r\nShawn Mendes",
          "Vance Joy\r\nShawn Mendes",
          "Vance Joy",
          "Vance Joy",
          "Vance Joy\r\nShawn Mendes",
          "Vance Joy",
          "Vance Joy",
          "Vance Joy\r\nShawn Mendes",
          "Vance Joy\r\nShawn Mendes",
          "James Bay",
          "James Bay",
          "James Bay",
          "Vance Joy",
          "Vance Joy",
          "—",
          "Vance Joy",
          "Vance Joy",
          "Vance Joy",
          "Vance Joy",
          "Vance Joy\r\nShawn Mendes\r\nHaim",
          "Vance Joy\r\nShawn Mendes\r\nHaim",
          "Vance Joy\r\nShawn Mendes\r\nHaim",
          "Vance Joy\r\nShawn Mendes\r\nHaim",
          "Vance Joy\r\nShawn Mendes\r\nHaim",
          "Vance Joy\r\nShawn Mendes\r\nHaim",
          "Vance Joy\r\nShawn Mendes\r\nHaim",
          "Vance Joy\r\nShawn Mendes\r\nHaim",
          "Vance Joy\r\nShawn Mendes",
          "Vance Joy",
          "Vance Joy",
          "Vance Joy\r\nShawn Mendes",
          "Vance Joy\r\nShawn Mendes",
          "Vance Joy\r\nShawn Mendes",
          "Vance Joy",
          "Vance Joy",
          "Vance Joy\r\nHaim",
          "Vance Joy\r\nHaim",
          "Vance Joy\r\nHaim",
          "Vance Joy\r\nHaim",
          "Vance Joy\r\nHaim",
          "Vance Joy\r\nShawn Mendes",
          "Vance Joy",
          "Vance Joy",
          "Vance Joy",
          "Vance Joy\r\nShawn Mendes",
          "Vance Joy",
          "Vance Joy",
          "Vance Joy",
          "Vance Joy",
          "Vance Joy",
          "Vance Joy",
          "Vance Joy",
          "Vance Joy",
          "Vance Joy\r\nHaim",
          "Vance Joy\r\nHaim",
          "Vance Joy\r\nHaim",
          "Vance Joy\r\nHaim",
          "Vance Joy\r\nShawn Mendes",
          "Vance Joy\r\nShawn Mendes",
          "Vance Joy",
          "Vance Joy",
          "Vance Joy",
          "Vance Joy",
          "Vance Joy\r\nShawn Mendes",
          "Vance Joy",
          "Vance Joy",
          "Vance Joy\r\nShawn Mendes",
          "Vance Joy",
          "Vance Joy\r\nShawn Mendes",
          "—",
          "—",
          "—",
          "—",
          "—",
          "Vance Joy",
          "Vance Joy",
          "Vance Joy",
          "Vance Joy",
          "Vance Joy",
          "Vance Joy",
          "Vance Joy",
          "Camila Cabello\r\nCharli XCX",
          "Camila Cabello\r\nCharli XCX",
          "Camila Cabello\r\nCharli XCX",
          "Camila Cabello\r\nCharli XCX",
          "Camila Cabello\r\nCharli XCX",
          "Charli XCX",
          "Camila Cabello\r\nCharli XCX",
          "Camila Cabello\r\nCharli XCX",
          "Camila Cabello\r\nCharli XCX",
          "Camila Cabello\r\nCharli XCX",
          "Camila Cabello\r\nCharli XCX",
          "Camila Cabello\r\nCharli XCX",
          "Camila Cabello\r\nCharli XCX",
          "Camila Cabello\r\nCharli XCX",
          "Camila Cabello\r\nCharli XCX",
          "Camila Cabello\r\nCharli XCX",
          "Camila Cabello\r\nCharli XCX",
          "Camila Cabello\r\nCharli XCX",
          "Camila Cabello\r\nCharli XCX",
          "Camila Cabello\r\nCharli XCX",
          "Camila Cabello\r\nCharli XCX",
          "Camila Cabello\r\nCharli XCX",
          "Camila Cabello\r\nCharli XCX",
          "Camila Cabello\r\nCharli XCX",
          "Camila Cabello\r\nCharli XCX",
          "Camila Cabello\r\nCharli XCX",
          "Camila Cabello\r\nCharli XCX",
          "Camila Cabello\r\nCharli XCX",
          "Camila Cabello\r\nCharli XCX",
          "Camila Cabello\r\nCharli XCX",
          "Camila Cabello\r\nCharli XCX",
          "Camila Cabello\r\nCharli XCX",
          "Camila Cabello\r\nCharli XCX",
          "Camila Cabello\r\nCharli XCX",
          "Camila Cabello\r\nCharli XCX",
          "Camila Cabello\r\nCharli XCX",
          "Camila Cabello\r\nCharli XCX",
          "Camila Cabello\r\nCharli XCX",
          "Camila Cabello\r\nCharli XCX",
          "Camila Cabello\r\nCharli XCX",
          "Camila Cabello\r\nCharli XCX",
          "Camila Cabello\r\nCharli XCX",
          "Camila Cabello\r\nCharli XCX",
          "Camila Cabello\r\nCharli XCX",
          "Camila Cabello\r\nCharli XCX",
          "Camila Cabello\r\nCharli XCX",
          "Charli XCX\r\nBroods",
          "Charli XCX\r\nBroods",
          "Charli XCX\r\nBroods",
          "Charli XCX\r\nBroods",
          "Charli XCX\r\nBroods",
          "Charli XCX",
          "Charli XCX"
         ],
         "xaxis": "x",
         "yaxis": "y"
        }
       ],
       "layout": {
        "barmode": "relative",
        "legend": {
         "tracegroupgap": 0
        },
        "margin": {
         "t": 60
        },
        "template": {
         "data": {
          "bar": [
           {
            "error_x": {
             "color": "#2a3f5f"
            },
            "error_y": {
             "color": "#2a3f5f"
            },
            "marker": {
             "line": {
              "color": "#E5ECF6",
              "width": 0.5
             },
             "pattern": {
              "fillmode": "overlay",
              "size": 10,
              "solidity": 0.2
             }
            },
            "type": "bar"
           }
          ],
          "barpolar": [
           {
            "marker": {
             "line": {
              "color": "#E5ECF6",
              "width": 0.5
             },
             "pattern": {
              "fillmode": "overlay",
              "size": 10,
              "solidity": 0.2
             }
            },
            "type": "barpolar"
           }
          ],
          "carpet": [
           {
            "aaxis": {
             "endlinecolor": "#2a3f5f",
             "gridcolor": "white",
             "linecolor": "white",
             "minorgridcolor": "white",
             "startlinecolor": "#2a3f5f"
            },
            "baxis": {
             "endlinecolor": "#2a3f5f",
             "gridcolor": "white",
             "linecolor": "white",
             "minorgridcolor": "white",
             "startlinecolor": "#2a3f5f"
            },
            "type": "carpet"
           }
          ],
          "choropleth": [
           {
            "colorbar": {
             "outlinewidth": 0,
             "ticks": ""
            },
            "type": "choropleth"
           }
          ],
          "contour": [
           {
            "colorbar": {
             "outlinewidth": 0,
             "ticks": ""
            },
            "colorscale": [
             [
              0,
              "#0d0887"
             ],
             [
              0.1111111111111111,
              "#46039f"
             ],
             [
              0.2222222222222222,
              "#7201a8"
             ],
             [
              0.3333333333333333,
              "#9c179e"
             ],
             [
              0.4444444444444444,
              "#bd3786"
             ],
             [
              0.5555555555555556,
              "#d8576b"
             ],
             [
              0.6666666666666666,
              "#ed7953"
             ],
             [
              0.7777777777777778,
              "#fb9f3a"
             ],
             [
              0.8888888888888888,
              "#fdca26"
             ],
             [
              1,
              "#f0f921"
             ]
            ],
            "type": "contour"
           }
          ],
          "contourcarpet": [
           {
            "colorbar": {
             "outlinewidth": 0,
             "ticks": ""
            },
            "type": "contourcarpet"
           }
          ],
          "heatmap": [
           {
            "colorbar": {
             "outlinewidth": 0,
             "ticks": ""
            },
            "colorscale": [
             [
              0,
              "#0d0887"
             ],
             [
              0.1111111111111111,
              "#46039f"
             ],
             [
              0.2222222222222222,
              "#7201a8"
             ],
             [
              0.3333333333333333,
              "#9c179e"
             ],
             [
              0.4444444444444444,
              "#bd3786"
             ],
             [
              0.5555555555555556,
              "#d8576b"
             ],
             [
              0.6666666666666666,
              "#ed7953"
             ],
             [
              0.7777777777777778,
              "#fb9f3a"
             ],
             [
              0.8888888888888888,
              "#fdca26"
             ],
             [
              1,
              "#f0f921"
             ]
            ],
            "type": "heatmap"
           }
          ],
          "heatmapgl": [
           {
            "colorbar": {
             "outlinewidth": 0,
             "ticks": ""
            },
            "colorscale": [
             [
              0,
              "#0d0887"
             ],
             [
              0.1111111111111111,
              "#46039f"
             ],
             [
              0.2222222222222222,
              "#7201a8"
             ],
             [
              0.3333333333333333,
              "#9c179e"
             ],
             [
              0.4444444444444444,
              "#bd3786"
             ],
             [
              0.5555555555555556,
              "#d8576b"
             ],
             [
              0.6666666666666666,
              "#ed7953"
             ],
             [
              0.7777777777777778,
              "#fb9f3a"
             ],
             [
              0.8888888888888888,
              "#fdca26"
             ],
             [
              1,
              "#f0f921"
             ]
            ],
            "type": "heatmapgl"
           }
          ],
          "histogram": [
           {
            "marker": {
             "pattern": {
              "fillmode": "overlay",
              "size": 10,
              "solidity": 0.2
             }
            },
            "type": "histogram"
           }
          ],
          "histogram2d": [
           {
            "colorbar": {
             "outlinewidth": 0,
             "ticks": ""
            },
            "colorscale": [
             [
              0,
              "#0d0887"
             ],
             [
              0.1111111111111111,
              "#46039f"
             ],
             [
              0.2222222222222222,
              "#7201a8"
             ],
             [
              0.3333333333333333,
              "#9c179e"
             ],
             [
              0.4444444444444444,
              "#bd3786"
             ],
             [
              0.5555555555555556,
              "#d8576b"
             ],
             [
              0.6666666666666666,
              "#ed7953"
             ],
             [
              0.7777777777777778,
              "#fb9f3a"
             ],
             [
              0.8888888888888888,
              "#fdca26"
             ],
             [
              1,
              "#f0f921"
             ]
            ],
            "type": "histogram2d"
           }
          ],
          "histogram2dcontour": [
           {
            "colorbar": {
             "outlinewidth": 0,
             "ticks": ""
            },
            "colorscale": [
             [
              0,
              "#0d0887"
             ],
             [
              0.1111111111111111,
              "#46039f"
             ],
             [
              0.2222222222222222,
              "#7201a8"
             ],
             [
              0.3333333333333333,
              "#9c179e"
             ],
             [
              0.4444444444444444,
              "#bd3786"
             ],
             [
              0.5555555555555556,
              "#d8576b"
             ],
             [
              0.6666666666666666,
              "#ed7953"
             ],
             [
              0.7777777777777778,
              "#fb9f3a"
             ],
             [
              0.8888888888888888,
              "#fdca26"
             ],
             [
              1,
              "#f0f921"
             ]
            ],
            "type": "histogram2dcontour"
           }
          ],
          "mesh3d": [
           {
            "colorbar": {
             "outlinewidth": 0,
             "ticks": ""
            },
            "type": "mesh3d"
           }
          ],
          "parcoords": [
           {
            "line": {
             "colorbar": {
              "outlinewidth": 0,
              "ticks": ""
             }
            },
            "type": "parcoords"
           }
          ],
          "pie": [
           {
            "automargin": true,
            "type": "pie"
           }
          ],
          "scatter": [
           {
            "fillpattern": {
             "fillmode": "overlay",
             "size": 10,
             "solidity": 0.2
            },
            "type": "scatter"
           }
          ],
          "scatter3d": [
           {
            "line": {
             "colorbar": {
              "outlinewidth": 0,
              "ticks": ""
             }
            },
            "marker": {
             "colorbar": {
              "outlinewidth": 0,
              "ticks": ""
             }
            },
            "type": "scatter3d"
           }
          ],
          "scattercarpet": [
           {
            "marker": {
             "colorbar": {
              "outlinewidth": 0,
              "ticks": ""
             }
            },
            "type": "scattercarpet"
           }
          ],
          "scattergeo": [
           {
            "marker": {
             "colorbar": {
              "outlinewidth": 0,
              "ticks": ""
             }
            },
            "type": "scattergeo"
           }
          ],
          "scattergl": [
           {
            "marker": {
             "colorbar": {
              "outlinewidth": 0,
              "ticks": ""
             }
            },
            "type": "scattergl"
           }
          ],
          "scattermapbox": [
           {
            "marker": {
             "colorbar": {
              "outlinewidth": 0,
              "ticks": ""
             }
            },
            "type": "scattermapbox"
           }
          ],
          "scatterpolar": [
           {
            "marker": {
             "colorbar": {
              "outlinewidth": 0,
              "ticks": ""
             }
            },
            "type": "scatterpolar"
           }
          ],
          "scatterpolargl": [
           {
            "marker": {
             "colorbar": {
              "outlinewidth": 0,
              "ticks": ""
             }
            },
            "type": "scatterpolargl"
           }
          ],
          "scatterternary": [
           {
            "marker": {
             "colorbar": {
              "outlinewidth": 0,
              "ticks": ""
             }
            },
            "type": "scatterternary"
           }
          ],
          "surface": [
           {
            "colorbar": {
             "outlinewidth": 0,
             "ticks": ""
            },
            "colorscale": [
             [
              0,
              "#0d0887"
             ],
             [
              0.1111111111111111,
              "#46039f"
             ],
             [
              0.2222222222222222,
              "#7201a8"
             ],
             [
              0.3333333333333333,
              "#9c179e"
             ],
             [
              0.4444444444444444,
              "#bd3786"
             ],
             [
              0.5555555555555556,
              "#d8576b"
             ],
             [
              0.6666666666666666,
              "#ed7953"
             ],
             [
              0.7777777777777778,
              "#fb9f3a"
             ],
             [
              0.8888888888888888,
              "#fdca26"
             ],
             [
              1,
              "#f0f921"
             ]
            ],
            "type": "surface"
           }
          ],
          "table": [
           {
            "cells": {
             "fill": {
              "color": "#EBF0F8"
             },
             "line": {
              "color": "white"
             }
            },
            "header": {
             "fill": {
              "color": "#C8D4E3"
             },
             "line": {
              "color": "white"
             }
            },
            "type": "table"
           }
          ]
         },
         "layout": {
          "annotationdefaults": {
           "arrowcolor": "#2a3f5f",
           "arrowhead": 0,
           "arrowwidth": 1
          },
          "autotypenumbers": "strict",
          "coloraxis": {
           "colorbar": {
            "outlinewidth": 0,
            "ticks": ""
           }
          },
          "colorscale": {
           "diverging": [
            [
             0,
             "#8e0152"
            ],
            [
             0.1,
             "#c51b7d"
            ],
            [
             0.2,
             "#de77ae"
            ],
            [
             0.3,
             "#f1b6da"
            ],
            [
             0.4,
             "#fde0ef"
            ],
            [
             0.5,
             "#f7f7f7"
            ],
            [
             0.6,
             "#e6f5d0"
            ],
            [
             0.7,
             "#b8e186"
            ],
            [
             0.8,
             "#7fbc41"
            ],
            [
             0.9,
             "#4d9221"
            ],
            [
             1,
             "#276419"
            ]
           ],
           "sequential": [
            [
             0,
             "#0d0887"
            ],
            [
             0.1111111111111111,
             "#46039f"
            ],
            [
             0.2222222222222222,
             "#7201a8"
            ],
            [
             0.3333333333333333,
             "#9c179e"
            ],
            [
             0.4444444444444444,
             "#bd3786"
            ],
            [
             0.5555555555555556,
             "#d8576b"
            ],
            [
             0.6666666666666666,
             "#ed7953"
            ],
            [
             0.7777777777777778,
             "#fb9f3a"
            ],
            [
             0.8888888888888888,
             "#fdca26"
            ],
            [
             1,
             "#f0f921"
            ]
           ],
           "sequentialminus": [
            [
             0,
             "#0d0887"
            ],
            [
             0.1111111111111111,
             "#46039f"
            ],
            [
             0.2222222222222222,
             "#7201a8"
            ],
            [
             0.3333333333333333,
             "#9c179e"
            ],
            [
             0.4444444444444444,
             "#bd3786"
            ],
            [
             0.5555555555555556,
             "#d8576b"
            ],
            [
             0.6666666666666666,
             "#ed7953"
            ],
            [
             0.7777777777777778,
             "#fb9f3a"
            ],
            [
             0.8888888888888888,
             "#fdca26"
            ],
            [
             1,
             "#f0f921"
            ]
           ]
          },
          "colorway": [
           "#636efa",
           "#EF553B",
           "#00cc96",
           "#ab63fa",
           "#FFA15A",
           "#19d3f3",
           "#FF6692",
           "#B6E880",
           "#FF97FF",
           "#FECB52"
          ],
          "font": {
           "color": "#2a3f5f"
          },
          "geo": {
           "bgcolor": "white",
           "lakecolor": "white",
           "landcolor": "#E5ECF6",
           "showlakes": true,
           "showland": true,
           "subunitcolor": "white"
          },
          "hoverlabel": {
           "align": "left"
          },
          "hovermode": "closest",
          "mapbox": {
           "style": "light"
          },
          "paper_bgcolor": "white",
          "plot_bgcolor": "#E5ECF6",
          "polar": {
           "angularaxis": {
            "gridcolor": "white",
            "linecolor": "white",
            "ticks": ""
           },
           "bgcolor": "#E5ECF6",
           "radialaxis": {
            "gridcolor": "white",
            "linecolor": "white",
            "ticks": ""
           }
          },
          "scene": {
           "xaxis": {
            "backgroundcolor": "#E5ECF6",
            "gridcolor": "white",
            "gridwidth": 2,
            "linecolor": "white",
            "showbackground": true,
            "ticks": "",
            "zerolinecolor": "white"
           },
           "yaxis": {
            "backgroundcolor": "#E5ECF6",
            "gridcolor": "white",
            "gridwidth": 2,
            "linecolor": "white",
            "showbackground": true,
            "ticks": "",
            "zerolinecolor": "white"
           },
           "zaxis": {
            "backgroundcolor": "#E5ECF6",
            "gridcolor": "white",
            "gridwidth": 2,
            "linecolor": "white",
            "showbackground": true,
            "ticks": "",
            "zerolinecolor": "white"
           }
          },
          "shapedefaults": {
           "line": {
            "color": "#2a3f5f"
           }
          },
          "ternary": {
           "aaxis": {
            "gridcolor": "white",
            "linecolor": "white",
            "ticks": ""
           },
           "baxis": {
            "gridcolor": "white",
            "linecolor": "white",
            "ticks": ""
           },
           "bgcolor": "#E5ECF6",
           "caxis": {
            "gridcolor": "white",
            "linecolor": "white",
            "ticks": ""
           }
          },
          "title": {
           "x": 0.05
          },
          "xaxis": {
           "automargin": true,
           "gridcolor": "white",
           "linecolor": "white",
           "ticks": "",
           "title": {
            "standoff": 15
           },
           "zerolinecolor": "white",
           "zerolinewidth": 2
          },
          "yaxis": {
           "automargin": true,
           "gridcolor": "white",
           "linecolor": "white",
           "ticks": "",
           "title": {
            "standoff": 15
           },
           "zerolinecolor": "white",
           "zerolinewidth": 2
          }
         }
        },
        "xaxis": {
         "anchor": "y",
         "domain": [
          0,
          1
         ],
         "title": {
          "text": "opening_act(s)"
         }
        },
        "yaxis": {
         "anchor": "x",
         "domain": [
          0,
          1
         ],
         "title": {
          "text": "count"
         }
        }
       }
      }
     },
     "metadata": {},
     "output_type": "display_data"
    }
   ],
   "source": [
    "px.histogram(df, 'opening_act(s)')"
   ]
  },
  {
   "cell_type": "code",
   "execution_count": 55,
   "metadata": {},
   "outputs": [
    {
     "data": {
      "application/vnd.plotly.v1+json": {
       "config": {
        "plotlyServerURL": "https://plot.ly"
       },
       "data": [
        {
         "alignmentgroup": "True",
         "bingroup": "x",
         "hovertemplate": "city=%{x}<br>count=%{y}<extra></extra>",
         "legendgroup": "",
         "marker": {
          "color": "#636efa",
          "pattern": {
           "shape": ""
          }
         },
         "name": "",
         "offsetgroup": "",
         "orientation": "v",
         "showlegend": false,
         "type": "histogram",
         "x": [
          "Evansville",
          "Jonesboro",
          "St. Louis",
          "Alexandria",
          "North Charleston",
          "Jacksonville",
          "Biloxi",
          "London",
          "London",
          "Spokane",
          "Seattle",
          "Portland",
          "Nampa",
          "Glendale",
          "Los Angeles",
          "Paradise",
          "San Diego",
          "Salt Lake City",
          "New Brockton",
          "Columbia",
          "Greensboro",
          "Oshkosh",
          "Cadott",
          "Calgary",
          "Edmonton",
          "Craven",
          "Winnipeg",
          "Twin Lakes",
          "Columbus",
          "Charleston",
          "Cheyenne",
          "Rapid City",
          "Minot",
          "Philadelphia",
          "Detroit Lakes",
          "Omaha",
          "Chelmsford",
          "Weston-under-Lizard",
          "New York City",
          "Montville",
          "University Park",
          "Louisville",
          "Duluth",
          "Greenville",
          "Charlotte",
          "Lafayette",
          "Bossier City",
          "Birmingham",
          "Nashville",
          "Dallas",
          "North Little Rock",
          "Tulsa",
          "Pittsburgh",
          "Grand Rapids",
          "Cleveland",
          "Indianapolis",
          "Rosemont",
          "Rosemont",
          "Minneapolis",
          "London",
          "Manchester",
          "Brisbane",
          "Sydney",
          "Sydney",
          "Newcastle",
          "Melbourne",
          "Melbourne",
          "Adelaide",
          "Tokyo",
          "Tampa",
          "Orlando",
          "Sunrise",
          "Austin",
          "Dallas",
          "Corpus Christi",
          "Philadelphia",
          "Philadelphia",
          "Charlottesville",
          "Auburn Hills",
          "Auburn Hills",
          "Cincinnati",
          "Oklahoma City",
          "Wichita",
          "Kansas City",
          "Denver",
          "Denver",
          "Fresno",
          "San Jose",
          "Los Angeles",
          "Los Angeles",
          "Lexington",
          "Columbia",
          "Raleigh",
          "Des Moines",
          "Saint Paul",
          "Moline",
          "Newark",
          "Newark",
          "Uniondale",
          "Uniondale",
          "Ottawa",
          "Toronto",
          "Toronto",
          "Houston",
          "Houston",
          "Baton Rouge",
          "Washington",
          "Washington",
          "Foxborough",
          "Nassau",
          "Cavendish",
          "Singapore",
          "Seoul",
          "Osaka",
          "Tokyo",
          "Tokyo",
          "Quezon City",
          "Hong Kong",
          "Brussels",
          "Rotterdam",
          "Oslo",
          "Oberhausen",
          "Milan",
          "Paris",
          "Madrid",
          "Birmingham",
          "Belfast",
          "Dublin",
          "Manchester",
          "London",
          "Omaha",
          "Omaha",
          "Des Moines",
          "Sunrise",
          "Sunrise",
          "Orlando",
          "Columbus",
          "Milwaukee",
          "Detroit",
          "Saint Paul",
          "Saint Paul",
          "Pittsburgh",
          "Buffalo",
          "Hartford",
          "Foxborough",
          "Foxborough",
          "Greensboro",
          "Knoxville",
          "Montreal",
          "Toronto",
          "Toronto",
          "Newark",
          "Newark",
          "Newark",
          "Newark",
          "Grand Rapids",
          "Indianapolis",
          "Cleveland",
          "Washington",
          "Washington",
          "Philadelphia",
          "Rosemont",
          "Rosemont",
          "St. Louis",
          "St. Louis",
          "Edmonton",
          "Edmonton",
          "Los Angeles",
          "Los Angeles",
          "Los Angeles",
          "Los Angeles",
          "San Jose",
          "San Jose",
          "Sacramento",
          "Portland",
          "Tacoma",
          "Vancouver",
          "Vancouver",
          "Nashville",
          "Nashville",
          "Bossier City",
          "Tulsa",
          "Kansas City",
          "Denver",
          "Salt Lake City",
          "Atlanta",
          "Atlanta",
          "North Little Rock",
          "New Orleans",
          "Arlington",
          "Louisville",
          "Lubbock",
          "Oklahoma City",
          "San Diego",
          "Glendale",
          "Glendale",
          "San Antonio",
          "Austin",
          "Lexington",
          "Memphis",
          "Houston",
          "Jacksonville",
          "Tampa",
          "Miami",
          "Charlotte",
          "Raleigh",
          "Columbia",
          "New York",
          "New York",
          "Perth",
          "Adelaide",
          "Brisbane",
          "Brisbane",
          "Sydney",
          "Sydney",
          "Melbourne",
          "Melbourne",
          "Melbourne",
          "Auckland",
          "Auckland",
          "Auckland",
          "Omaha",
          "Omaha",
          "St. Louis",
          "St. Louis",
          "Charlotte",
          "Columbia",
          "Newark",
          "Newark",
          "Newark",
          "Miami",
          "Orlando",
          "Orlando",
          "Atlanta",
          "Atlanta",
          "Tampa",
          "Cleveland",
          "Indianapolis",
          "Lexington",
          "Detroit",
          "Louisville",
          "Columbus",
          "Washington",
          "Washington",
          "Houston",
          "Austin",
          "San Antonio",
          "Arlington",
          "Glendale",
          "Glendale",
          "Salt Lake City",
          "Denver",
          "Toronto",
          "Toronto",
          "Winnipeg",
          "Edmonton",
          "Edmonton",
          "Vancouver",
          "Pittsburgh",
          "East Rutherford",
          "Philadelphia",
          "Philadelphia",
          "Foxborough",
          "Foxborough",
          "Des Moines",
          "Kansas City",
          "Kansas City",
          "Wichita",
          "Tulsa",
          "Chicago",
          "San Diego",
          "Los Angeles",
          "Los Angeles",
          "Los Angeles",
          "Los Angeles",
          "Sacramento",
          "Portland",
          "Tacoma",
          "Fargo",
          "Saint Paul",
          "Saint Paul",
          "Greensboro",
          "Raleigh",
          "Charlottesville",
          "Nashville",
          "Nashville",
          "Nashville",
          "Auckland",
          "Auckland",
          "Auckland",
          "Sydney",
          "Brisbane",
          "Perth",
          "Melbourne",
          "London",
          "London",
          "London",
          "Berlin",
          "London",
          "London",
          "Shanghai",
          "Saitama",
          "Jakarta",
          "Pasay",
          "Singapore",
          "Kuala Lumpur",
          "Singapore",
          "Tokyo",
          "Tokyo",
          "Winchester",
          "Bossier City",
          "Baton Rouge",
          "Detroit",
          "Louisville",
          "Cleveland",
          "Pittsburgh",
          "Charlotte",
          "Raleigh",
          "Philadelphia",
          "Philadelphia",
          "Cologne",
          "Cologne",
          "Amsterdam",
          "Glasgow",
          "Manchester",
          "London",
          "Dublin",
          "Dublin",
          "Ottawa",
          "Montreal",
          "East Rutherford",
          "East Rutherford",
          "Washington",
          "Washington",
          "Chicago",
          "Chicago",
          "Foxborough",
          "Foxborough",
          "Vancouver",
          "Edmonton",
          "Edmonton",
          "Seattle",
          "Santa Clara",
          "Santa Clara",
          "Glendale",
          "Glendale",
          "Los Angeles",
          "Los Angeles",
          "Los Angeles",
          "Los Angeles",
          "Los Angeles",
          "San Diego",
          "Salt Lake City",
          "Denver",
          "Denver",
          "Houston",
          "Saint Paul",
          "Saint Paul",
          "Saint Paul",
          "Indianapolis",
          "Columbus",
          "Columbus",
          "Kansas City",
          "Kansas City",
          "Nashville",
          "Nashville",
          "St. Louis",
          "St. Louis",
          "Toronto",
          "Toronto",
          "Des Moines",
          "Omaha",
          "Omaha",
          "Fargo",
          "Arlington",
          "Lexington",
          "Greensboro",
          "Atlanta",
          "Miami",
          "Tampa",
          "Singapore",
          "Singapore",
          "Shanghai",
          "Shanghai",
          "Shanghai",
          "Sydney",
          "Brisbane",
          "Adelaide",
          "Adelaide",
          "Melbourne",
          "Melbourne",
          "Melbourne",
          "Glendale",
          "Santa Clara",
          "Santa Clara",
          "Pasadena",
          "Pasadena",
          "Seattle",
          "Denver",
          "Chicago",
          "Chicago",
          "Manchester",
          "Manchester",
          "Dublin",
          "Dublin",
          "London",
          "London",
          "Louisville",
          "Columbus",
          "Landover",
          "Landover",
          "Philadelphia",
          "Philadelphia",
          "Cleveland",
          "East Rutherford",
          "East Rutherford",
          "East Rutherford",
          "Foxborough",
          "Foxborough",
          "Foxborough",
          "Toronto",
          "Toronto",
          "Pittsburgh",
          "Atlanta",
          "Atlanta",
          "Tampa",
          "Miami Gardens",
          "Nashville",
          "Detroit",
          "Minneapolis",
          "Minneapolis",
          "Kansas City",
          "Indianapolis",
          "St. Louis",
          "New Orleans",
          "Houston",
          "Arlington",
          "Arlington",
          "Perth",
          "Melbourne",
          "Sydney",
          "Brisbane",
          "Auckland",
          "Tokyo",
          "Tokyo"
         ],
         "xaxis": "x",
         "yaxis": "y"
        }
       ],
       "layout": {
        "barmode": "relative",
        "legend": {
         "tracegroupgap": 0
        },
        "margin": {
         "t": 60
        },
        "template": {
         "data": {
          "bar": [
           {
            "error_x": {
             "color": "#2a3f5f"
            },
            "error_y": {
             "color": "#2a3f5f"
            },
            "marker": {
             "line": {
              "color": "#E5ECF6",
              "width": 0.5
             },
             "pattern": {
              "fillmode": "overlay",
              "size": 10,
              "solidity": 0.2
             }
            },
            "type": "bar"
           }
          ],
          "barpolar": [
           {
            "marker": {
             "line": {
              "color": "#E5ECF6",
              "width": 0.5
             },
             "pattern": {
              "fillmode": "overlay",
              "size": 10,
              "solidity": 0.2
             }
            },
            "type": "barpolar"
           }
          ],
          "carpet": [
           {
            "aaxis": {
             "endlinecolor": "#2a3f5f",
             "gridcolor": "white",
             "linecolor": "white",
             "minorgridcolor": "white",
             "startlinecolor": "#2a3f5f"
            },
            "baxis": {
             "endlinecolor": "#2a3f5f",
             "gridcolor": "white",
             "linecolor": "white",
             "minorgridcolor": "white",
             "startlinecolor": "#2a3f5f"
            },
            "type": "carpet"
           }
          ],
          "choropleth": [
           {
            "colorbar": {
             "outlinewidth": 0,
             "ticks": ""
            },
            "type": "choropleth"
           }
          ],
          "contour": [
           {
            "colorbar": {
             "outlinewidth": 0,
             "ticks": ""
            },
            "colorscale": [
             [
              0,
              "#0d0887"
             ],
             [
              0.1111111111111111,
              "#46039f"
             ],
             [
              0.2222222222222222,
              "#7201a8"
             ],
             [
              0.3333333333333333,
              "#9c179e"
             ],
             [
              0.4444444444444444,
              "#bd3786"
             ],
             [
              0.5555555555555556,
              "#d8576b"
             ],
             [
              0.6666666666666666,
              "#ed7953"
             ],
             [
              0.7777777777777778,
              "#fb9f3a"
             ],
             [
              0.8888888888888888,
              "#fdca26"
             ],
             [
              1,
              "#f0f921"
             ]
            ],
            "type": "contour"
           }
          ],
          "contourcarpet": [
           {
            "colorbar": {
             "outlinewidth": 0,
             "ticks": ""
            },
            "type": "contourcarpet"
           }
          ],
          "heatmap": [
           {
            "colorbar": {
             "outlinewidth": 0,
             "ticks": ""
            },
            "colorscale": [
             [
              0,
              "#0d0887"
             ],
             [
              0.1111111111111111,
              "#46039f"
             ],
             [
              0.2222222222222222,
              "#7201a8"
             ],
             [
              0.3333333333333333,
              "#9c179e"
             ],
             [
              0.4444444444444444,
              "#bd3786"
             ],
             [
              0.5555555555555556,
              "#d8576b"
             ],
             [
              0.6666666666666666,
              "#ed7953"
             ],
             [
              0.7777777777777778,
              "#fb9f3a"
             ],
             [
              0.8888888888888888,
              "#fdca26"
             ],
             [
              1,
              "#f0f921"
             ]
            ],
            "type": "heatmap"
           }
          ],
          "heatmapgl": [
           {
            "colorbar": {
             "outlinewidth": 0,
             "ticks": ""
            },
            "colorscale": [
             [
              0,
              "#0d0887"
             ],
             [
              0.1111111111111111,
              "#46039f"
             ],
             [
              0.2222222222222222,
              "#7201a8"
             ],
             [
              0.3333333333333333,
              "#9c179e"
             ],
             [
              0.4444444444444444,
              "#bd3786"
             ],
             [
              0.5555555555555556,
              "#d8576b"
             ],
             [
              0.6666666666666666,
              "#ed7953"
             ],
             [
              0.7777777777777778,
              "#fb9f3a"
             ],
             [
              0.8888888888888888,
              "#fdca26"
             ],
             [
              1,
              "#f0f921"
             ]
            ],
            "type": "heatmapgl"
           }
          ],
          "histogram": [
           {
            "marker": {
             "pattern": {
              "fillmode": "overlay",
              "size": 10,
              "solidity": 0.2
             }
            },
            "type": "histogram"
           }
          ],
          "histogram2d": [
           {
            "colorbar": {
             "outlinewidth": 0,
             "ticks": ""
            },
            "colorscale": [
             [
              0,
              "#0d0887"
             ],
             [
              0.1111111111111111,
              "#46039f"
             ],
             [
              0.2222222222222222,
              "#7201a8"
             ],
             [
              0.3333333333333333,
              "#9c179e"
             ],
             [
              0.4444444444444444,
              "#bd3786"
             ],
             [
              0.5555555555555556,
              "#d8576b"
             ],
             [
              0.6666666666666666,
              "#ed7953"
             ],
             [
              0.7777777777777778,
              "#fb9f3a"
             ],
             [
              0.8888888888888888,
              "#fdca26"
             ],
             [
              1,
              "#f0f921"
             ]
            ],
            "type": "histogram2d"
           }
          ],
          "histogram2dcontour": [
           {
            "colorbar": {
             "outlinewidth": 0,
             "ticks": ""
            },
            "colorscale": [
             [
              0,
              "#0d0887"
             ],
             [
              0.1111111111111111,
              "#46039f"
             ],
             [
              0.2222222222222222,
              "#7201a8"
             ],
             [
              0.3333333333333333,
              "#9c179e"
             ],
             [
              0.4444444444444444,
              "#bd3786"
             ],
             [
              0.5555555555555556,
              "#d8576b"
             ],
             [
              0.6666666666666666,
              "#ed7953"
             ],
             [
              0.7777777777777778,
              "#fb9f3a"
             ],
             [
              0.8888888888888888,
              "#fdca26"
             ],
             [
              1,
              "#f0f921"
             ]
            ],
            "type": "histogram2dcontour"
           }
          ],
          "mesh3d": [
           {
            "colorbar": {
             "outlinewidth": 0,
             "ticks": ""
            },
            "type": "mesh3d"
           }
          ],
          "parcoords": [
           {
            "line": {
             "colorbar": {
              "outlinewidth": 0,
              "ticks": ""
             }
            },
            "type": "parcoords"
           }
          ],
          "pie": [
           {
            "automargin": true,
            "type": "pie"
           }
          ],
          "scatter": [
           {
            "fillpattern": {
             "fillmode": "overlay",
             "size": 10,
             "solidity": 0.2
            },
            "type": "scatter"
           }
          ],
          "scatter3d": [
           {
            "line": {
             "colorbar": {
              "outlinewidth": 0,
              "ticks": ""
             }
            },
            "marker": {
             "colorbar": {
              "outlinewidth": 0,
              "ticks": ""
             }
            },
            "type": "scatter3d"
           }
          ],
          "scattercarpet": [
           {
            "marker": {
             "colorbar": {
              "outlinewidth": 0,
              "ticks": ""
             }
            },
            "type": "scattercarpet"
           }
          ],
          "scattergeo": [
           {
            "marker": {
             "colorbar": {
              "outlinewidth": 0,
              "ticks": ""
             }
            },
            "type": "scattergeo"
           }
          ],
          "scattergl": [
           {
            "marker": {
             "colorbar": {
              "outlinewidth": 0,
              "ticks": ""
             }
            },
            "type": "scattergl"
           }
          ],
          "scattermapbox": [
           {
            "marker": {
             "colorbar": {
              "outlinewidth": 0,
              "ticks": ""
             }
            },
            "type": "scattermapbox"
           }
          ],
          "scatterpolar": [
           {
            "marker": {
             "colorbar": {
              "outlinewidth": 0,
              "ticks": ""
             }
            },
            "type": "scatterpolar"
           }
          ],
          "scatterpolargl": [
           {
            "marker": {
             "colorbar": {
              "outlinewidth": 0,
              "ticks": ""
             }
            },
            "type": "scatterpolargl"
           }
          ],
          "scatterternary": [
           {
            "marker": {
             "colorbar": {
              "outlinewidth": 0,
              "ticks": ""
             }
            },
            "type": "scatterternary"
           }
          ],
          "surface": [
           {
            "colorbar": {
             "outlinewidth": 0,
             "ticks": ""
            },
            "colorscale": [
             [
              0,
              "#0d0887"
             ],
             [
              0.1111111111111111,
              "#46039f"
             ],
             [
              0.2222222222222222,
              "#7201a8"
             ],
             [
              0.3333333333333333,
              "#9c179e"
             ],
             [
              0.4444444444444444,
              "#bd3786"
             ],
             [
              0.5555555555555556,
              "#d8576b"
             ],
             [
              0.6666666666666666,
              "#ed7953"
             ],
             [
              0.7777777777777778,
              "#fb9f3a"
             ],
             [
              0.8888888888888888,
              "#fdca26"
             ],
             [
              1,
              "#f0f921"
             ]
            ],
            "type": "surface"
           }
          ],
          "table": [
           {
            "cells": {
             "fill": {
              "color": "#EBF0F8"
             },
             "line": {
              "color": "white"
             }
            },
            "header": {
             "fill": {
              "color": "#C8D4E3"
             },
             "line": {
              "color": "white"
             }
            },
            "type": "table"
           }
          ]
         },
         "layout": {
          "annotationdefaults": {
           "arrowcolor": "#2a3f5f",
           "arrowhead": 0,
           "arrowwidth": 1
          },
          "autotypenumbers": "strict",
          "coloraxis": {
           "colorbar": {
            "outlinewidth": 0,
            "ticks": ""
           }
          },
          "colorscale": {
           "diverging": [
            [
             0,
             "#8e0152"
            ],
            [
             0.1,
             "#c51b7d"
            ],
            [
             0.2,
             "#de77ae"
            ],
            [
             0.3,
             "#f1b6da"
            ],
            [
             0.4,
             "#fde0ef"
            ],
            [
             0.5,
             "#f7f7f7"
            ],
            [
             0.6,
             "#e6f5d0"
            ],
            [
             0.7,
             "#b8e186"
            ],
            [
             0.8,
             "#7fbc41"
            ],
            [
             0.9,
             "#4d9221"
            ],
            [
             1,
             "#276419"
            ]
           ],
           "sequential": [
            [
             0,
             "#0d0887"
            ],
            [
             0.1111111111111111,
             "#46039f"
            ],
            [
             0.2222222222222222,
             "#7201a8"
            ],
            [
             0.3333333333333333,
             "#9c179e"
            ],
            [
             0.4444444444444444,
             "#bd3786"
            ],
            [
             0.5555555555555556,
             "#d8576b"
            ],
            [
             0.6666666666666666,
             "#ed7953"
            ],
            [
             0.7777777777777778,
             "#fb9f3a"
            ],
            [
             0.8888888888888888,
             "#fdca26"
            ],
            [
             1,
             "#f0f921"
            ]
           ],
           "sequentialminus": [
            [
             0,
             "#0d0887"
            ],
            [
             0.1111111111111111,
             "#46039f"
            ],
            [
             0.2222222222222222,
             "#7201a8"
            ],
            [
             0.3333333333333333,
             "#9c179e"
            ],
            [
             0.4444444444444444,
             "#bd3786"
            ],
            [
             0.5555555555555556,
             "#d8576b"
            ],
            [
             0.6666666666666666,
             "#ed7953"
            ],
            [
             0.7777777777777778,
             "#fb9f3a"
            ],
            [
             0.8888888888888888,
             "#fdca26"
            ],
            [
             1,
             "#f0f921"
            ]
           ]
          },
          "colorway": [
           "#636efa",
           "#EF553B",
           "#00cc96",
           "#ab63fa",
           "#FFA15A",
           "#19d3f3",
           "#FF6692",
           "#B6E880",
           "#FF97FF",
           "#FECB52"
          ],
          "font": {
           "color": "#2a3f5f"
          },
          "geo": {
           "bgcolor": "white",
           "lakecolor": "white",
           "landcolor": "#E5ECF6",
           "showlakes": true,
           "showland": true,
           "subunitcolor": "white"
          },
          "hoverlabel": {
           "align": "left"
          },
          "hovermode": "closest",
          "mapbox": {
           "style": "light"
          },
          "paper_bgcolor": "white",
          "plot_bgcolor": "#E5ECF6",
          "polar": {
           "angularaxis": {
            "gridcolor": "white",
            "linecolor": "white",
            "ticks": ""
           },
           "bgcolor": "#E5ECF6",
           "radialaxis": {
            "gridcolor": "white",
            "linecolor": "white",
            "ticks": ""
           }
          },
          "scene": {
           "xaxis": {
            "backgroundcolor": "#E5ECF6",
            "gridcolor": "white",
            "gridwidth": 2,
            "linecolor": "white",
            "showbackground": true,
            "ticks": "",
            "zerolinecolor": "white"
           },
           "yaxis": {
            "backgroundcolor": "#E5ECF6",
            "gridcolor": "white",
            "gridwidth": 2,
            "linecolor": "white",
            "showbackground": true,
            "ticks": "",
            "zerolinecolor": "white"
           },
           "zaxis": {
            "backgroundcolor": "#E5ECF6",
            "gridcolor": "white",
            "gridwidth": 2,
            "linecolor": "white",
            "showbackground": true,
            "ticks": "",
            "zerolinecolor": "white"
           }
          },
          "shapedefaults": {
           "line": {
            "color": "#2a3f5f"
           }
          },
          "ternary": {
           "aaxis": {
            "gridcolor": "white",
            "linecolor": "white",
            "ticks": ""
           },
           "baxis": {
            "gridcolor": "white",
            "linecolor": "white",
            "ticks": ""
           },
           "bgcolor": "#E5ECF6",
           "caxis": {
            "gridcolor": "white",
            "linecolor": "white",
            "ticks": ""
           }
          },
          "title": {
           "x": 0.05
          },
          "xaxis": {
           "automargin": true,
           "gridcolor": "white",
           "linecolor": "white",
           "ticks": "",
           "title": {
            "standoff": 15
           },
           "zerolinecolor": "white",
           "zerolinewidth": 2
          },
          "yaxis": {
           "automargin": true,
           "gridcolor": "white",
           "linecolor": "white",
           "ticks": "",
           "title": {
            "standoff": 15
           },
           "zerolinecolor": "white",
           "zerolinewidth": 2
          }
         }
        },
        "xaxis": {
         "anchor": "y",
         "domain": [
          0,
          1
         ],
         "title": {
          "text": "city"
         }
        },
        "yaxis": {
         "anchor": "x",
         "domain": [
          0,
          1
         ],
         "title": {
          "text": "count"
         }
        }
       }
      }
     },
     "metadata": {},
     "output_type": "display_data"
    },
    {
     "data": {
      "application/vnd.plotly.v1+json": {
       "config": {
        "plotlyServerURL": "https://plot.ly"
       },
       "data": [
        {
         "alignmentgroup": "True",
         "bingroup": "x",
         "hovertemplate": "country=%{x}<br>count=%{y}<extra></extra>",
         "legendgroup": "",
         "marker": {
          "color": "#636efa",
          "pattern": {
           "shape": ""
          }
         },
         "name": "",
         "offsetgroup": "",
         "orientation": "v",
         "showlegend": false,
         "type": "histogram",
         "x": [
          "United States",
          "United States",
          "United States",
          "United States",
          "United States",
          "United States",
          "United States",
          "England",
          "England",
          "United States",
          "United States",
          "United States",
          "United States",
          "United States",
          "United States",
          "United States",
          "United States",
          "United States",
          "United States",
          "United States",
          "United States",
          "United States",
          "United States",
          "Canada",
          "Canada",
          "Canada",
          "Canada",
          "United States",
          "United States",
          "United States",
          "United States",
          "United States",
          "United States",
          "United States",
          "United States",
          "United States",
          "England",
          "England",
          "United States",
          "United States",
          "United States",
          "United States",
          "United States",
          "United States",
          "United States",
          "United States",
          "United States",
          "United States",
          "United States",
          "United States",
          "United States",
          "United States",
          "United States",
          "United States",
          "United States",
          "United States",
          "United States",
          "United States",
          "United States",
          "England",
          "England",
          "Australia",
          "Australia",
          "Australia",
          "Australia",
          "Australia",
          "Australia",
          "Australia",
          "Japan",
          "United States",
          "United States",
          "United States",
          "United States",
          "United States",
          "United States",
          "United States",
          "United States",
          "United States",
          "United States",
          "United States",
          "United States",
          "United States",
          "United States",
          "United States",
          "United States",
          "United States",
          "United States",
          "United States",
          "United States",
          "United States",
          "United States",
          "United States",
          "United States",
          "United States",
          "United States",
          "United States",
          "United States",
          "United States",
          "United States",
          "United States",
          "Canada",
          "Canada",
          "Canada",
          "United States",
          "United States",
          "United States",
          "United States",
          "United States",
          "United States",
          "The Bahamas",
          "Canada",
          "Singapore",
          "South Korea",
          "Japan",
          "Japan",
          "Japan",
          "Philippines",
          "Hong Kong",
          "Belgium",
          "Netherlands",
          "Norway",
          "Germany",
          "Italy",
          "France",
          "Spain",
          "England",
          "Northern Ireland",
          "Ireland",
          "England",
          "England",
          "United States",
          "United States",
          "United States",
          "United States",
          "United States",
          "United States",
          "United States",
          "United States",
          "United States",
          "United States",
          "United States",
          "United States",
          "United States",
          "United States",
          "United States",
          "United States",
          "United States",
          "United States",
          "Canada",
          "Canada",
          "Canada",
          "United States",
          "United States",
          "United States",
          "United States",
          "United States",
          "United States",
          "United States",
          "United States",
          "United States",
          "United States",
          "United States",
          "United States",
          "United States",
          "United States",
          "Canada",
          "Canada",
          "United States",
          "United States",
          "United States",
          "United States",
          "United States",
          "United States",
          "United States",
          "United States",
          "United States",
          "Canada",
          "Canada",
          "United States",
          "United States",
          "United States",
          "United States",
          "United States",
          "United States",
          "United States",
          "United States",
          "United States",
          "United States",
          "United States",
          "United States",
          "United States",
          "United States",
          "United States",
          "United States",
          "United States",
          "United States",
          "United States",
          "United States",
          "United States",
          "United States",
          "United States",
          "United States",
          "United States",
          "United States",
          "United States",
          "United States",
          "United States",
          "United States",
          "United States",
          "Australia",
          "Australia",
          "Australia",
          "Australia",
          "Australia",
          "Australia",
          "Australia",
          "Australia",
          "Australia",
          "New Zealand",
          "New Zealand",
          "New Zealand",
          "United States",
          "United States",
          "United States",
          "United States",
          "United States",
          "United States",
          "United States",
          "United States",
          "United States",
          "United States",
          "United States",
          "United States",
          "United States",
          "United States",
          "United States",
          "United States",
          "United States",
          "United States",
          "United States",
          "United States",
          "United States",
          "United States",
          "United States",
          "United States",
          "United States",
          "United States",
          "United States",
          "United States",
          "United States",
          "United States",
          "United States",
          "Canada",
          "Canada",
          "Canada",
          "Canada",
          "Canada",
          "Canada",
          "United States",
          "United States",
          "United States",
          "United States",
          "United States",
          "United States",
          "United States",
          "United States",
          "United States",
          "United States",
          "United States",
          "United States",
          "United States",
          "United States",
          "United States",
          "United States",
          "United States",
          "United States",
          "United States",
          "United States",
          "United States",
          "United States",
          "United States",
          "United States",
          "United States",
          "United States",
          "United States",
          "United States",
          "United States",
          "New Zealand",
          "New Zealand",
          "New Zealand",
          "Australia",
          "Australia",
          "Australia",
          "Australia",
          "England",
          "England",
          "England",
          "Germany",
          "England",
          "England",
          "China",
          "Japan",
          "Indonesia",
          "Philippines",
          "Singapore",
          "Malaysia",
          "Singapore",
          "Japan",
          "Japan",
          "United States",
          "United States",
          "United States",
          "United States",
          "United States",
          "United States",
          "United States",
          "United States",
          "United States",
          "United States",
          "United States",
          "Germany",
          "Germany",
          "Netherlands",
          "Scotland",
          "England",
          "England",
          "Ireland",
          "Ireland",
          "Canada",
          "Canada",
          "United States",
          "United States",
          "United States",
          "United States",
          "United States",
          "United States",
          "United States",
          "United States",
          "Canada",
          "Canada",
          "Canada",
          "United States",
          "United States",
          "United States",
          "United States",
          "United States",
          "United States",
          "United States",
          "United States",
          "United States",
          "United States",
          "United States",
          "United States",
          "United States",
          "United States",
          "United States",
          "United States",
          "United States",
          "United States",
          "United States",
          "United States",
          "United States",
          "United States",
          "United States",
          "United States",
          "United States",
          "United States",
          "United States",
          "Canada",
          "Canada",
          "United States",
          "United States",
          "United States",
          "United States",
          "United States",
          "United States",
          "United States",
          "United States",
          "United States",
          "United States",
          "Singapore",
          "Singapore",
          "China",
          "China",
          "China",
          "Australia",
          "Australia",
          "Australia",
          "Australia",
          "Australia",
          "Australia",
          "Australia",
          "United States",
          "United States",
          "United States",
          "United States",
          "United States",
          "United States",
          "United States",
          "United States",
          "United States",
          "England",
          "England",
          "Ireland",
          "Ireland",
          "England",
          "England",
          "United States",
          "United States",
          "United States",
          "United States",
          "United States",
          "United States",
          "United States",
          "United States",
          "United States",
          "United States",
          "United States",
          "United States",
          "United States",
          "Canada",
          "Canada",
          "United States",
          "United States",
          "United States",
          "United States",
          "United States",
          "United States",
          "United States",
          "United States",
          "United States",
          "United States",
          "United States",
          "United States",
          "United States",
          "United States",
          "United States",
          "United States",
          "Australia",
          "Australia",
          "Australia",
          "Australia",
          "New Zealand",
          "Japan",
          "Japan"
         ],
         "xaxis": "x",
         "yaxis": "y"
        }
       ],
       "layout": {
        "barmode": "relative",
        "legend": {
         "tracegroupgap": 0
        },
        "margin": {
         "t": 60
        },
        "template": {
         "data": {
          "bar": [
           {
            "error_x": {
             "color": "#2a3f5f"
            },
            "error_y": {
             "color": "#2a3f5f"
            },
            "marker": {
             "line": {
              "color": "#E5ECF6",
              "width": 0.5
             },
             "pattern": {
              "fillmode": "overlay",
              "size": 10,
              "solidity": 0.2
             }
            },
            "type": "bar"
           }
          ],
          "barpolar": [
           {
            "marker": {
             "line": {
              "color": "#E5ECF6",
              "width": 0.5
             },
             "pattern": {
              "fillmode": "overlay",
              "size": 10,
              "solidity": 0.2
             }
            },
            "type": "barpolar"
           }
          ],
          "carpet": [
           {
            "aaxis": {
             "endlinecolor": "#2a3f5f",
             "gridcolor": "white",
             "linecolor": "white",
             "minorgridcolor": "white",
             "startlinecolor": "#2a3f5f"
            },
            "baxis": {
             "endlinecolor": "#2a3f5f",
             "gridcolor": "white",
             "linecolor": "white",
             "minorgridcolor": "white",
             "startlinecolor": "#2a3f5f"
            },
            "type": "carpet"
           }
          ],
          "choropleth": [
           {
            "colorbar": {
             "outlinewidth": 0,
             "ticks": ""
            },
            "type": "choropleth"
           }
          ],
          "contour": [
           {
            "colorbar": {
             "outlinewidth": 0,
             "ticks": ""
            },
            "colorscale": [
             [
              0,
              "#0d0887"
             ],
             [
              0.1111111111111111,
              "#46039f"
             ],
             [
              0.2222222222222222,
              "#7201a8"
             ],
             [
              0.3333333333333333,
              "#9c179e"
             ],
             [
              0.4444444444444444,
              "#bd3786"
             ],
             [
              0.5555555555555556,
              "#d8576b"
             ],
             [
              0.6666666666666666,
              "#ed7953"
             ],
             [
              0.7777777777777778,
              "#fb9f3a"
             ],
             [
              0.8888888888888888,
              "#fdca26"
             ],
             [
              1,
              "#f0f921"
             ]
            ],
            "type": "contour"
           }
          ],
          "contourcarpet": [
           {
            "colorbar": {
             "outlinewidth": 0,
             "ticks": ""
            },
            "type": "contourcarpet"
           }
          ],
          "heatmap": [
           {
            "colorbar": {
             "outlinewidth": 0,
             "ticks": ""
            },
            "colorscale": [
             [
              0,
              "#0d0887"
             ],
             [
              0.1111111111111111,
              "#46039f"
             ],
             [
              0.2222222222222222,
              "#7201a8"
             ],
             [
              0.3333333333333333,
              "#9c179e"
             ],
             [
              0.4444444444444444,
              "#bd3786"
             ],
             [
              0.5555555555555556,
              "#d8576b"
             ],
             [
              0.6666666666666666,
              "#ed7953"
             ],
             [
              0.7777777777777778,
              "#fb9f3a"
             ],
             [
              0.8888888888888888,
              "#fdca26"
             ],
             [
              1,
              "#f0f921"
             ]
            ],
            "type": "heatmap"
           }
          ],
          "heatmapgl": [
           {
            "colorbar": {
             "outlinewidth": 0,
             "ticks": ""
            },
            "colorscale": [
             [
              0,
              "#0d0887"
             ],
             [
              0.1111111111111111,
              "#46039f"
             ],
             [
              0.2222222222222222,
              "#7201a8"
             ],
             [
              0.3333333333333333,
              "#9c179e"
             ],
             [
              0.4444444444444444,
              "#bd3786"
             ],
             [
              0.5555555555555556,
              "#d8576b"
             ],
             [
              0.6666666666666666,
              "#ed7953"
             ],
             [
              0.7777777777777778,
              "#fb9f3a"
             ],
             [
              0.8888888888888888,
              "#fdca26"
             ],
             [
              1,
              "#f0f921"
             ]
            ],
            "type": "heatmapgl"
           }
          ],
          "histogram": [
           {
            "marker": {
             "pattern": {
              "fillmode": "overlay",
              "size": 10,
              "solidity": 0.2
             }
            },
            "type": "histogram"
           }
          ],
          "histogram2d": [
           {
            "colorbar": {
             "outlinewidth": 0,
             "ticks": ""
            },
            "colorscale": [
             [
              0,
              "#0d0887"
             ],
             [
              0.1111111111111111,
              "#46039f"
             ],
             [
              0.2222222222222222,
              "#7201a8"
             ],
             [
              0.3333333333333333,
              "#9c179e"
             ],
             [
              0.4444444444444444,
              "#bd3786"
             ],
             [
              0.5555555555555556,
              "#d8576b"
             ],
             [
              0.6666666666666666,
              "#ed7953"
             ],
             [
              0.7777777777777778,
              "#fb9f3a"
             ],
             [
              0.8888888888888888,
              "#fdca26"
             ],
             [
              1,
              "#f0f921"
             ]
            ],
            "type": "histogram2d"
           }
          ],
          "histogram2dcontour": [
           {
            "colorbar": {
             "outlinewidth": 0,
             "ticks": ""
            },
            "colorscale": [
             [
              0,
              "#0d0887"
             ],
             [
              0.1111111111111111,
              "#46039f"
             ],
             [
              0.2222222222222222,
              "#7201a8"
             ],
             [
              0.3333333333333333,
              "#9c179e"
             ],
             [
              0.4444444444444444,
              "#bd3786"
             ],
             [
              0.5555555555555556,
              "#d8576b"
             ],
             [
              0.6666666666666666,
              "#ed7953"
             ],
             [
              0.7777777777777778,
              "#fb9f3a"
             ],
             [
              0.8888888888888888,
              "#fdca26"
             ],
             [
              1,
              "#f0f921"
             ]
            ],
            "type": "histogram2dcontour"
           }
          ],
          "mesh3d": [
           {
            "colorbar": {
             "outlinewidth": 0,
             "ticks": ""
            },
            "type": "mesh3d"
           }
          ],
          "parcoords": [
           {
            "line": {
             "colorbar": {
              "outlinewidth": 0,
              "ticks": ""
             }
            },
            "type": "parcoords"
           }
          ],
          "pie": [
           {
            "automargin": true,
            "type": "pie"
           }
          ],
          "scatter": [
           {
            "fillpattern": {
             "fillmode": "overlay",
             "size": 10,
             "solidity": 0.2
            },
            "type": "scatter"
           }
          ],
          "scatter3d": [
           {
            "line": {
             "colorbar": {
              "outlinewidth": 0,
              "ticks": ""
             }
            },
            "marker": {
             "colorbar": {
              "outlinewidth": 0,
              "ticks": ""
             }
            },
            "type": "scatter3d"
           }
          ],
          "scattercarpet": [
           {
            "marker": {
             "colorbar": {
              "outlinewidth": 0,
              "ticks": ""
             }
            },
            "type": "scattercarpet"
           }
          ],
          "scattergeo": [
           {
            "marker": {
             "colorbar": {
              "outlinewidth": 0,
              "ticks": ""
             }
            },
            "type": "scattergeo"
           }
          ],
          "scattergl": [
           {
            "marker": {
             "colorbar": {
              "outlinewidth": 0,
              "ticks": ""
             }
            },
            "type": "scattergl"
           }
          ],
          "scattermapbox": [
           {
            "marker": {
             "colorbar": {
              "outlinewidth": 0,
              "ticks": ""
             }
            },
            "type": "scattermapbox"
           }
          ],
          "scatterpolar": [
           {
            "marker": {
             "colorbar": {
              "outlinewidth": 0,
              "ticks": ""
             }
            },
            "type": "scatterpolar"
           }
          ],
          "scatterpolargl": [
           {
            "marker": {
             "colorbar": {
              "outlinewidth": 0,
              "ticks": ""
             }
            },
            "type": "scatterpolargl"
           }
          ],
          "scatterternary": [
           {
            "marker": {
             "colorbar": {
              "outlinewidth": 0,
              "ticks": ""
             }
            },
            "type": "scatterternary"
           }
          ],
          "surface": [
           {
            "colorbar": {
             "outlinewidth": 0,
             "ticks": ""
            },
            "colorscale": [
             [
              0,
              "#0d0887"
             ],
             [
              0.1111111111111111,
              "#46039f"
             ],
             [
              0.2222222222222222,
              "#7201a8"
             ],
             [
              0.3333333333333333,
              "#9c179e"
             ],
             [
              0.4444444444444444,
              "#bd3786"
             ],
             [
              0.5555555555555556,
              "#d8576b"
             ],
             [
              0.6666666666666666,
              "#ed7953"
             ],
             [
              0.7777777777777778,
              "#fb9f3a"
             ],
             [
              0.8888888888888888,
              "#fdca26"
             ],
             [
              1,
              "#f0f921"
             ]
            ],
            "type": "surface"
           }
          ],
          "table": [
           {
            "cells": {
             "fill": {
              "color": "#EBF0F8"
             },
             "line": {
              "color": "white"
             }
            },
            "header": {
             "fill": {
              "color": "#C8D4E3"
             },
             "line": {
              "color": "white"
             }
            },
            "type": "table"
           }
          ]
         },
         "layout": {
          "annotationdefaults": {
           "arrowcolor": "#2a3f5f",
           "arrowhead": 0,
           "arrowwidth": 1
          },
          "autotypenumbers": "strict",
          "coloraxis": {
           "colorbar": {
            "outlinewidth": 0,
            "ticks": ""
           }
          },
          "colorscale": {
           "diverging": [
            [
             0,
             "#8e0152"
            ],
            [
             0.1,
             "#c51b7d"
            ],
            [
             0.2,
             "#de77ae"
            ],
            [
             0.3,
             "#f1b6da"
            ],
            [
             0.4,
             "#fde0ef"
            ],
            [
             0.5,
             "#f7f7f7"
            ],
            [
             0.6,
             "#e6f5d0"
            ],
            [
             0.7,
             "#b8e186"
            ],
            [
             0.8,
             "#7fbc41"
            ],
            [
             0.9,
             "#4d9221"
            ],
            [
             1,
             "#276419"
            ]
           ],
           "sequential": [
            [
             0,
             "#0d0887"
            ],
            [
             0.1111111111111111,
             "#46039f"
            ],
            [
             0.2222222222222222,
             "#7201a8"
            ],
            [
             0.3333333333333333,
             "#9c179e"
            ],
            [
             0.4444444444444444,
             "#bd3786"
            ],
            [
             0.5555555555555556,
             "#d8576b"
            ],
            [
             0.6666666666666666,
             "#ed7953"
            ],
            [
             0.7777777777777778,
             "#fb9f3a"
            ],
            [
             0.8888888888888888,
             "#fdca26"
            ],
            [
             1,
             "#f0f921"
            ]
           ],
           "sequentialminus": [
            [
             0,
             "#0d0887"
            ],
            [
             0.1111111111111111,
             "#46039f"
            ],
            [
             0.2222222222222222,
             "#7201a8"
            ],
            [
             0.3333333333333333,
             "#9c179e"
            ],
            [
             0.4444444444444444,
             "#bd3786"
            ],
            [
             0.5555555555555556,
             "#d8576b"
            ],
            [
             0.6666666666666666,
             "#ed7953"
            ],
            [
             0.7777777777777778,
             "#fb9f3a"
            ],
            [
             0.8888888888888888,
             "#fdca26"
            ],
            [
             1,
             "#f0f921"
            ]
           ]
          },
          "colorway": [
           "#636efa",
           "#EF553B",
           "#00cc96",
           "#ab63fa",
           "#FFA15A",
           "#19d3f3",
           "#FF6692",
           "#B6E880",
           "#FF97FF",
           "#FECB52"
          ],
          "font": {
           "color": "#2a3f5f"
          },
          "geo": {
           "bgcolor": "white",
           "lakecolor": "white",
           "landcolor": "#E5ECF6",
           "showlakes": true,
           "showland": true,
           "subunitcolor": "white"
          },
          "hoverlabel": {
           "align": "left"
          },
          "hovermode": "closest",
          "mapbox": {
           "style": "light"
          },
          "paper_bgcolor": "white",
          "plot_bgcolor": "#E5ECF6",
          "polar": {
           "angularaxis": {
            "gridcolor": "white",
            "linecolor": "white",
            "ticks": ""
           },
           "bgcolor": "#E5ECF6",
           "radialaxis": {
            "gridcolor": "white",
            "linecolor": "white",
            "ticks": ""
           }
          },
          "scene": {
           "xaxis": {
            "backgroundcolor": "#E5ECF6",
            "gridcolor": "white",
            "gridwidth": 2,
            "linecolor": "white",
            "showbackground": true,
            "ticks": "",
            "zerolinecolor": "white"
           },
           "yaxis": {
            "backgroundcolor": "#E5ECF6",
            "gridcolor": "white",
            "gridwidth": 2,
            "linecolor": "white",
            "showbackground": true,
            "ticks": "",
            "zerolinecolor": "white"
           },
           "zaxis": {
            "backgroundcolor": "#E5ECF6",
            "gridcolor": "white",
            "gridwidth": 2,
            "linecolor": "white",
            "showbackground": true,
            "ticks": "",
            "zerolinecolor": "white"
           }
          },
          "shapedefaults": {
           "line": {
            "color": "#2a3f5f"
           }
          },
          "ternary": {
           "aaxis": {
            "gridcolor": "white",
            "linecolor": "white",
            "ticks": ""
           },
           "baxis": {
            "gridcolor": "white",
            "linecolor": "white",
            "ticks": ""
           },
           "bgcolor": "#E5ECF6",
           "caxis": {
            "gridcolor": "white",
            "linecolor": "white",
            "ticks": ""
           }
          },
          "title": {
           "x": 0.05
          },
          "xaxis": {
           "automargin": true,
           "gridcolor": "white",
           "linecolor": "white",
           "ticks": "",
           "title": {
            "standoff": 15
           },
           "zerolinecolor": "white",
           "zerolinewidth": 2
          },
          "yaxis": {
           "automargin": true,
           "gridcolor": "white",
           "linecolor": "white",
           "ticks": "",
           "title": {
            "standoff": 15
           },
           "zerolinecolor": "white",
           "zerolinewidth": 2
          }
         }
        },
        "xaxis": {
         "anchor": "y",
         "domain": [
          0,
          1
         ],
         "title": {
          "text": "country"
         }
        },
        "yaxis": {
         "anchor": "x",
         "domain": [
          0,
          1
         ],
         "title": {
          "text": "count"
         }
        }
       }
      }
     },
     "metadata": {},
     "output_type": "display_data"
    },
    {
     "data": {
      "application/vnd.plotly.v1+json": {
       "config": {
        "plotlyServerURL": "https://plot.ly"
       },
       "data": [
        {
         "alignmentgroup": "True",
         "bingroup": "x",
         "hovertemplate": "venue=%{x}<br>count=%{y}<extra></extra>",
         "legendgroup": "",
         "marker": {
          "color": "#636efa",
          "pattern": {
           "shape": ""
          }
         },
         "name": "",
         "offsetgroup": "",
         "orientation": "v",
         "showlegend": false,
         "type": "histogram",
         "x": [
          "Roberts Municipal Stadium",
          "Convocation Center",
          "Scottrade Center",
          "Bishop Ireton High School",
          "North Charleston Coliseum",
          "Jacksonville Veterans Memorial Arena",
          "Mississippi Coast Coliseum",
          "Shepherd's Bush Empire",
          "Shepherd's Bush Empire",
          "Spokane Arena",
          "KeyArena",
          "Rose Garden Arena",
          "Ford Arena",
          "Jobing.com Arena",
          "Staples Center",
          "Mandalay Bay Events Center",
          "Valley View Casino Center",
          "EnergySolutions Arena",
          "BamaJam Farms",
          "Merriweather Post Pavilion",
          "Greensboro Coliseum",
          "Ford Festival Park",
          "Amphitheatre Concert Grounds",
          "Pengrowth Saddledome",
          "Commonwealth Stadium",
          "Big Valley Park",
          "MTS Centre",
          "Country Thunder Festival",
          "Value City Arena",
          "Charleston Civic Center",
          "Cheyenne Frontier Days Arena",
          "Barnett Arena",
          "North Dakota State Fair Grandstand",
          "Wachovia Spectrum",
          "Soo Pass Ranch",
          "Qwest Center Omaha",
          "Hylands Park",
          "Weston Park",
          "Madison Square Garden",
          "Mohegan Sun Arena",
          "Bryce Jordan Center",
          "Freedom Hall",
          "Arena at Gwinnett Center",
          "Bi-Lo Center",
          "Time Warner Cable Arena",
          "Cajundome",
          "CenturyTel Center",
          "BJCC Arena",
          "Bridgestone Arena",
          "American Airlines Center",
          "Verizon Arena",
          "BOK Center",
          "Mellon Arena",
          "Van Andel Arena",
          "Quicken Loans Arena",
          "Conseco Fieldhouse",
          "Allstate Arena",
          "Allstate Arena",
          "Target Center",
          "Wembley Arena",
          "Manchester Evening News Arena",
          "Brisbane Entertainment Centre",
          "Acer Arena",
          "Acer Arena",
          "Newcastle Entertainment Centre",
          "Rod Laver Arena",
          "Rod Laver Arena",
          "Adelaide Entertainment Centre",
          "Zepp Tokyo",
          "St. Pete Times Forum",
          "Amway Arena",
          "BankAtlantic Center",
          "Frank Erwin Center",
          "American Airlines Center",
          "American Bank Center Arena",
          "Wells Fargo Center",
          "Wells Fargo Center",
          "John Paul Jones Arena",
          "The Palace of Auburn Hills",
          "The Palace of Auburn Hills",
          "U.S. Bank Arena",
          "Ford Center",
          "Intrust Bank Arena",
          "Sprint Center",
          "Pepsi Center",
          "Pepsi Center",
          "Save Mart Center",
          "HP Pavilion",
          "Staples Center",
          "Staples Center",
          "Rupp Arena",
          "Colonial Life Arena",
          "RBC Center",
          "Wells Fargo Arena",
          "Xcel Energy Center",
          "iWireless Center",
          "Prudential Center",
          "Prudential Center",
          "Nassau Veterans Memorial Coliseum",
          "Nassau Veterans Memorial Coliseum",
          "Scotiabank Place",
          "Air Canada Centre",
          "Air Canada Centre",
          "Toyota Center",
          "Toyota Center",
          "Tiger Stadium",
          "Verizon Center",
          "Verizon Center",
          "Gillette Stadium",
          "Imperial Ballroom",
          "Cavendish Beach Festival Grounds",
          "Singapore Indoor Stadium",
          "Olympic Gymnastics Arena",
          "Osaka-Jo Hall",
          "Nippon Budokan",
          "Nippon Budokan",
          "Smart Araneta Coliseum",
          "AsiaWorld–Arena",
          "Forest National",
          "Sportpaleis van Ahoy",
          "Oslo Spektrum",
          "König Pilsener Arena",
          "Mediolanum Forum",
          "Zénith de Paris",
          "Palacio de los Deportes",
          "LG Arena",
          "Odyssey Arena",
          "The O2",
          "Manchester Evening News Arena",
          "The O2 Arena",
          "Qwest Center Omaha",
          "Qwest Center Omaha",
          "Wells Fargo Arena",
          "BankAtlantic Center",
          "BankAtlantic Center",
          "Amway Center",
          "Nationwide Arena",
          "Bradley Center",
          "Ford Field",
          "Xcel Energy Center",
          "Xcel Energy Center",
          "Heinz Field",
          "First Niagara Center",
          "XL Center",
          "Gillette Stadium",
          "Gillette Stadium",
          "Greensboro Coliseum",
          "Thompson–Boling Arena",
          "Bell Centre",
          "Air Canada Centre",
          "Air Canada Centre",
          "Prudential Center",
          "Prudential Center",
          "Prudential Center",
          "Prudential Center",
          "Van Andel Arena",
          "Conseco Fieldhouse",
          "Quicken Loans Arena",
          "Verizon Center",
          "Verizon Center",
          "Lincoln Financial Field",
          "Allstate Arena",
          "Allstate Arena",
          "Scottrade Center",
          "Scottrade Center",
          "Rexall Place",
          "Rexall Place",
          "Staples Center",
          "Staples Center",
          "Staples Center",
          "Staples Center",
          "HP Pavilion",
          "HP Pavilion",
          "Power Balance Pavilion",
          "Rose Garden Arena",
          "Tacoma Dome",
          "Rogers Arena",
          "Rogers Arena",
          "Bridgestone Arena",
          "Bridgestone Arena",
          "CenturyLink Center",
          "BOK Center",
          "Arrowhead Stadium",
          "Pepsi Center",
          "EnergySolutions Arena",
          "Philips Arena",
          "Philips Arena",
          "Verizon Arena",
          "New Orleans Arena",
          "Cowboys Stadium",
          "KFC Yum! Center",
          "United Spirit Arena",
          "Chesapeake Energy Arena",
          "Valley View Casino Center",
          "Jobing.com Arena",
          "Jobing.com Arena",
          "AT&T Center",
          "Frank Erwin Center",
          "Rupp Arena",
          "FedExForum",
          "Minute Maid Park",
          "Jacksonville Veterans Memorial Arena",
          "St. Pete Times Forum",
          "American Airlines Arena",
          "Time Warner Cable Arena",
          "RBC Center",
          "Colonial Life Arena",
          "Madison Square Garden",
          "Madison Square Garden",
          "Burswood Dome",
          "Adelaide Entertainment Centre",
          "Brisbane Entertainment Centre",
          "Brisbane Entertainment Centre",
          "Allphones Arena",
          "Allphones Arena",
          "Rod Laver Arena",
          "Rod Laver Arena",
          "Rod Laver Arena",
          "Vector Arena",
          "Vector Arena",
          "Vector Arena",
          "CenturyLink Center Omaha",
          "CenturyLink Center Omaha",
          "Scottrade Center",
          "Scottrade Center",
          "Time Warner Cable Arena",
          "Colonial Life Arena",
          "Prudential Center",
          "Prudential Center",
          "Prudential Center",
          "American Airlines Arena",
          "Amway Center",
          "Amway Center",
          "Philips Arena",
          "Philips Arena",
          "Tampa Bay Times Forum",
          "Quicken Loans Arena",
          "Bankers Life Fieldhouse",
          "Rupp Arena",
          "Ford Field",
          "KFC Yum! Center",
          "Nationwide Arena",
          "Verizon Center",
          "Verizon Center",
          "Toyota Center",
          "Frank Erwin Center",
          "AT&T Center",
          "Cowboys Stadium",
          "Jobing.com Arena",
          "Jobing.com Arena",
          "EnergySolutions Arena",
          "Pepsi Center",
          "Rogers Centre",
          "Rogers Centre",
          "Investors Group Field",
          "Rexall Place",
          "Rexall Place",
          "BC Place Stadium",
          "Heinz Field",
          "MetLife Stadium",
          "Lincoln Financial Field",
          "Lincoln Financial Field",
          "Gillette Stadium",
          "Gillette Stadium",
          "Wells Fargo Arena",
          "Sprint Center",
          "Sprint Center",
          "Intrust Bank Arena",
          "BOK Center",
          "Soldier Field",
          "Valley View Casino Center",
          "Staples Center",
          "Staples Center",
          "Staples Center",
          "Staples Center",
          "Sleep Train Arena",
          "Moda Center",
          "Tacoma Dome",
          "Fargodome",
          "Xcel Energy Center",
          "Xcel Energy Center",
          "Greensboro Coliseum",
          "PNC Arena",
          "John Paul Jones Arena",
          "Bridgestone Arena",
          "Bridgestone Arena",
          "Bridgestone Arena",
          "Vector Arena",
          "Vector Arena",
          "Vector Arena",
          "Allianz Stadium",
          "Suncorp Stadium",
          "Perth Rectangular Stadium",
          "Etihad Stadium",
          "The O2 Arena",
          "The O2 Arena",
          "The O2 Arena",
          "O2 World",
          "The O2 Arena",
          "The O2 Arena",
          "Mercedes-Benz Arena",
          "Saitama Super Arena",
          "MEIS Ancol",
          "Mall of Asia Arena",
          "Singapore Indoor Stadium",
          "Putra Indoor Stadium",
          "Singapore Indoor Stadium",
          "Tokyo Dome",
          "Tokyo Dome",
          "City of Rock",
          "CenturyLink Center",
          "LSU Tiger Stadium",
          "Ford Field",
          "KFC Yum! Center",
          "Quicken Loans Arena",
          "Heinz Field",
          "Time Warner Cable Arena",
          "PNC Arena",
          "Lincoln Financial Field",
          "Lincoln Financial Field",
          "Lanxess Arena",
          "Lanxess Arena",
          "Ziggo Dome",
          "SSE Hydro",
          "Manchester Arena",
          "Hyde Park",
          "3Arena",
          "3Arena",
          "Canadian Tire Centre",
          "Bell Centre",
          "MetLife Stadium",
          "MetLife Stadium",
          "Nationals Park",
          "Nationals Park",
          "Soldier Field",
          "Soldier Field",
          "Gillette Stadium",
          "Gillette Stadium",
          "BC Place",
          "Rexall Place",
          "Rexall Place",
          "CenturyLink Field",
          "Levi's Stadium",
          "Levi's Stadium",
          "Gila River Arena",
          "Gila River Arena",
          "Staples Center",
          "Staples Center",
          "Staples Center",
          "Staples Center",
          "Staples Center",
          "Petco Park",
          "EnergySolutions Arena",
          "Pepsi Center",
          "Pepsi Center",
          "Minute Maid Park",
          "Xcel Energy Center",
          "Xcel Energy Center",
          "Xcel Energy Center",
          "Bankers Life Fieldhouse",
          "Nationwide Arena",
          "Nationwide Arena",
          "Sprint Center",
          "Sprint Center",
          "Bridgestone Arena",
          "Bridgestone Arena",
          "Scottrade Center",
          "Scottrade Center",
          "Rogers Centre",
          "Rogers Centre",
          "Wells Fargo Arena",
          "CenturyLink Center Omaha",
          "CenturyLink Center Omaha",
          "Fargodome",
          "AT&T Stadium",
          "Rupp Arena",
          "Greensboro Coliseum",
          "Georgia Dome",
          "American Airlines Arena",
          "Raymond James Stadium",
          "Singapore Indoor Stadium",
          "Singapore Indoor Stadium",
          "Mercedes-Benz Arena",
          "Mercedes-Benz Arena",
          "Mercedes-Benz Arena",
          "ANZ Stadium",
          "Suncorp Stadium",
          "Adelaide Entertainment Centre",
          "Adelaide Entertainment Centre",
          "AAMI Park",
          "AAMI Park",
          "AAMI Park",
          "University of Phoenix Stadium",
          "Levi's Stadium",
          "Levi's Stadium",
          "Rose Bowl",
          "Rose Bowl",
          "CenturyLink Field",
          "Sports Authority Field at Mile High",
          "Soldier Field",
          "Soldier Field",
          "Etihad Stadium",
          "Etihad Stadium",
          "Croke Park",
          "Croke Park",
          "Wembley Stadium",
          "Wembley Stadium",
          "Cardinal Stadium",
          "Ohio Stadium",
          "FedExField",
          "FedExField",
          "Lincoln Financial Field",
          "Lincoln Financial Field",
          "FirstEnergy Stadium",
          "MetLife Stadium",
          "MetLife Stadium",
          "MetLife Stadium",
          "Gillette Stadium",
          "Gillette Stadium",
          "Gillette Stadium",
          "Rogers Centre",
          "Rogers Centre",
          "Heinz Field",
          "Mercedes-Benz Stadium",
          "Mercedes-Benz Stadium",
          "Raymond James Stadium",
          "Hard Rock Stadium",
          "Nissan Stadium",
          "Ford Field",
          "U.S. Bank Stadium",
          "U.S. Bank Stadium",
          "Arrowhead Stadium",
          "Lucas Oil Stadium",
          "The Dome at America's Center",
          "Mercedes-Benz Superdome",
          "NRG Stadium",
          "AT&T Stadium",
          "AT&T Stadium",
          "Optus Stadium",
          "Marvel Stadium",
          "ANZ Stadium",
          "The Gabba",
          "Mount Smart Stadium",
          "Tokyo Dome",
          "Tokyo Dome"
         ],
         "xaxis": "x",
         "yaxis": "y"
        }
       ],
       "layout": {
        "barmode": "relative",
        "legend": {
         "tracegroupgap": 0
        },
        "margin": {
         "t": 60
        },
        "template": {
         "data": {
          "bar": [
           {
            "error_x": {
             "color": "#2a3f5f"
            },
            "error_y": {
             "color": "#2a3f5f"
            },
            "marker": {
             "line": {
              "color": "#E5ECF6",
              "width": 0.5
             },
             "pattern": {
              "fillmode": "overlay",
              "size": 10,
              "solidity": 0.2
             }
            },
            "type": "bar"
           }
          ],
          "barpolar": [
           {
            "marker": {
             "line": {
              "color": "#E5ECF6",
              "width": 0.5
             },
             "pattern": {
              "fillmode": "overlay",
              "size": 10,
              "solidity": 0.2
             }
            },
            "type": "barpolar"
           }
          ],
          "carpet": [
           {
            "aaxis": {
             "endlinecolor": "#2a3f5f",
             "gridcolor": "white",
             "linecolor": "white",
             "minorgridcolor": "white",
             "startlinecolor": "#2a3f5f"
            },
            "baxis": {
             "endlinecolor": "#2a3f5f",
             "gridcolor": "white",
             "linecolor": "white",
             "minorgridcolor": "white",
             "startlinecolor": "#2a3f5f"
            },
            "type": "carpet"
           }
          ],
          "choropleth": [
           {
            "colorbar": {
             "outlinewidth": 0,
             "ticks": ""
            },
            "type": "choropleth"
           }
          ],
          "contour": [
           {
            "colorbar": {
             "outlinewidth": 0,
             "ticks": ""
            },
            "colorscale": [
             [
              0,
              "#0d0887"
             ],
             [
              0.1111111111111111,
              "#46039f"
             ],
             [
              0.2222222222222222,
              "#7201a8"
             ],
             [
              0.3333333333333333,
              "#9c179e"
             ],
             [
              0.4444444444444444,
              "#bd3786"
             ],
             [
              0.5555555555555556,
              "#d8576b"
             ],
             [
              0.6666666666666666,
              "#ed7953"
             ],
             [
              0.7777777777777778,
              "#fb9f3a"
             ],
             [
              0.8888888888888888,
              "#fdca26"
             ],
             [
              1,
              "#f0f921"
             ]
            ],
            "type": "contour"
           }
          ],
          "contourcarpet": [
           {
            "colorbar": {
             "outlinewidth": 0,
             "ticks": ""
            },
            "type": "contourcarpet"
           }
          ],
          "heatmap": [
           {
            "colorbar": {
             "outlinewidth": 0,
             "ticks": ""
            },
            "colorscale": [
             [
              0,
              "#0d0887"
             ],
             [
              0.1111111111111111,
              "#46039f"
             ],
             [
              0.2222222222222222,
              "#7201a8"
             ],
             [
              0.3333333333333333,
              "#9c179e"
             ],
             [
              0.4444444444444444,
              "#bd3786"
             ],
             [
              0.5555555555555556,
              "#d8576b"
             ],
             [
              0.6666666666666666,
              "#ed7953"
             ],
             [
              0.7777777777777778,
              "#fb9f3a"
             ],
             [
              0.8888888888888888,
              "#fdca26"
             ],
             [
              1,
              "#f0f921"
             ]
            ],
            "type": "heatmap"
           }
          ],
          "heatmapgl": [
           {
            "colorbar": {
             "outlinewidth": 0,
             "ticks": ""
            },
            "colorscale": [
             [
              0,
              "#0d0887"
             ],
             [
              0.1111111111111111,
              "#46039f"
             ],
             [
              0.2222222222222222,
              "#7201a8"
             ],
             [
              0.3333333333333333,
              "#9c179e"
             ],
             [
              0.4444444444444444,
              "#bd3786"
             ],
             [
              0.5555555555555556,
              "#d8576b"
             ],
             [
              0.6666666666666666,
              "#ed7953"
             ],
             [
              0.7777777777777778,
              "#fb9f3a"
             ],
             [
              0.8888888888888888,
              "#fdca26"
             ],
             [
              1,
              "#f0f921"
             ]
            ],
            "type": "heatmapgl"
           }
          ],
          "histogram": [
           {
            "marker": {
             "pattern": {
              "fillmode": "overlay",
              "size": 10,
              "solidity": 0.2
             }
            },
            "type": "histogram"
           }
          ],
          "histogram2d": [
           {
            "colorbar": {
             "outlinewidth": 0,
             "ticks": ""
            },
            "colorscale": [
             [
              0,
              "#0d0887"
             ],
             [
              0.1111111111111111,
              "#46039f"
             ],
             [
              0.2222222222222222,
              "#7201a8"
             ],
             [
              0.3333333333333333,
              "#9c179e"
             ],
             [
              0.4444444444444444,
              "#bd3786"
             ],
             [
              0.5555555555555556,
              "#d8576b"
             ],
             [
              0.6666666666666666,
              "#ed7953"
             ],
             [
              0.7777777777777778,
              "#fb9f3a"
             ],
             [
              0.8888888888888888,
              "#fdca26"
             ],
             [
              1,
              "#f0f921"
             ]
            ],
            "type": "histogram2d"
           }
          ],
          "histogram2dcontour": [
           {
            "colorbar": {
             "outlinewidth": 0,
             "ticks": ""
            },
            "colorscale": [
             [
              0,
              "#0d0887"
             ],
             [
              0.1111111111111111,
              "#46039f"
             ],
             [
              0.2222222222222222,
              "#7201a8"
             ],
             [
              0.3333333333333333,
              "#9c179e"
             ],
             [
              0.4444444444444444,
              "#bd3786"
             ],
             [
              0.5555555555555556,
              "#d8576b"
             ],
             [
              0.6666666666666666,
              "#ed7953"
             ],
             [
              0.7777777777777778,
              "#fb9f3a"
             ],
             [
              0.8888888888888888,
              "#fdca26"
             ],
             [
              1,
              "#f0f921"
             ]
            ],
            "type": "histogram2dcontour"
           }
          ],
          "mesh3d": [
           {
            "colorbar": {
             "outlinewidth": 0,
             "ticks": ""
            },
            "type": "mesh3d"
           }
          ],
          "parcoords": [
           {
            "line": {
             "colorbar": {
              "outlinewidth": 0,
              "ticks": ""
             }
            },
            "type": "parcoords"
           }
          ],
          "pie": [
           {
            "automargin": true,
            "type": "pie"
           }
          ],
          "scatter": [
           {
            "fillpattern": {
             "fillmode": "overlay",
             "size": 10,
             "solidity": 0.2
            },
            "type": "scatter"
           }
          ],
          "scatter3d": [
           {
            "line": {
             "colorbar": {
              "outlinewidth": 0,
              "ticks": ""
             }
            },
            "marker": {
             "colorbar": {
              "outlinewidth": 0,
              "ticks": ""
             }
            },
            "type": "scatter3d"
           }
          ],
          "scattercarpet": [
           {
            "marker": {
             "colorbar": {
              "outlinewidth": 0,
              "ticks": ""
             }
            },
            "type": "scattercarpet"
           }
          ],
          "scattergeo": [
           {
            "marker": {
             "colorbar": {
              "outlinewidth": 0,
              "ticks": ""
             }
            },
            "type": "scattergeo"
           }
          ],
          "scattergl": [
           {
            "marker": {
             "colorbar": {
              "outlinewidth": 0,
              "ticks": ""
             }
            },
            "type": "scattergl"
           }
          ],
          "scattermapbox": [
           {
            "marker": {
             "colorbar": {
              "outlinewidth": 0,
              "ticks": ""
             }
            },
            "type": "scattermapbox"
           }
          ],
          "scatterpolar": [
           {
            "marker": {
             "colorbar": {
              "outlinewidth": 0,
              "ticks": ""
             }
            },
            "type": "scatterpolar"
           }
          ],
          "scatterpolargl": [
           {
            "marker": {
             "colorbar": {
              "outlinewidth": 0,
              "ticks": ""
             }
            },
            "type": "scatterpolargl"
           }
          ],
          "scatterternary": [
           {
            "marker": {
             "colorbar": {
              "outlinewidth": 0,
              "ticks": ""
             }
            },
            "type": "scatterternary"
           }
          ],
          "surface": [
           {
            "colorbar": {
             "outlinewidth": 0,
             "ticks": ""
            },
            "colorscale": [
             [
              0,
              "#0d0887"
             ],
             [
              0.1111111111111111,
              "#46039f"
             ],
             [
              0.2222222222222222,
              "#7201a8"
             ],
             [
              0.3333333333333333,
              "#9c179e"
             ],
             [
              0.4444444444444444,
              "#bd3786"
             ],
             [
              0.5555555555555556,
              "#d8576b"
             ],
             [
              0.6666666666666666,
              "#ed7953"
             ],
             [
              0.7777777777777778,
              "#fb9f3a"
             ],
             [
              0.8888888888888888,
              "#fdca26"
             ],
             [
              1,
              "#f0f921"
             ]
            ],
            "type": "surface"
           }
          ],
          "table": [
           {
            "cells": {
             "fill": {
              "color": "#EBF0F8"
             },
             "line": {
              "color": "white"
             }
            },
            "header": {
             "fill": {
              "color": "#C8D4E3"
             },
             "line": {
              "color": "white"
             }
            },
            "type": "table"
           }
          ]
         },
         "layout": {
          "annotationdefaults": {
           "arrowcolor": "#2a3f5f",
           "arrowhead": 0,
           "arrowwidth": 1
          },
          "autotypenumbers": "strict",
          "coloraxis": {
           "colorbar": {
            "outlinewidth": 0,
            "ticks": ""
           }
          },
          "colorscale": {
           "diverging": [
            [
             0,
             "#8e0152"
            ],
            [
             0.1,
             "#c51b7d"
            ],
            [
             0.2,
             "#de77ae"
            ],
            [
             0.3,
             "#f1b6da"
            ],
            [
             0.4,
             "#fde0ef"
            ],
            [
             0.5,
             "#f7f7f7"
            ],
            [
             0.6,
             "#e6f5d0"
            ],
            [
             0.7,
             "#b8e186"
            ],
            [
             0.8,
             "#7fbc41"
            ],
            [
             0.9,
             "#4d9221"
            ],
            [
             1,
             "#276419"
            ]
           ],
           "sequential": [
            [
             0,
             "#0d0887"
            ],
            [
             0.1111111111111111,
             "#46039f"
            ],
            [
             0.2222222222222222,
             "#7201a8"
            ],
            [
             0.3333333333333333,
             "#9c179e"
            ],
            [
             0.4444444444444444,
             "#bd3786"
            ],
            [
             0.5555555555555556,
             "#d8576b"
            ],
            [
             0.6666666666666666,
             "#ed7953"
            ],
            [
             0.7777777777777778,
             "#fb9f3a"
            ],
            [
             0.8888888888888888,
             "#fdca26"
            ],
            [
             1,
             "#f0f921"
            ]
           ],
           "sequentialminus": [
            [
             0,
             "#0d0887"
            ],
            [
             0.1111111111111111,
             "#46039f"
            ],
            [
             0.2222222222222222,
             "#7201a8"
            ],
            [
             0.3333333333333333,
             "#9c179e"
            ],
            [
             0.4444444444444444,
             "#bd3786"
            ],
            [
             0.5555555555555556,
             "#d8576b"
            ],
            [
             0.6666666666666666,
             "#ed7953"
            ],
            [
             0.7777777777777778,
             "#fb9f3a"
            ],
            [
             0.8888888888888888,
             "#fdca26"
            ],
            [
             1,
             "#f0f921"
            ]
           ]
          },
          "colorway": [
           "#636efa",
           "#EF553B",
           "#00cc96",
           "#ab63fa",
           "#FFA15A",
           "#19d3f3",
           "#FF6692",
           "#B6E880",
           "#FF97FF",
           "#FECB52"
          ],
          "font": {
           "color": "#2a3f5f"
          },
          "geo": {
           "bgcolor": "white",
           "lakecolor": "white",
           "landcolor": "#E5ECF6",
           "showlakes": true,
           "showland": true,
           "subunitcolor": "white"
          },
          "hoverlabel": {
           "align": "left"
          },
          "hovermode": "closest",
          "mapbox": {
           "style": "light"
          },
          "paper_bgcolor": "white",
          "plot_bgcolor": "#E5ECF6",
          "polar": {
           "angularaxis": {
            "gridcolor": "white",
            "linecolor": "white",
            "ticks": ""
           },
           "bgcolor": "#E5ECF6",
           "radialaxis": {
            "gridcolor": "white",
            "linecolor": "white",
            "ticks": ""
           }
          },
          "scene": {
           "xaxis": {
            "backgroundcolor": "#E5ECF6",
            "gridcolor": "white",
            "gridwidth": 2,
            "linecolor": "white",
            "showbackground": true,
            "ticks": "",
            "zerolinecolor": "white"
           },
           "yaxis": {
            "backgroundcolor": "#E5ECF6",
            "gridcolor": "white",
            "gridwidth": 2,
            "linecolor": "white",
            "showbackground": true,
            "ticks": "",
            "zerolinecolor": "white"
           },
           "zaxis": {
            "backgroundcolor": "#E5ECF6",
            "gridcolor": "white",
            "gridwidth": 2,
            "linecolor": "white",
            "showbackground": true,
            "ticks": "",
            "zerolinecolor": "white"
           }
          },
          "shapedefaults": {
           "line": {
            "color": "#2a3f5f"
           }
          },
          "ternary": {
           "aaxis": {
            "gridcolor": "white",
            "linecolor": "white",
            "ticks": ""
           },
           "baxis": {
            "gridcolor": "white",
            "linecolor": "white",
            "ticks": ""
           },
           "bgcolor": "#E5ECF6",
           "caxis": {
            "gridcolor": "white",
            "linecolor": "white",
            "ticks": ""
           }
          },
          "title": {
           "x": 0.05
          },
          "xaxis": {
           "automargin": true,
           "gridcolor": "white",
           "linecolor": "white",
           "ticks": "",
           "title": {
            "standoff": 15
           },
           "zerolinecolor": "white",
           "zerolinewidth": 2
          },
          "yaxis": {
           "automargin": true,
           "gridcolor": "white",
           "linecolor": "white",
           "ticks": "",
           "title": {
            "standoff": 15
           },
           "zerolinecolor": "white",
           "zerolinewidth": 2
          }
         }
        },
        "xaxis": {
         "anchor": "y",
         "domain": [
          0,
          1
         ],
         "title": {
          "text": "venue"
         }
        },
        "yaxis": {
         "anchor": "x",
         "domain": [
          0,
          1
         ],
         "title": {
          "text": "count"
         }
        }
       }
      }
     },
     "metadata": {},
     "output_type": "display_data"
    },
    {
     "data": {
      "application/vnd.plotly.v1+json": {
       "config": {
        "plotlyServerURL": "https://plot.ly"
       },
       "data": [
        {
         "alignmentgroup": "True",
         "bingroup": "x",
         "hovertemplate": "opening_act(s)=%{x}<br>count=%{y}<extra></extra>",
         "legendgroup": "",
         "marker": {
          "color": "#636efa",
          "pattern": {
           "shape": ""
          }
         },
         "name": "",
         "offsetgroup": "",
         "orientation": "v",
         "showlegend": false,
         "type": "histogram",
         "x": [
          "Gloriana\r\nKellie Pickler",
          "Gloriana\r\nKellie Pickler",
          "Gloriana\r\nKellie Pickler",
          "Gloriana\r\nKellie Pickler",
          "Gloriana\r\nKellie Pickler",
          "Gloriana\r\nKellie Pickler",
          "Gloriana\r\nKellie Pickler",
          "—",
          "—",
          "Gloriana\r\nKellie Pickler",
          "Gloriana\r\nKellie Pickler",
          "Gloriana\r\nKellie Pickler",
          "Gloriana\r\nKellie Pickler",
          "Gloriana\r\nKellie Pickler",
          "Gloriana\r\nKellie Pickler",
          "Gloriana\r\nKellie Pickler",
          "Gloriana\r\nKellie Pickler",
          "Gloriana\r\nKellie Pickler",
          "—",
          "Gloriana\r\nKellie Pickler",
          "Gloriana\r\nKellie Pickler",
          "—",
          "—",
          "Gloriana\r\nKellie Pickler",
          "—",
          "—",
          "Gloriana\r\nKellie Pickler",
          "—",
          "Gloriana\r\nKellie Pickler",
          "Gloriana\r\nKellie Pickler",
          "Kellie Pickler",
          "Gloriana\r\nKellie Pickler",
          "—",
          "Gloriana\r\nKellie Pickler",
          "—",
          "Gloriana\r\nKellie Pickler",
          "—",
          "—",
          "Gloriana\r\nKellie Pickler",
          "Gloriana\r\nKellie Pickler",
          "Gloriana\r\nKellie Pickler",
          "Gloriana\r\nKellie Pickler",
          "Gloriana\r\nKellie Pickler",
          "Gloriana\r\nKellie Pickler",
          "Gloriana\r\nKellie Pickler",
          "Gloriana\r\nKellie Pickler",
          "Gloriana\r\nKellie Pickler",
          "Gloriana\r\nKellie Pickler",
          "Gloriana\r\nKellie Pickler",
          "Gloriana\r\nKellie Pickler",
          "Gloriana\r\nKellie Pickler",
          "Gloriana\r\nKellie Pickler",
          "Gloriana\r\nKellie Pickler",
          "Gloriana\r\nKellie Pickler",
          "Gloriana\r\nKellie Pickler",
          "Gloriana\r\nKellie Pickler",
          "Gloriana\r\nKellie Pickler",
          "Gloriana\r\nKellie Pickler",
          "Gloriana\r\nKellie Pickler",
          "Justin Bieber",
          "Justin Bieber",
          "Gloriana",
          "Gloriana",
          "Gloriana",
          "Gloriana",
          "Gloriana",
          "Gloriana",
          "Gloriana",
          "—",
          "Gloriana\r\nKellie Pickler",
          "Gloriana\r\nKellie Pickler",
          "Gloriana\r\nKellie Pickler",
          "Gloriana\r\nKellie Pickler",
          "Gloriana\r\nKellie Pickler",
          "Gloriana\r\nKellie Pickler",
          "Gloriana\r\nKellie Pickler",
          "Gloriana\r\nKellie Pickler",
          "Gloriana\r\nKellie Pickler",
          "Gloriana\r\nKellie Pickler",
          "Gloriana\r\nKellie Pickler",
          "Gloriana\r\nKellie Pickler",
          "Gloriana\r\nKellie Pickler",
          "Gloriana\r\nKellie Pickler",
          "Gloriana\r\nKellie Pickler",
          "Gloriana\r\nKellie Pickler",
          "Gloriana\r\nKellie Pickler",
          "Gloriana\r\nKellie Pickler",
          "Gloriana\r\nKellie Pickler",
          "Gloriana\r\nKellie Pickler",
          "Gloriana\r\nKellie Pickler",
          "Gloriana\r\nKellie Pickler",
          "Gloriana\r\nKellie Pickler",
          "Gloriana\r\nKellie Pickler",
          "Gloriana\r\nKellie Pickler",
          "Gloriana\r\nKellie Pickler",
          "Gloriana\r\nKellie Pickler",
          "Gloriana\r\nKellie Pickler",
          "Gloriana\r\nKellie Pickler",
          "Gloriana\r\nKellie Pickler",
          "Gloriana\r\nKellie Pickler",
          "Gloriana\r\nKellie Pickler",
          "Gloriana\r\nKellie Pickler",
          "Gloriana\r\nKellie Pickler",
          "Gloriana\r\nKellie Pickler",
          "Gloriana\r\nKellie Pickler",
          "—",
          "Gloriana\r\nKellie Pickler",
          "Gloriana\r\nKellie Pickler",
          "Gloriana\r\nJustin Bieber\r\nKellie Pickler",
          "Gloriana\r\nKellie Pickler",
          "—",
          "Sezairi Sezali",
          "—",
          "—",
          "—",
          "—",
          "Sam Concepcion",
          "Saito Johnny",
          "Tom Dice",
          "Tom Dice",
          "—",
          "Martin & James",
          "Emma Marrone",
          "—",
          "The Bright",
          "Martin & James",
          "Ryan Sheridan",
          "Ryan Sheridan",
          "Martin & James",
          "Martin & James",
          "Needtobreathe",
          "Needtobreathe",
          "Needtobreathe",
          "Needtobreathe",
          "Needtobreathe",
          "Needtobreathe",
          "Needtobreathe",
          "Needtobreathe",
          "Needtobreathe",
          "Needtobreathe",
          "Needtobreathe",
          "Needtobreathe",
          "Needtobreathe",
          "Needtobreathe",
          "Needtobreathe",
          "Needtobreathe",
          "Needtobreathe",
          "Needtobreathe",
          "Needtobreathe",
          "Needtobreathe",
          "Needtobreathe",
          "Needtobreathe",
          "Needtobreathe",
          "Needtobreathe",
          "Needtobreathe",
          "Needtobreathe",
          "Needtobreathe",
          "Needtobreathe",
          "Needtobreathe",
          "Needtobreathe",
          "Needtobreathe",
          "Needtobreathe",
          "Needtobreathe",
          "Needtobreathe",
          "Needtobreathe",
          "Needtobreathe",
          "Needtobreathe",
          "Needtobreathe",
          "Needtobreathe",
          "Needtobreathe",
          "Needtobreathe",
          "Needtobreathe",
          "Needtobreathe",
          "Needtobreathe",
          "Needtobreathe",
          "Needtobreathe",
          "Needtobreathe",
          "Needtobreathe",
          "Needtobreathe",
          "Needtobreathe",
          "Needtobreathe",
          "Needtobreathe",
          "Needtobreathe",
          "Needtobreathe",
          "Needtobreathe",
          "Needtobreathe",
          "Needtobreathe",
          "Needtobreathe",
          "Needtobreathe",
          "Needtobreathe",
          "Needtobreathe",
          "Needtobreathe",
          "Needtobreathe",
          "Needtobreathe",
          "Needtobreathe",
          "Needtobreathe",
          "Needtobreathe",
          "Needtobreathe",
          "Needtobreathe",
          "Needtobreathe",
          "Needtobreathe",
          "Needtobreathe",
          "Needtobreathe",
          "Needtobreathe",
          "Needtobreathe",
          "Needtobreathe",
          "Needtobreathe",
          "Needtobreathe",
          "Needtobreathe",
          "Hot Chelle Rae",
          "Hot Chelle Rae",
          "Hot Chelle Rae",
          "Hot Chelle Rae",
          "Hot Chelle Rae",
          "Hot Chelle Rae",
          "Hot Chelle Rae",
          "Hot Chelle Rae",
          "Hot Chelle Rae",
          "Hot Chelle Rae",
          "Hot Chelle Rae",
          "Hot Chelle Rae",
          "Ed Sheeran\r\nBrett Eldredge",
          "Ed Sheeran\r\nBrett Eldredge",
          "Ed Sheeran\r\nBrett Eldredge",
          "Ed Sheeran\r\nBrett Eldredge",
          "Ed Sheeran\r\nBrett Eldredge",
          "Ed Sheeran\r\nBrett Eldredge",
          "Ed Sheeran\r\nFlorida Georgia Line",
          "Ed Sheeran\r\nFlorida Georgia Line",
          "Ed Sheeran\r\nFlorida Georgia Line",
          "Ed Sheeran\r\nBrett Eldredge",
          "Ed Sheeran\r\nBrett Eldredge",
          "Ed Sheeran\r\nBrett Eldredge",
          "Ed Sheeran\r\nBrett Eldredge",
          "Ed Sheeran\r\nBrett Eldredge",
          "Ed Sheeran\r\nBrett Eldredge",
          "Ed Sheeran\r\nBrett Eldredge",
          "Ed Sheeran\r\nBrett Eldredge",
          "Ed Sheeran\r\nBrett Eldredge",
          "Ed Sheeran\r\nAustin Mahone\r\nBrett Eldredge",
          "Ed Sheeran\r\nFlorida Georgia Line",
          "Ed Sheeran\r\nFlorida Georgia Line",
          "Ed Sheeran\r\nBrett Eldredge",
          "Ed Sheeran\r\nBrett Eldredge",
          "Ed Sheeran\r\nBrett Eldredge",
          "Ed Sheeran\r\nFlorida Georgia Line",
          "Ed Sheeran\r\nFlorida Georgia Line",
          "Ed Sheeran\r\nAustin Mahone\r\nFlorida Georgia Line",
          "Ed Sheeran\r\nJoel Crouse",
          "Ed Sheeran\r\nJoel Crouse",
          "Ed Sheeran\r\nJoel Crouse",
          "Ed Sheeran\r\nJoel Crouse",
          "Ed Sheeran\r\nAustin Mahone\r\nJoel Crouse",
          "Ed Sheeran\r\nAustin Mahone\r\nJoel Crouse",
          "Ed Sheeran\r\nAustin Mahone\r\nJoel Crouse",
          "Ed Sheeran\r\nJoel Crouse",
          "Ed Sheeran\r\nJoel Crouse",
          "Ed Sheeran\r\nAustin Mahone\r\nJoel Crouse",
          "Ed Sheeran\r\nAustin Mahone\r\nJoel Crouse",
          "Ed Sheeran\r\nAustin Mahone\r\nJoel Crouse",
          "Ed Sheeran\r\nAustin Mahone\r\nJoel Crouse",
          "Ed Sheeran\r\nAustin Mahone\r\nJoel Crouse",
          "Ed Sheeran\r\nAustin Mahone\r\nJoel Crouse",
          "Ed Sheeran\r\nAustin Mahone\r\nJoel Crouse",
          "Ed Sheeran\r\nFlorida Georgia Line",
          "Ed Sheeran\r\nFlorida Georgia Line",
          "Ed Sheeran\r\nFlorida Georgia Line",
          "Ed Sheeran\r\nCasey James",
          "Ed Sheeran\r\nCasey James",
          "Ed Sheeran\r\nAustin Mahone\r\nCasey James",
          "Ed Sheeran\r\nCasey James",
          "Ed Sheeran\r\nCasey James",
          "Ed Sheeran\r\nCasey James",
          "Ed Sheeran\r\nCasey James",
          "Ed Sheeran\r\nCasey James",
          "Ed Sheeran\r\nCasey James",
          "Ed Sheeran\r\nCasey James",
          "Ed Sheeran\r\nCasey James",
          "Ed Sheeran\r\nCasey James",
          "Ed Sheeran\r\nCasey James",
          "Ed Sheeran\r\nCasey James",
          "Ed Sheeran\r\nCasey James",
          "Ed Sheeran\r\nCasey James",
          "Ed Sheeran\r\nCasey James",
          "Ed Sheeran\r\nCasey James",
          "Ed Sheeran\r\nCasey James",
          "Ed Sheeran\r\nCasey James",
          "Neon Trees",
          "Neon Trees",
          "Neon Trees",
          "Guy Sebastian\r\nNeon Trees",
          "Guy Sebastian\r\nNeon Trees",
          "Guy Sebastian\r\nNeon Trees",
          "Guy Sebastian\r\nNeon Trees",
          "The Vamps",
          "The Vamps",
          "The Vamps",
          "Andreas Bourani",
          "The Vamps",
          "The Vamps",
          "unavailable",
          "CTS",
          "Nicole Zefanya",
          "Meg Bucsit",
          "Imprompt-3",
          "IamNeeta",
          "Imprompt-3",
          "—",
          "—",
          "—",
          "Vance Joy",
          "Vance Joy\r\nShawn Mendes",
          "Vance Joy\r\nShawn Mendes",
          "Vance Joy",
          "Vance Joy",
          "Vance Joy\r\nShawn Mendes",
          "Vance Joy",
          "Vance Joy",
          "Vance Joy\r\nShawn Mendes",
          "Vance Joy\r\nShawn Mendes",
          "James Bay",
          "James Bay",
          "James Bay",
          "Vance Joy",
          "Vance Joy",
          "—",
          "Vance Joy",
          "Vance Joy",
          "Vance Joy",
          "Vance Joy",
          "Vance Joy\r\nShawn Mendes\r\nHaim",
          "Vance Joy\r\nShawn Mendes\r\nHaim",
          "Vance Joy\r\nShawn Mendes\r\nHaim",
          "Vance Joy\r\nShawn Mendes\r\nHaim",
          "Vance Joy\r\nShawn Mendes\r\nHaim",
          "Vance Joy\r\nShawn Mendes\r\nHaim",
          "Vance Joy\r\nShawn Mendes\r\nHaim",
          "Vance Joy\r\nShawn Mendes\r\nHaim",
          "Vance Joy\r\nShawn Mendes",
          "Vance Joy",
          "Vance Joy",
          "Vance Joy\r\nShawn Mendes",
          "Vance Joy\r\nShawn Mendes",
          "Vance Joy\r\nShawn Mendes",
          "Vance Joy",
          "Vance Joy",
          "Vance Joy\r\nHaim",
          "Vance Joy\r\nHaim",
          "Vance Joy\r\nHaim",
          "Vance Joy\r\nHaim",
          "Vance Joy\r\nHaim",
          "Vance Joy\r\nShawn Mendes",
          "Vance Joy",
          "Vance Joy",
          "Vance Joy",
          "Vance Joy\r\nShawn Mendes",
          "Vance Joy",
          "Vance Joy",
          "Vance Joy",
          "Vance Joy",
          "Vance Joy",
          "Vance Joy",
          "Vance Joy",
          "Vance Joy",
          "Vance Joy\r\nHaim",
          "Vance Joy\r\nHaim",
          "Vance Joy\r\nHaim",
          "Vance Joy\r\nHaim",
          "Vance Joy\r\nShawn Mendes",
          "Vance Joy\r\nShawn Mendes",
          "Vance Joy",
          "Vance Joy",
          "Vance Joy",
          "Vance Joy",
          "Vance Joy\r\nShawn Mendes",
          "Vance Joy",
          "Vance Joy",
          "Vance Joy\r\nShawn Mendes",
          "Vance Joy",
          "Vance Joy\r\nShawn Mendes",
          "—",
          "—",
          "—",
          "—",
          "—",
          "Vance Joy",
          "Vance Joy",
          "Vance Joy",
          "Vance Joy",
          "Vance Joy",
          "Vance Joy",
          "Vance Joy",
          "Camila Cabello\r\nCharli XCX",
          "Camila Cabello\r\nCharli XCX",
          "Camila Cabello\r\nCharli XCX",
          "Camila Cabello\r\nCharli XCX",
          "Camila Cabello\r\nCharli XCX",
          "Charli XCX",
          "Camila Cabello\r\nCharli XCX",
          "Camila Cabello\r\nCharli XCX",
          "Camila Cabello\r\nCharli XCX",
          "Camila Cabello\r\nCharli XCX",
          "Camila Cabello\r\nCharli XCX",
          "Camila Cabello\r\nCharli XCX",
          "Camila Cabello\r\nCharli XCX",
          "Camila Cabello\r\nCharli XCX",
          "Camila Cabello\r\nCharli XCX",
          "Camila Cabello\r\nCharli XCX",
          "Camila Cabello\r\nCharli XCX",
          "Camila Cabello\r\nCharli XCX",
          "Camila Cabello\r\nCharli XCX",
          "Camila Cabello\r\nCharli XCX",
          "Camila Cabello\r\nCharli XCX",
          "Camila Cabello\r\nCharli XCX",
          "Camila Cabello\r\nCharli XCX",
          "Camila Cabello\r\nCharli XCX",
          "Camila Cabello\r\nCharli XCX",
          "Camila Cabello\r\nCharli XCX",
          "Camila Cabello\r\nCharli XCX",
          "Camila Cabello\r\nCharli XCX",
          "Camila Cabello\r\nCharli XCX",
          "Camila Cabello\r\nCharli XCX",
          "Camila Cabello\r\nCharli XCX",
          "Camila Cabello\r\nCharli XCX",
          "Camila Cabello\r\nCharli XCX",
          "Camila Cabello\r\nCharli XCX",
          "Camila Cabello\r\nCharli XCX",
          "Camila Cabello\r\nCharli XCX",
          "Camila Cabello\r\nCharli XCX",
          "Camila Cabello\r\nCharli XCX",
          "Camila Cabello\r\nCharli XCX",
          "Camila Cabello\r\nCharli XCX",
          "Camila Cabello\r\nCharli XCX",
          "Camila Cabello\r\nCharli XCX",
          "Camila Cabello\r\nCharli XCX",
          "Camila Cabello\r\nCharli XCX",
          "Camila Cabello\r\nCharli XCX",
          "Camila Cabello\r\nCharli XCX",
          "Charli XCX\r\nBroods",
          "Charli XCX\r\nBroods",
          "Charli XCX\r\nBroods",
          "Charli XCX\r\nBroods",
          "Charli XCX\r\nBroods",
          "Charli XCX",
          "Charli XCX"
         ],
         "xaxis": "x",
         "yaxis": "y"
        }
       ],
       "layout": {
        "barmode": "relative",
        "legend": {
         "tracegroupgap": 0
        },
        "margin": {
         "t": 60
        },
        "template": {
         "data": {
          "bar": [
           {
            "error_x": {
             "color": "#2a3f5f"
            },
            "error_y": {
             "color": "#2a3f5f"
            },
            "marker": {
             "line": {
              "color": "#E5ECF6",
              "width": 0.5
             },
             "pattern": {
              "fillmode": "overlay",
              "size": 10,
              "solidity": 0.2
             }
            },
            "type": "bar"
           }
          ],
          "barpolar": [
           {
            "marker": {
             "line": {
              "color": "#E5ECF6",
              "width": 0.5
             },
             "pattern": {
              "fillmode": "overlay",
              "size": 10,
              "solidity": 0.2
             }
            },
            "type": "barpolar"
           }
          ],
          "carpet": [
           {
            "aaxis": {
             "endlinecolor": "#2a3f5f",
             "gridcolor": "white",
             "linecolor": "white",
             "minorgridcolor": "white",
             "startlinecolor": "#2a3f5f"
            },
            "baxis": {
             "endlinecolor": "#2a3f5f",
             "gridcolor": "white",
             "linecolor": "white",
             "minorgridcolor": "white",
             "startlinecolor": "#2a3f5f"
            },
            "type": "carpet"
           }
          ],
          "choropleth": [
           {
            "colorbar": {
             "outlinewidth": 0,
             "ticks": ""
            },
            "type": "choropleth"
           }
          ],
          "contour": [
           {
            "colorbar": {
             "outlinewidth": 0,
             "ticks": ""
            },
            "colorscale": [
             [
              0,
              "#0d0887"
             ],
             [
              0.1111111111111111,
              "#46039f"
             ],
             [
              0.2222222222222222,
              "#7201a8"
             ],
             [
              0.3333333333333333,
              "#9c179e"
             ],
             [
              0.4444444444444444,
              "#bd3786"
             ],
             [
              0.5555555555555556,
              "#d8576b"
             ],
             [
              0.6666666666666666,
              "#ed7953"
             ],
             [
              0.7777777777777778,
              "#fb9f3a"
             ],
             [
              0.8888888888888888,
              "#fdca26"
             ],
             [
              1,
              "#f0f921"
             ]
            ],
            "type": "contour"
           }
          ],
          "contourcarpet": [
           {
            "colorbar": {
             "outlinewidth": 0,
             "ticks": ""
            },
            "type": "contourcarpet"
           }
          ],
          "heatmap": [
           {
            "colorbar": {
             "outlinewidth": 0,
             "ticks": ""
            },
            "colorscale": [
             [
              0,
              "#0d0887"
             ],
             [
              0.1111111111111111,
              "#46039f"
             ],
             [
              0.2222222222222222,
              "#7201a8"
             ],
             [
              0.3333333333333333,
              "#9c179e"
             ],
             [
              0.4444444444444444,
              "#bd3786"
             ],
             [
              0.5555555555555556,
              "#d8576b"
             ],
             [
              0.6666666666666666,
              "#ed7953"
             ],
             [
              0.7777777777777778,
              "#fb9f3a"
             ],
             [
              0.8888888888888888,
              "#fdca26"
             ],
             [
              1,
              "#f0f921"
             ]
            ],
            "type": "heatmap"
           }
          ],
          "heatmapgl": [
           {
            "colorbar": {
             "outlinewidth": 0,
             "ticks": ""
            },
            "colorscale": [
             [
              0,
              "#0d0887"
             ],
             [
              0.1111111111111111,
              "#46039f"
             ],
             [
              0.2222222222222222,
              "#7201a8"
             ],
             [
              0.3333333333333333,
              "#9c179e"
             ],
             [
              0.4444444444444444,
              "#bd3786"
             ],
             [
              0.5555555555555556,
              "#d8576b"
             ],
             [
              0.6666666666666666,
              "#ed7953"
             ],
             [
              0.7777777777777778,
              "#fb9f3a"
             ],
             [
              0.8888888888888888,
              "#fdca26"
             ],
             [
              1,
              "#f0f921"
             ]
            ],
            "type": "heatmapgl"
           }
          ],
          "histogram": [
           {
            "marker": {
             "pattern": {
              "fillmode": "overlay",
              "size": 10,
              "solidity": 0.2
             }
            },
            "type": "histogram"
           }
          ],
          "histogram2d": [
           {
            "colorbar": {
             "outlinewidth": 0,
             "ticks": ""
            },
            "colorscale": [
             [
              0,
              "#0d0887"
             ],
             [
              0.1111111111111111,
              "#46039f"
             ],
             [
              0.2222222222222222,
              "#7201a8"
             ],
             [
              0.3333333333333333,
              "#9c179e"
             ],
             [
              0.4444444444444444,
              "#bd3786"
             ],
             [
              0.5555555555555556,
              "#d8576b"
             ],
             [
              0.6666666666666666,
              "#ed7953"
             ],
             [
              0.7777777777777778,
              "#fb9f3a"
             ],
             [
              0.8888888888888888,
              "#fdca26"
             ],
             [
              1,
              "#f0f921"
             ]
            ],
            "type": "histogram2d"
           }
          ],
          "histogram2dcontour": [
           {
            "colorbar": {
             "outlinewidth": 0,
             "ticks": ""
            },
            "colorscale": [
             [
              0,
              "#0d0887"
             ],
             [
              0.1111111111111111,
              "#46039f"
             ],
             [
              0.2222222222222222,
              "#7201a8"
             ],
             [
              0.3333333333333333,
              "#9c179e"
             ],
             [
              0.4444444444444444,
              "#bd3786"
             ],
             [
              0.5555555555555556,
              "#d8576b"
             ],
             [
              0.6666666666666666,
              "#ed7953"
             ],
             [
              0.7777777777777778,
              "#fb9f3a"
             ],
             [
              0.8888888888888888,
              "#fdca26"
             ],
             [
              1,
              "#f0f921"
             ]
            ],
            "type": "histogram2dcontour"
           }
          ],
          "mesh3d": [
           {
            "colorbar": {
             "outlinewidth": 0,
             "ticks": ""
            },
            "type": "mesh3d"
           }
          ],
          "parcoords": [
           {
            "line": {
             "colorbar": {
              "outlinewidth": 0,
              "ticks": ""
             }
            },
            "type": "parcoords"
           }
          ],
          "pie": [
           {
            "automargin": true,
            "type": "pie"
           }
          ],
          "scatter": [
           {
            "fillpattern": {
             "fillmode": "overlay",
             "size": 10,
             "solidity": 0.2
            },
            "type": "scatter"
           }
          ],
          "scatter3d": [
           {
            "line": {
             "colorbar": {
              "outlinewidth": 0,
              "ticks": ""
             }
            },
            "marker": {
             "colorbar": {
              "outlinewidth": 0,
              "ticks": ""
             }
            },
            "type": "scatter3d"
           }
          ],
          "scattercarpet": [
           {
            "marker": {
             "colorbar": {
              "outlinewidth": 0,
              "ticks": ""
             }
            },
            "type": "scattercarpet"
           }
          ],
          "scattergeo": [
           {
            "marker": {
             "colorbar": {
              "outlinewidth": 0,
              "ticks": ""
             }
            },
            "type": "scattergeo"
           }
          ],
          "scattergl": [
           {
            "marker": {
             "colorbar": {
              "outlinewidth": 0,
              "ticks": ""
             }
            },
            "type": "scattergl"
           }
          ],
          "scattermapbox": [
           {
            "marker": {
             "colorbar": {
              "outlinewidth": 0,
              "ticks": ""
             }
            },
            "type": "scattermapbox"
           }
          ],
          "scatterpolar": [
           {
            "marker": {
             "colorbar": {
              "outlinewidth": 0,
              "ticks": ""
             }
            },
            "type": "scatterpolar"
           }
          ],
          "scatterpolargl": [
           {
            "marker": {
             "colorbar": {
              "outlinewidth": 0,
              "ticks": ""
             }
            },
            "type": "scatterpolargl"
           }
          ],
          "scatterternary": [
           {
            "marker": {
             "colorbar": {
              "outlinewidth": 0,
              "ticks": ""
             }
            },
            "type": "scatterternary"
           }
          ],
          "surface": [
           {
            "colorbar": {
             "outlinewidth": 0,
             "ticks": ""
            },
            "colorscale": [
             [
              0,
              "#0d0887"
             ],
             [
              0.1111111111111111,
              "#46039f"
             ],
             [
              0.2222222222222222,
              "#7201a8"
             ],
             [
              0.3333333333333333,
              "#9c179e"
             ],
             [
              0.4444444444444444,
              "#bd3786"
             ],
             [
              0.5555555555555556,
              "#d8576b"
             ],
             [
              0.6666666666666666,
              "#ed7953"
             ],
             [
              0.7777777777777778,
              "#fb9f3a"
             ],
             [
              0.8888888888888888,
              "#fdca26"
             ],
             [
              1,
              "#f0f921"
             ]
            ],
            "type": "surface"
           }
          ],
          "table": [
           {
            "cells": {
             "fill": {
              "color": "#EBF0F8"
             },
             "line": {
              "color": "white"
             }
            },
            "header": {
             "fill": {
              "color": "#C8D4E3"
             },
             "line": {
              "color": "white"
             }
            },
            "type": "table"
           }
          ]
         },
         "layout": {
          "annotationdefaults": {
           "arrowcolor": "#2a3f5f",
           "arrowhead": 0,
           "arrowwidth": 1
          },
          "autotypenumbers": "strict",
          "coloraxis": {
           "colorbar": {
            "outlinewidth": 0,
            "ticks": ""
           }
          },
          "colorscale": {
           "diverging": [
            [
             0,
             "#8e0152"
            ],
            [
             0.1,
             "#c51b7d"
            ],
            [
             0.2,
             "#de77ae"
            ],
            [
             0.3,
             "#f1b6da"
            ],
            [
             0.4,
             "#fde0ef"
            ],
            [
             0.5,
             "#f7f7f7"
            ],
            [
             0.6,
             "#e6f5d0"
            ],
            [
             0.7,
             "#b8e186"
            ],
            [
             0.8,
             "#7fbc41"
            ],
            [
             0.9,
             "#4d9221"
            ],
            [
             1,
             "#276419"
            ]
           ],
           "sequential": [
            [
             0,
             "#0d0887"
            ],
            [
             0.1111111111111111,
             "#46039f"
            ],
            [
             0.2222222222222222,
             "#7201a8"
            ],
            [
             0.3333333333333333,
             "#9c179e"
            ],
            [
             0.4444444444444444,
             "#bd3786"
            ],
            [
             0.5555555555555556,
             "#d8576b"
            ],
            [
             0.6666666666666666,
             "#ed7953"
            ],
            [
             0.7777777777777778,
             "#fb9f3a"
            ],
            [
             0.8888888888888888,
             "#fdca26"
            ],
            [
             1,
             "#f0f921"
            ]
           ],
           "sequentialminus": [
            [
             0,
             "#0d0887"
            ],
            [
             0.1111111111111111,
             "#46039f"
            ],
            [
             0.2222222222222222,
             "#7201a8"
            ],
            [
             0.3333333333333333,
             "#9c179e"
            ],
            [
             0.4444444444444444,
             "#bd3786"
            ],
            [
             0.5555555555555556,
             "#d8576b"
            ],
            [
             0.6666666666666666,
             "#ed7953"
            ],
            [
             0.7777777777777778,
             "#fb9f3a"
            ],
            [
             0.8888888888888888,
             "#fdca26"
            ],
            [
             1,
             "#f0f921"
            ]
           ]
          },
          "colorway": [
           "#636efa",
           "#EF553B",
           "#00cc96",
           "#ab63fa",
           "#FFA15A",
           "#19d3f3",
           "#FF6692",
           "#B6E880",
           "#FF97FF",
           "#FECB52"
          ],
          "font": {
           "color": "#2a3f5f"
          },
          "geo": {
           "bgcolor": "white",
           "lakecolor": "white",
           "landcolor": "#E5ECF6",
           "showlakes": true,
           "showland": true,
           "subunitcolor": "white"
          },
          "hoverlabel": {
           "align": "left"
          },
          "hovermode": "closest",
          "mapbox": {
           "style": "light"
          },
          "paper_bgcolor": "white",
          "plot_bgcolor": "#E5ECF6",
          "polar": {
           "angularaxis": {
            "gridcolor": "white",
            "linecolor": "white",
            "ticks": ""
           },
           "bgcolor": "#E5ECF6",
           "radialaxis": {
            "gridcolor": "white",
            "linecolor": "white",
            "ticks": ""
           }
          },
          "scene": {
           "xaxis": {
            "backgroundcolor": "#E5ECF6",
            "gridcolor": "white",
            "gridwidth": 2,
            "linecolor": "white",
            "showbackground": true,
            "ticks": "",
            "zerolinecolor": "white"
           },
           "yaxis": {
            "backgroundcolor": "#E5ECF6",
            "gridcolor": "white",
            "gridwidth": 2,
            "linecolor": "white",
            "showbackground": true,
            "ticks": "",
            "zerolinecolor": "white"
           },
           "zaxis": {
            "backgroundcolor": "#E5ECF6",
            "gridcolor": "white",
            "gridwidth": 2,
            "linecolor": "white",
            "showbackground": true,
            "ticks": "",
            "zerolinecolor": "white"
           }
          },
          "shapedefaults": {
           "line": {
            "color": "#2a3f5f"
           }
          },
          "ternary": {
           "aaxis": {
            "gridcolor": "white",
            "linecolor": "white",
            "ticks": ""
           },
           "baxis": {
            "gridcolor": "white",
            "linecolor": "white",
            "ticks": ""
           },
           "bgcolor": "#E5ECF6",
           "caxis": {
            "gridcolor": "white",
            "linecolor": "white",
            "ticks": ""
           }
          },
          "title": {
           "x": 0.05
          },
          "xaxis": {
           "automargin": true,
           "gridcolor": "white",
           "linecolor": "white",
           "ticks": "",
           "title": {
            "standoff": 15
           },
           "zerolinecolor": "white",
           "zerolinewidth": 2
          },
          "yaxis": {
           "automargin": true,
           "gridcolor": "white",
           "linecolor": "white",
           "ticks": "",
           "title": {
            "standoff": 15
           },
           "zerolinecolor": "white",
           "zerolinewidth": 2
          }
         }
        },
        "xaxis": {
         "anchor": "y",
         "domain": [
          0,
          1
         ],
         "title": {
          "text": "opening_act(s)"
         }
        },
        "yaxis": {
         "anchor": "x",
         "domain": [
          0,
          1
         ],
         "title": {
          "text": "count"
         }
        }
       }
      }
     },
     "metadata": {},
     "output_type": "display_data"
    },
    {
     "data": {
      "application/vnd.plotly.v1+json": {
       "config": {
        "plotlyServerURL": "https://plot.ly"
       },
       "data": [
        {
         "alignmentgroup": "True",
         "bingroup": "x",
         "hovertemplate": "revenue=%{x}<br>count=%{y}<extra></extra>",
         "legendgroup": "",
         "marker": {
          "color": "#636efa",
          "pattern": {
           "shape": ""
          }
         },
         "name": "",
         "offsetgroup": "",
         "orientation": "v",
         "showlegend": false,
         "type": "histogram",
         "x": [
          360617,
          340328,
          650420,
          3892356.8349753693,
          398154,
          507012,
          437313,
          401328,
          401328,
          482146,
          528637,
          613284,
          413622,
          647923,
          720940,
          551051,
          502689,
          555207,
          3892356.8349753693,
          608438,
          690959,
          3892356.8349753693,
          3892356.8349753693,
          3892356.8349753693,
          2540906,
          3892356.8349753693,
          512487,
          3892356.8349753693,
          3892356.8349753693,
          3892356.8349753693,
          3892356.8349753693,
          3892356.8349753693,
          3892356.8349753693,
          3892356.8349753693,
          3892356.8349753693,
          3892356.8349753693,
          3892356.8349753693,
          3892356.8349753693,
          976062,
          296306,
          3892356.8349753693,
          3892356.8349753693,
          3892356.8349753693,
          3892356.8349753693,
          3892356.8349753693,
          3892356.8349753693,
          3892356.8349753693,
          3892356.8349753693,
          642387,
          628062,
          654089,
          3892356.8349753693,
          3892356.8349753693,
          3892356.8349753693,
          743492,
          634876,
          1150896,
          1150896,
          623975,
          3892356.8349753693,
          3892356.8349753693,
          956505,
          2030640,
          2030640,
          555396,
          1627510,
          1627510,
          585352,
          3892356.8349753693,
          793049,
          598581,
          777442,
          642705,
          742954,
          501169,
          2002321,
          2002321,
          664305,
          1711591,
          1711591,
          645592,
          675184,
          610801,
          761110,
          1497135,
          1497135,
          649488,
          716726,
          1736197,
          1736197,
          1024223,
          755475,
          752303,
          738280,
          846111,
          610668,
          1742669,
          1742669,
          1713529,
          1713529,
          873206,
          2497690,
          2497690,
          1290926,
          1290926,
          3892356.8349753693,
          1824743,
          1824743,
          3726157,
          3892356.8349753693,
          3892356.8349753693,
          916850,
          385374,
          758113,
          1738227,
          1738227,
          859037,
          1030633,
          219212,
          248314,
          815246,
          370028,
          153303,
          201781,
          251864,
          508854,
          379001,
          419806,
          580558,
          891152,
          1717104,
          1717104,
          862771,
          1582951,
          1582951,
          791980,
          955259,
          897042,
          3453549,
          1913737,
          1913737,
          4009118,
          966749,
          810165,
          8026350,
          8026350,
          990701,
          903875,
          1254230,
          3036000,
          3036000,
          3875463,
          3875463,
          3875463,
          3875463,
          724854,
          877175,
          976954,
          2068789,
          2068789,
          4268678,
          1909603,
          1909603,
          1850159,
          1850159,
          2136270,
          2136270,
          3927154,
          3927154,
          3927154,
          3927154,
          1825448,
          1825448,
          934326,
          903445,
          1289430,
          2190680,
          2190680,
          1841134,
          1841134,
          728546,
          907573,
          3148046,
          834916,
          896946,
          1726661,
          1726661,
          856123,
          830289,
          4337062,
          1003828,
          710426,
          758364,
          792634,
          1826025,
          1826025,
          901535,
          752078,
          1041935,
          820036,
          3435756,
          749099,
          914300,
          786904,
          920903,
          866056,
          828231,
          1988411,
          1988411,
          1878530,
          1075370,
          2416030,
          2416030,
          3420360,
          3420360,
          4151650,
          4151650,
          4151650,
          2888560,
          2888560,
          2888560,
          2243164,
          2243164,
          2346203,
          2346203,
          1162733,
          996114,
          3565317,
          3565317,
          3565317,
          1010175,
          2054128,
          2054128,
          2048023,
          2048023,
          1132095,
          1247605,
          1082042,
          1342699,
          3969059,
          1246491,
          1155170,
          2489205,
          2489205,
          961422,
          935631,
          1105253,
          4589266,
          2239370,
          2239370,
          1139360,
          1076069,
          7863310,
          7863310,
          3175430,
          2379870,
          2379870,
          3974410,
          4718518,
          4670011,
          8822335,
          8822335,
          9464063,
          9464063,
          1075576,
          2093172,
          2093172,
          983882,
          868955,
          4149148,
          948541,
          4734463,
          4734463,
          4734463,
          4734463,
          1138103,
          1084760,
          1584049,
          1661578,
          2320937,
          2320937,
          1109253,
          1088612,
          997216,
          3336545,
          3336545,
          3336545,
          3100290,
          3100290,
          3100290,
          4096060,
          3895810,
          2364080,
          4547250,
          5829240,
          5829240,
          5829240,
          755006,
          3892356.8349753693,
          3892356.8349753693,
          1864934,
          1837147,
          1481473,
          1511662,
          2524080,
          998608,
          3892356.8349753693,
          10586828,
          10586828,
          3892356.8349753693,
          1458197,
          4119670,
          5999690,
          1863281,
          1732041,
          5836926,
          1627798,
          1653762,
          11987816,
          11987816,
          2054690,
          2054690,
          800829,
          1119300,
          1478760,
          3892356.8349753693,
          1975510,
          1975510,
          1325480,
          1499040,
          13423858,
          13423858,
          9730596,
          9730596,
          11469887,
          11469887,
          12533166,
          12533166,
          4081820,
          2387080,
          2387080,
          6050643,
          13031146,
          13031146,
          3029628,
          3029628,
          8961681,
          8961681,
          8961681,
          8961681,
          8961681,
          5475237,
          1589686,
          2868991,
          2868991,
          5202196,
          5514863,
          5514863,
          5514863,
          1550268,
          3369693,
          3369693,
          2967558,
          2967558,
          3354844,
          3354844,
          3452940,
          3452940,
          8670990,
          8670990,
          1566321,
          3121421,
          3121421,
          2219188,
          7396733,
          1870471,
          1662171,
          6034846,
          1527919,
          6202515,
          3217569,
          3217569,
          5917348,
          5917348,
          5917348,
          6571683,
          4759471,
          2407499,
          2407499,
          10421553,
          10421553,
          10421553,
          7214478,
          14006963,
          14006963,
          16251980,
          16251980,
          8672219,
          7926366,
          14576697,
          14576697,
          6169724,
          6169724,
          8567769,
          8567769,
          12214933,
          12214933,
          4928219,
          6606529,
          11396004,
          11396004,
          11951047,
          11951047,
          5148757,
          22031386,
          22031386,
          22031386,
          21779846,
          21779846,
          21779846,
          11177000,
          11177000,
          6230876,
          18089415,
          18089415,
          7244264,
          7072164,
          9007179,
          6597852,
          10242024,
          10242024,
          6730138,
          6531245,
          4884054,
          6491546,
          9350275,
          15006157,
          15006157,
          4153658,
          6755570,
          7686564,
          4338127,
          3617593,
          14859847,
          14859847
         ],
         "xaxis": "x",
         "yaxis": "y"
        }
       ],
       "layout": {
        "barmode": "relative",
        "legend": {
         "tracegroupgap": 0
        },
        "margin": {
         "t": 60
        },
        "template": {
         "data": {
          "bar": [
           {
            "error_x": {
             "color": "#2a3f5f"
            },
            "error_y": {
             "color": "#2a3f5f"
            },
            "marker": {
             "line": {
              "color": "#E5ECF6",
              "width": 0.5
             },
             "pattern": {
              "fillmode": "overlay",
              "size": 10,
              "solidity": 0.2
             }
            },
            "type": "bar"
           }
          ],
          "barpolar": [
           {
            "marker": {
             "line": {
              "color": "#E5ECF6",
              "width": 0.5
             },
             "pattern": {
              "fillmode": "overlay",
              "size": 10,
              "solidity": 0.2
             }
            },
            "type": "barpolar"
           }
          ],
          "carpet": [
           {
            "aaxis": {
             "endlinecolor": "#2a3f5f",
             "gridcolor": "white",
             "linecolor": "white",
             "minorgridcolor": "white",
             "startlinecolor": "#2a3f5f"
            },
            "baxis": {
             "endlinecolor": "#2a3f5f",
             "gridcolor": "white",
             "linecolor": "white",
             "minorgridcolor": "white",
             "startlinecolor": "#2a3f5f"
            },
            "type": "carpet"
           }
          ],
          "choropleth": [
           {
            "colorbar": {
             "outlinewidth": 0,
             "ticks": ""
            },
            "type": "choropleth"
           }
          ],
          "contour": [
           {
            "colorbar": {
             "outlinewidth": 0,
             "ticks": ""
            },
            "colorscale": [
             [
              0,
              "#0d0887"
             ],
             [
              0.1111111111111111,
              "#46039f"
             ],
             [
              0.2222222222222222,
              "#7201a8"
             ],
             [
              0.3333333333333333,
              "#9c179e"
             ],
             [
              0.4444444444444444,
              "#bd3786"
             ],
             [
              0.5555555555555556,
              "#d8576b"
             ],
             [
              0.6666666666666666,
              "#ed7953"
             ],
             [
              0.7777777777777778,
              "#fb9f3a"
             ],
             [
              0.8888888888888888,
              "#fdca26"
             ],
             [
              1,
              "#f0f921"
             ]
            ],
            "type": "contour"
           }
          ],
          "contourcarpet": [
           {
            "colorbar": {
             "outlinewidth": 0,
             "ticks": ""
            },
            "type": "contourcarpet"
           }
          ],
          "heatmap": [
           {
            "colorbar": {
             "outlinewidth": 0,
             "ticks": ""
            },
            "colorscale": [
             [
              0,
              "#0d0887"
             ],
             [
              0.1111111111111111,
              "#46039f"
             ],
             [
              0.2222222222222222,
              "#7201a8"
             ],
             [
              0.3333333333333333,
              "#9c179e"
             ],
             [
              0.4444444444444444,
              "#bd3786"
             ],
             [
              0.5555555555555556,
              "#d8576b"
             ],
             [
              0.6666666666666666,
              "#ed7953"
             ],
             [
              0.7777777777777778,
              "#fb9f3a"
             ],
             [
              0.8888888888888888,
              "#fdca26"
             ],
             [
              1,
              "#f0f921"
             ]
            ],
            "type": "heatmap"
           }
          ],
          "heatmapgl": [
           {
            "colorbar": {
             "outlinewidth": 0,
             "ticks": ""
            },
            "colorscale": [
             [
              0,
              "#0d0887"
             ],
             [
              0.1111111111111111,
              "#46039f"
             ],
             [
              0.2222222222222222,
              "#7201a8"
             ],
             [
              0.3333333333333333,
              "#9c179e"
             ],
             [
              0.4444444444444444,
              "#bd3786"
             ],
             [
              0.5555555555555556,
              "#d8576b"
             ],
             [
              0.6666666666666666,
              "#ed7953"
             ],
             [
              0.7777777777777778,
              "#fb9f3a"
             ],
             [
              0.8888888888888888,
              "#fdca26"
             ],
             [
              1,
              "#f0f921"
             ]
            ],
            "type": "heatmapgl"
           }
          ],
          "histogram": [
           {
            "marker": {
             "pattern": {
              "fillmode": "overlay",
              "size": 10,
              "solidity": 0.2
             }
            },
            "type": "histogram"
           }
          ],
          "histogram2d": [
           {
            "colorbar": {
             "outlinewidth": 0,
             "ticks": ""
            },
            "colorscale": [
             [
              0,
              "#0d0887"
             ],
             [
              0.1111111111111111,
              "#46039f"
             ],
             [
              0.2222222222222222,
              "#7201a8"
             ],
             [
              0.3333333333333333,
              "#9c179e"
             ],
             [
              0.4444444444444444,
              "#bd3786"
             ],
             [
              0.5555555555555556,
              "#d8576b"
             ],
             [
              0.6666666666666666,
              "#ed7953"
             ],
             [
              0.7777777777777778,
              "#fb9f3a"
             ],
             [
              0.8888888888888888,
              "#fdca26"
             ],
             [
              1,
              "#f0f921"
             ]
            ],
            "type": "histogram2d"
           }
          ],
          "histogram2dcontour": [
           {
            "colorbar": {
             "outlinewidth": 0,
             "ticks": ""
            },
            "colorscale": [
             [
              0,
              "#0d0887"
             ],
             [
              0.1111111111111111,
              "#46039f"
             ],
             [
              0.2222222222222222,
              "#7201a8"
             ],
             [
              0.3333333333333333,
              "#9c179e"
             ],
             [
              0.4444444444444444,
              "#bd3786"
             ],
             [
              0.5555555555555556,
              "#d8576b"
             ],
             [
              0.6666666666666666,
              "#ed7953"
             ],
             [
              0.7777777777777778,
              "#fb9f3a"
             ],
             [
              0.8888888888888888,
              "#fdca26"
             ],
             [
              1,
              "#f0f921"
             ]
            ],
            "type": "histogram2dcontour"
           }
          ],
          "mesh3d": [
           {
            "colorbar": {
             "outlinewidth": 0,
             "ticks": ""
            },
            "type": "mesh3d"
           }
          ],
          "parcoords": [
           {
            "line": {
             "colorbar": {
              "outlinewidth": 0,
              "ticks": ""
             }
            },
            "type": "parcoords"
           }
          ],
          "pie": [
           {
            "automargin": true,
            "type": "pie"
           }
          ],
          "scatter": [
           {
            "fillpattern": {
             "fillmode": "overlay",
             "size": 10,
             "solidity": 0.2
            },
            "type": "scatter"
           }
          ],
          "scatter3d": [
           {
            "line": {
             "colorbar": {
              "outlinewidth": 0,
              "ticks": ""
             }
            },
            "marker": {
             "colorbar": {
              "outlinewidth": 0,
              "ticks": ""
             }
            },
            "type": "scatter3d"
           }
          ],
          "scattercarpet": [
           {
            "marker": {
             "colorbar": {
              "outlinewidth": 0,
              "ticks": ""
             }
            },
            "type": "scattercarpet"
           }
          ],
          "scattergeo": [
           {
            "marker": {
             "colorbar": {
              "outlinewidth": 0,
              "ticks": ""
             }
            },
            "type": "scattergeo"
           }
          ],
          "scattergl": [
           {
            "marker": {
             "colorbar": {
              "outlinewidth": 0,
              "ticks": ""
             }
            },
            "type": "scattergl"
           }
          ],
          "scattermapbox": [
           {
            "marker": {
             "colorbar": {
              "outlinewidth": 0,
              "ticks": ""
             }
            },
            "type": "scattermapbox"
           }
          ],
          "scatterpolar": [
           {
            "marker": {
             "colorbar": {
              "outlinewidth": 0,
              "ticks": ""
             }
            },
            "type": "scatterpolar"
           }
          ],
          "scatterpolargl": [
           {
            "marker": {
             "colorbar": {
              "outlinewidth": 0,
              "ticks": ""
             }
            },
            "type": "scatterpolargl"
           }
          ],
          "scatterternary": [
           {
            "marker": {
             "colorbar": {
              "outlinewidth": 0,
              "ticks": ""
             }
            },
            "type": "scatterternary"
           }
          ],
          "surface": [
           {
            "colorbar": {
             "outlinewidth": 0,
             "ticks": ""
            },
            "colorscale": [
             [
              0,
              "#0d0887"
             ],
             [
              0.1111111111111111,
              "#46039f"
             ],
             [
              0.2222222222222222,
              "#7201a8"
             ],
             [
              0.3333333333333333,
              "#9c179e"
             ],
             [
              0.4444444444444444,
              "#bd3786"
             ],
             [
              0.5555555555555556,
              "#d8576b"
             ],
             [
              0.6666666666666666,
              "#ed7953"
             ],
             [
              0.7777777777777778,
              "#fb9f3a"
             ],
             [
              0.8888888888888888,
              "#fdca26"
             ],
             [
              1,
              "#f0f921"
             ]
            ],
            "type": "surface"
           }
          ],
          "table": [
           {
            "cells": {
             "fill": {
              "color": "#EBF0F8"
             },
             "line": {
              "color": "white"
             }
            },
            "header": {
             "fill": {
              "color": "#C8D4E3"
             },
             "line": {
              "color": "white"
             }
            },
            "type": "table"
           }
          ]
         },
         "layout": {
          "annotationdefaults": {
           "arrowcolor": "#2a3f5f",
           "arrowhead": 0,
           "arrowwidth": 1
          },
          "autotypenumbers": "strict",
          "coloraxis": {
           "colorbar": {
            "outlinewidth": 0,
            "ticks": ""
           }
          },
          "colorscale": {
           "diverging": [
            [
             0,
             "#8e0152"
            ],
            [
             0.1,
             "#c51b7d"
            ],
            [
             0.2,
             "#de77ae"
            ],
            [
             0.3,
             "#f1b6da"
            ],
            [
             0.4,
             "#fde0ef"
            ],
            [
             0.5,
             "#f7f7f7"
            ],
            [
             0.6,
             "#e6f5d0"
            ],
            [
             0.7,
             "#b8e186"
            ],
            [
             0.8,
             "#7fbc41"
            ],
            [
             0.9,
             "#4d9221"
            ],
            [
             1,
             "#276419"
            ]
           ],
           "sequential": [
            [
             0,
             "#0d0887"
            ],
            [
             0.1111111111111111,
             "#46039f"
            ],
            [
             0.2222222222222222,
             "#7201a8"
            ],
            [
             0.3333333333333333,
             "#9c179e"
            ],
            [
             0.4444444444444444,
             "#bd3786"
            ],
            [
             0.5555555555555556,
             "#d8576b"
            ],
            [
             0.6666666666666666,
             "#ed7953"
            ],
            [
             0.7777777777777778,
             "#fb9f3a"
            ],
            [
             0.8888888888888888,
             "#fdca26"
            ],
            [
             1,
             "#f0f921"
            ]
           ],
           "sequentialminus": [
            [
             0,
             "#0d0887"
            ],
            [
             0.1111111111111111,
             "#46039f"
            ],
            [
             0.2222222222222222,
             "#7201a8"
            ],
            [
             0.3333333333333333,
             "#9c179e"
            ],
            [
             0.4444444444444444,
             "#bd3786"
            ],
            [
             0.5555555555555556,
             "#d8576b"
            ],
            [
             0.6666666666666666,
             "#ed7953"
            ],
            [
             0.7777777777777778,
             "#fb9f3a"
            ],
            [
             0.8888888888888888,
             "#fdca26"
            ],
            [
             1,
             "#f0f921"
            ]
           ]
          },
          "colorway": [
           "#636efa",
           "#EF553B",
           "#00cc96",
           "#ab63fa",
           "#FFA15A",
           "#19d3f3",
           "#FF6692",
           "#B6E880",
           "#FF97FF",
           "#FECB52"
          ],
          "font": {
           "color": "#2a3f5f"
          },
          "geo": {
           "bgcolor": "white",
           "lakecolor": "white",
           "landcolor": "#E5ECF6",
           "showlakes": true,
           "showland": true,
           "subunitcolor": "white"
          },
          "hoverlabel": {
           "align": "left"
          },
          "hovermode": "closest",
          "mapbox": {
           "style": "light"
          },
          "paper_bgcolor": "white",
          "plot_bgcolor": "#E5ECF6",
          "polar": {
           "angularaxis": {
            "gridcolor": "white",
            "linecolor": "white",
            "ticks": ""
           },
           "bgcolor": "#E5ECF6",
           "radialaxis": {
            "gridcolor": "white",
            "linecolor": "white",
            "ticks": ""
           }
          },
          "scene": {
           "xaxis": {
            "backgroundcolor": "#E5ECF6",
            "gridcolor": "white",
            "gridwidth": 2,
            "linecolor": "white",
            "showbackground": true,
            "ticks": "",
            "zerolinecolor": "white"
           },
           "yaxis": {
            "backgroundcolor": "#E5ECF6",
            "gridcolor": "white",
            "gridwidth": 2,
            "linecolor": "white",
            "showbackground": true,
            "ticks": "",
            "zerolinecolor": "white"
           },
           "zaxis": {
            "backgroundcolor": "#E5ECF6",
            "gridcolor": "white",
            "gridwidth": 2,
            "linecolor": "white",
            "showbackground": true,
            "ticks": "",
            "zerolinecolor": "white"
           }
          },
          "shapedefaults": {
           "line": {
            "color": "#2a3f5f"
           }
          },
          "ternary": {
           "aaxis": {
            "gridcolor": "white",
            "linecolor": "white",
            "ticks": ""
           },
           "baxis": {
            "gridcolor": "white",
            "linecolor": "white",
            "ticks": ""
           },
           "bgcolor": "#E5ECF6",
           "caxis": {
            "gridcolor": "white",
            "linecolor": "white",
            "ticks": ""
           }
          },
          "title": {
           "x": 0.05
          },
          "xaxis": {
           "automargin": true,
           "gridcolor": "white",
           "linecolor": "white",
           "ticks": "",
           "title": {
            "standoff": 15
           },
           "zerolinecolor": "white",
           "zerolinewidth": 2
          },
          "yaxis": {
           "automargin": true,
           "gridcolor": "white",
           "linecolor": "white",
           "ticks": "",
           "title": {
            "standoff": 15
           },
           "zerolinecolor": "white",
           "zerolinewidth": 2
          }
         }
        },
        "xaxis": {
         "anchor": "y",
         "domain": [
          0,
          1
         ],
         "title": {
          "text": "revenue"
         }
        },
        "yaxis": {
         "anchor": "x",
         "domain": [
          0,
          1
         ],
         "title": {
          "text": "count"
         }
        }
       }
      }
     },
     "metadata": {},
     "output_type": "display_data"
    },
    {
     "data": {
      "application/vnd.plotly.v1+json": {
       "config": {
        "plotlyServerURL": "https://plot.ly"
       },
       "data": [
        {
         "alignmentgroup": "True",
         "bingroup": "x",
         "hovertemplate": "tour=%{x}<br>count=%{y}<extra></extra>",
         "legendgroup": "",
         "marker": {
          "color": "#636efa",
          "pattern": {
           "shape": ""
          }
         },
         "name": "",
         "offsetgroup": "",
         "orientation": "v",
         "showlegend": false,
         "type": "histogram",
         "x": [
          "Fearless_Tour",
          "Fearless_Tour",
          "Fearless_Tour",
          "Fearless_Tour",
          "Fearless_Tour",
          "Fearless_Tour",
          "Fearless_Tour",
          "Fearless_Tour",
          "Fearless_Tour",
          "Fearless_Tour",
          "Fearless_Tour",
          "Fearless_Tour",
          "Fearless_Tour",
          "Fearless_Tour",
          "Fearless_Tour",
          "Fearless_Tour",
          "Fearless_Tour",
          "Fearless_Tour",
          "Fearless_Tour",
          "Fearless_Tour",
          "Fearless_Tour",
          "Fearless_Tour",
          "Fearless_Tour",
          "Fearless_Tour",
          "Fearless_Tour",
          "Fearless_Tour",
          "Fearless_Tour",
          "Fearless_Tour",
          "Fearless_Tour",
          "Fearless_Tour",
          "Fearless_Tour",
          "Fearless_Tour",
          "Fearless_Tour",
          "Fearless_Tour",
          "Fearless_Tour",
          "Fearless_Tour",
          "Fearless_Tour",
          "Fearless_Tour",
          "Fearless_Tour",
          "Fearless_Tour",
          "Fearless_Tour",
          "Fearless_Tour",
          "Fearless_Tour",
          "Fearless_Tour",
          "Fearless_Tour",
          "Fearless_Tour",
          "Fearless_Tour",
          "Fearless_Tour",
          "Fearless_Tour",
          "Fearless_Tour",
          "Fearless_Tour",
          "Fearless_Tour",
          "Fearless_Tour",
          "Fearless_Tour",
          "Fearless_Tour",
          "Fearless_Tour",
          "Fearless_Tour",
          "Fearless_Tour",
          "Fearless_Tour",
          "Fearless_Tour",
          "Fearless_Tour",
          "Fearless_Tour",
          "Fearless_Tour",
          "Fearless_Tour",
          "Fearless_Tour",
          "Fearless_Tour",
          "Fearless_Tour",
          "Fearless_Tour",
          "Fearless_Tour",
          "Fearless_Tour",
          "Fearless_Tour",
          "Fearless_Tour",
          "Fearless_Tour",
          "Fearless_Tour",
          "Fearless_Tour",
          "Fearless_Tour",
          "Fearless_Tour",
          "Fearless_Tour",
          "Fearless_Tour",
          "Fearless_Tour",
          "Fearless_Tour",
          "Fearless_Tour",
          "Fearless_Tour",
          "Fearless_Tour",
          "Fearless_Tour",
          "Fearless_Tour",
          "Fearless_Tour",
          "Fearless_Tour",
          "Fearless_Tour",
          "Fearless_Tour",
          "Fearless_Tour",
          "Fearless_Tour",
          "Fearless_Tour",
          "Fearless_Tour",
          "Fearless_Tour",
          "Fearless_Tour",
          "Fearless_Tour",
          "Fearless_Tour",
          "Fearless_Tour",
          "Fearless_Tour",
          "Fearless_Tour",
          "Fearless_Tour",
          "Fearless_Tour",
          "Fearless_Tour",
          "Fearless_Tour",
          "Fearless_Tour",
          "Fearless_Tour",
          "Fearless_Tour",
          "Fearless_Tour",
          "Fearless_Tour",
          "Fearless_Tour",
          "Speak_Now_World_Tour",
          "Speak_Now_World_Tour",
          "Speak_Now_World_Tour",
          "Speak_Now_World_Tour",
          "Speak_Now_World_Tour",
          "Speak_Now_World_Tour",
          "Speak_Now_World_Tour",
          "Speak_Now_World_Tour",
          "Speak_Now_World_Tour",
          "Speak_Now_World_Tour",
          "Speak_Now_World_Tour",
          "Speak_Now_World_Tour",
          "Speak_Now_World_Tour",
          "Speak_Now_World_Tour",
          "Speak_Now_World_Tour",
          "Speak_Now_World_Tour",
          "Speak_Now_World_Tour",
          "Speak_Now_World_Tour",
          "Speak_Now_World_Tour",
          "Speak_Now_World_Tour",
          "Speak_Now_World_Tour",
          "Speak_Now_World_Tour",
          "Speak_Now_World_Tour",
          "Speak_Now_World_Tour",
          "Speak_Now_World_Tour",
          "Speak_Now_World_Tour",
          "Speak_Now_World_Tour",
          "Speak_Now_World_Tour",
          "Speak_Now_World_Tour",
          "Speak_Now_World_Tour",
          "Speak_Now_World_Tour",
          "Speak_Now_World_Tour",
          "Speak_Now_World_Tour",
          "Speak_Now_World_Tour",
          "Speak_Now_World_Tour",
          "Speak_Now_World_Tour",
          "Speak_Now_World_Tour",
          "Speak_Now_World_Tour",
          "Speak_Now_World_Tour",
          "Speak_Now_World_Tour",
          "Speak_Now_World_Tour",
          "Speak_Now_World_Tour",
          "Speak_Now_World_Tour",
          "Speak_Now_World_Tour",
          "Speak_Now_World_Tour",
          "Speak_Now_World_Tour",
          "Speak_Now_World_Tour",
          "Speak_Now_World_Tour",
          "Speak_Now_World_Tour",
          "Speak_Now_World_Tour",
          "Speak_Now_World_Tour",
          "Speak_Now_World_Tour",
          "Speak_Now_World_Tour",
          "Speak_Now_World_Tour",
          "Speak_Now_World_Tour",
          "Speak_Now_World_Tour",
          "Speak_Now_World_Tour",
          "Speak_Now_World_Tour",
          "Speak_Now_World_Tour",
          "Speak_Now_World_Tour",
          "Speak_Now_World_Tour",
          "Speak_Now_World_Tour",
          "Speak_Now_World_Tour",
          "Speak_Now_World_Tour",
          "Speak_Now_World_Tour",
          "Speak_Now_World_Tour",
          "Speak_Now_World_Tour",
          "Speak_Now_World_Tour",
          "Speak_Now_World_Tour",
          "Speak_Now_World_Tour",
          "Speak_Now_World_Tour",
          "Speak_Now_World_Tour",
          "Speak_Now_World_Tour",
          "Speak_Now_World_Tour",
          "Speak_Now_World_Tour",
          "Speak_Now_World_Tour",
          "Speak_Now_World_Tour",
          "Speak_Now_World_Tour",
          "Speak_Now_World_Tour",
          "Speak_Now_World_Tour",
          "Speak_Now_World_Tour",
          "Speak_Now_World_Tour",
          "Speak_Now_World_Tour",
          "Speak_Now_World_Tour",
          "Speak_Now_World_Tour",
          "Speak_Now_World_Tour",
          "Speak_Now_World_Tour",
          "Speak_Now_World_Tour",
          "Speak_Now_World_Tour",
          "Speak_Now_World_Tour",
          "Speak_Now_World_Tour",
          "Speak_Now_World_Tour",
          "Speak_Now_World_Tour",
          "Speak_Now_World_Tour",
          "Speak_Now_World_Tour",
          "Speak_Now_World_Tour",
          "Speak_Now_World_Tour",
          "Speak_Now_World_Tour",
          "Speak_Now_World_Tour",
          "Speak_Now_World_Tour",
          "Speak_Now_World_Tour",
          "Speak_Now_World_Tour",
          "Speak_Now_World_Tour",
          "Speak_Now_World_Tour",
          "Speak_Now_World_Tour",
          "Speak_Now_World_Tour",
          "Speak_Now_World_Tour",
          "Speak_Now_World_Tour",
          "Speak_Now_World_Tour",
          "Speak_Now_World_Tour",
          "The_Red_Tour",
          "The_Red_Tour",
          "The_Red_Tour",
          "The_Red_Tour",
          "The_Red_Tour",
          "The_Red_Tour",
          "The_Red_Tour",
          "The_Red_Tour",
          "The_Red_Tour",
          "The_Red_Tour",
          "The_Red_Tour",
          "The_Red_Tour",
          "The_Red_Tour",
          "The_Red_Tour",
          "The_Red_Tour",
          "The_Red_Tour",
          "The_Red_Tour",
          "The_Red_Tour",
          "The_Red_Tour",
          "The_Red_Tour",
          "The_Red_Tour",
          "The_Red_Tour",
          "The_Red_Tour",
          "The_Red_Tour",
          "The_Red_Tour",
          "The_Red_Tour",
          "The_Red_Tour",
          "The_Red_Tour",
          "The_Red_Tour",
          "The_Red_Tour",
          "The_Red_Tour",
          "The_Red_Tour",
          "The_Red_Tour",
          "The_Red_Tour",
          "The_Red_Tour",
          "The_Red_Tour",
          "The_Red_Tour",
          "The_Red_Tour",
          "The_Red_Tour",
          "The_Red_Tour",
          "The_Red_Tour",
          "The_Red_Tour",
          "The_Red_Tour",
          "The_Red_Tour",
          "The_Red_Tour",
          "The_Red_Tour",
          "The_Red_Tour",
          "The_Red_Tour",
          "The_Red_Tour",
          "The_Red_Tour",
          "The_Red_Tour",
          "The_Red_Tour",
          "The_Red_Tour",
          "The_Red_Tour",
          "The_Red_Tour",
          "The_Red_Tour",
          "The_Red_Tour",
          "The_Red_Tour",
          "The_Red_Tour",
          "The_Red_Tour",
          "The_Red_Tour",
          "The_Red_Tour",
          "The_Red_Tour",
          "The_Red_Tour",
          "The_Red_Tour",
          "The_Red_Tour",
          "The_Red_Tour",
          "The_Red_Tour",
          "The_Red_Tour",
          "The_Red_Tour",
          "The_Red_Tour",
          "The_Red_Tour",
          "The_Red_Tour",
          "The_Red_Tour",
          "The_Red_Tour",
          "The_Red_Tour",
          "The_Red_Tour",
          "The_Red_Tour",
          "The_Red_Tour",
          "The_Red_Tour",
          "The_Red_Tour",
          "The_Red_Tour",
          "The_Red_Tour",
          "The_Red_Tour",
          "The_Red_Tour",
          "The_Red_Tour",
          "The_1989_World_Tour",
          "The_1989_World_Tour",
          "The_1989_World_Tour",
          "The_1989_World_Tour",
          "The_1989_World_Tour",
          "The_1989_World_Tour",
          "The_1989_World_Tour",
          "The_1989_World_Tour",
          "The_1989_World_Tour",
          "The_1989_World_Tour",
          "The_1989_World_Tour",
          "The_1989_World_Tour",
          "The_1989_World_Tour",
          "The_1989_World_Tour",
          "The_1989_World_Tour",
          "The_1989_World_Tour",
          "The_1989_World_Tour",
          "The_1989_World_Tour",
          "The_1989_World_Tour",
          "The_1989_World_Tour",
          "The_1989_World_Tour",
          "The_1989_World_Tour",
          "The_1989_World_Tour",
          "The_1989_World_Tour",
          "The_1989_World_Tour",
          "The_1989_World_Tour",
          "The_1989_World_Tour",
          "The_1989_World_Tour",
          "The_1989_World_Tour",
          "The_1989_World_Tour",
          "The_1989_World_Tour",
          "The_1989_World_Tour",
          "The_1989_World_Tour",
          "The_1989_World_Tour",
          "The_1989_World_Tour",
          "The_1989_World_Tour",
          "The_1989_World_Tour",
          "The_1989_World_Tour",
          "The_1989_World_Tour",
          "The_1989_World_Tour",
          "The_1989_World_Tour",
          "The_1989_World_Tour",
          "The_1989_World_Tour",
          "The_1989_World_Tour",
          "The_1989_World_Tour",
          "The_1989_World_Tour",
          "The_1989_World_Tour",
          "The_1989_World_Tour",
          "The_1989_World_Tour",
          "The_1989_World_Tour",
          "The_1989_World_Tour",
          "The_1989_World_Tour",
          "The_1989_World_Tour",
          "The_1989_World_Tour",
          "The_1989_World_Tour",
          "The_1989_World_Tour",
          "The_1989_World_Tour",
          "The_1989_World_Tour",
          "The_1989_World_Tour",
          "The_1989_World_Tour",
          "The_1989_World_Tour",
          "The_1989_World_Tour",
          "The_1989_World_Tour",
          "The_1989_World_Tour",
          "The_1989_World_Tour",
          "The_1989_World_Tour",
          "The_1989_World_Tour",
          "The_1989_World_Tour",
          "The_1989_World_Tour",
          "The_1989_World_Tour",
          "The_1989_World_Tour",
          "The_1989_World_Tour",
          "The_1989_World_Tour",
          "The_1989_World_Tour",
          "The_1989_World_Tour",
          "The_1989_World_Tour",
          "The_1989_World_Tour",
          "The_1989_World_Tour",
          "The_1989_World_Tour",
          "The_1989_World_Tour",
          "The_1989_World_Tour",
          "The_1989_World_Tour",
          "The_1989_World_Tour",
          "The_1989_World_Tour",
          "The_1989_World_Tour",
          "Reputation_Stadium_Tour",
          "Reputation_Stadium_Tour",
          "Reputation_Stadium_Tour",
          "Reputation_Stadium_Tour",
          "Reputation_Stadium_Tour",
          "Reputation_Stadium_Tour",
          "Reputation_Stadium_Tour",
          "Reputation_Stadium_Tour",
          "Reputation_Stadium_Tour",
          "Reputation_Stadium_Tour",
          "Reputation_Stadium_Tour",
          "Reputation_Stadium_Tour",
          "Reputation_Stadium_Tour",
          "Reputation_Stadium_Tour",
          "Reputation_Stadium_Tour",
          "Reputation_Stadium_Tour",
          "Reputation_Stadium_Tour",
          "Reputation_Stadium_Tour",
          "Reputation_Stadium_Tour",
          "Reputation_Stadium_Tour",
          "Reputation_Stadium_Tour",
          "Reputation_Stadium_Tour",
          "Reputation_Stadium_Tour",
          "Reputation_Stadium_Tour",
          "Reputation_Stadium_Tour",
          "Reputation_Stadium_Tour",
          "Reputation_Stadium_Tour",
          "Reputation_Stadium_Tour",
          "Reputation_Stadium_Tour",
          "Reputation_Stadium_Tour",
          "Reputation_Stadium_Tour",
          "Reputation_Stadium_Tour",
          "Reputation_Stadium_Tour",
          "Reputation_Stadium_Tour",
          "Reputation_Stadium_Tour",
          "Reputation_Stadium_Tour",
          "Reputation_Stadium_Tour",
          "Reputation_Stadium_Tour",
          "Reputation_Stadium_Tour",
          "Reputation_Stadium_Tour",
          "Reputation_Stadium_Tour",
          "Reputation_Stadium_Tour",
          "Reputation_Stadium_Tour",
          "Reputation_Stadium_Tour",
          "Reputation_Stadium_Tour",
          "Reputation_Stadium_Tour",
          "Reputation_Stadium_Tour",
          "Reputation_Stadium_Tour",
          "Reputation_Stadium_Tour",
          "Reputation_Stadium_Tour",
          "Reputation_Stadium_Tour",
          "Reputation_Stadium_Tour",
          "Reputation_Stadium_Tour"
         ],
         "xaxis": "x",
         "yaxis": "y"
        }
       ],
       "layout": {
        "barmode": "relative",
        "legend": {
         "tracegroupgap": 0
        },
        "margin": {
         "t": 60
        },
        "template": {
         "data": {
          "bar": [
           {
            "error_x": {
             "color": "#2a3f5f"
            },
            "error_y": {
             "color": "#2a3f5f"
            },
            "marker": {
             "line": {
              "color": "#E5ECF6",
              "width": 0.5
             },
             "pattern": {
              "fillmode": "overlay",
              "size": 10,
              "solidity": 0.2
             }
            },
            "type": "bar"
           }
          ],
          "barpolar": [
           {
            "marker": {
             "line": {
              "color": "#E5ECF6",
              "width": 0.5
             },
             "pattern": {
              "fillmode": "overlay",
              "size": 10,
              "solidity": 0.2
             }
            },
            "type": "barpolar"
           }
          ],
          "carpet": [
           {
            "aaxis": {
             "endlinecolor": "#2a3f5f",
             "gridcolor": "white",
             "linecolor": "white",
             "minorgridcolor": "white",
             "startlinecolor": "#2a3f5f"
            },
            "baxis": {
             "endlinecolor": "#2a3f5f",
             "gridcolor": "white",
             "linecolor": "white",
             "minorgridcolor": "white",
             "startlinecolor": "#2a3f5f"
            },
            "type": "carpet"
           }
          ],
          "choropleth": [
           {
            "colorbar": {
             "outlinewidth": 0,
             "ticks": ""
            },
            "type": "choropleth"
           }
          ],
          "contour": [
           {
            "colorbar": {
             "outlinewidth": 0,
             "ticks": ""
            },
            "colorscale": [
             [
              0,
              "#0d0887"
             ],
             [
              0.1111111111111111,
              "#46039f"
             ],
             [
              0.2222222222222222,
              "#7201a8"
             ],
             [
              0.3333333333333333,
              "#9c179e"
             ],
             [
              0.4444444444444444,
              "#bd3786"
             ],
             [
              0.5555555555555556,
              "#d8576b"
             ],
             [
              0.6666666666666666,
              "#ed7953"
             ],
             [
              0.7777777777777778,
              "#fb9f3a"
             ],
             [
              0.8888888888888888,
              "#fdca26"
             ],
             [
              1,
              "#f0f921"
             ]
            ],
            "type": "contour"
           }
          ],
          "contourcarpet": [
           {
            "colorbar": {
             "outlinewidth": 0,
             "ticks": ""
            },
            "type": "contourcarpet"
           }
          ],
          "heatmap": [
           {
            "colorbar": {
             "outlinewidth": 0,
             "ticks": ""
            },
            "colorscale": [
             [
              0,
              "#0d0887"
             ],
             [
              0.1111111111111111,
              "#46039f"
             ],
             [
              0.2222222222222222,
              "#7201a8"
             ],
             [
              0.3333333333333333,
              "#9c179e"
             ],
             [
              0.4444444444444444,
              "#bd3786"
             ],
             [
              0.5555555555555556,
              "#d8576b"
             ],
             [
              0.6666666666666666,
              "#ed7953"
             ],
             [
              0.7777777777777778,
              "#fb9f3a"
             ],
             [
              0.8888888888888888,
              "#fdca26"
             ],
             [
              1,
              "#f0f921"
             ]
            ],
            "type": "heatmap"
           }
          ],
          "heatmapgl": [
           {
            "colorbar": {
             "outlinewidth": 0,
             "ticks": ""
            },
            "colorscale": [
             [
              0,
              "#0d0887"
             ],
             [
              0.1111111111111111,
              "#46039f"
             ],
             [
              0.2222222222222222,
              "#7201a8"
             ],
             [
              0.3333333333333333,
              "#9c179e"
             ],
             [
              0.4444444444444444,
              "#bd3786"
             ],
             [
              0.5555555555555556,
              "#d8576b"
             ],
             [
              0.6666666666666666,
              "#ed7953"
             ],
             [
              0.7777777777777778,
              "#fb9f3a"
             ],
             [
              0.8888888888888888,
              "#fdca26"
             ],
             [
              1,
              "#f0f921"
             ]
            ],
            "type": "heatmapgl"
           }
          ],
          "histogram": [
           {
            "marker": {
             "pattern": {
              "fillmode": "overlay",
              "size": 10,
              "solidity": 0.2
             }
            },
            "type": "histogram"
           }
          ],
          "histogram2d": [
           {
            "colorbar": {
             "outlinewidth": 0,
             "ticks": ""
            },
            "colorscale": [
             [
              0,
              "#0d0887"
             ],
             [
              0.1111111111111111,
              "#46039f"
             ],
             [
              0.2222222222222222,
              "#7201a8"
             ],
             [
              0.3333333333333333,
              "#9c179e"
             ],
             [
              0.4444444444444444,
              "#bd3786"
             ],
             [
              0.5555555555555556,
              "#d8576b"
             ],
             [
              0.6666666666666666,
              "#ed7953"
             ],
             [
              0.7777777777777778,
              "#fb9f3a"
             ],
             [
              0.8888888888888888,
              "#fdca26"
             ],
             [
              1,
              "#f0f921"
             ]
            ],
            "type": "histogram2d"
           }
          ],
          "histogram2dcontour": [
           {
            "colorbar": {
             "outlinewidth": 0,
             "ticks": ""
            },
            "colorscale": [
             [
              0,
              "#0d0887"
             ],
             [
              0.1111111111111111,
              "#46039f"
             ],
             [
              0.2222222222222222,
              "#7201a8"
             ],
             [
              0.3333333333333333,
              "#9c179e"
             ],
             [
              0.4444444444444444,
              "#bd3786"
             ],
             [
              0.5555555555555556,
              "#d8576b"
             ],
             [
              0.6666666666666666,
              "#ed7953"
             ],
             [
              0.7777777777777778,
              "#fb9f3a"
             ],
             [
              0.8888888888888888,
              "#fdca26"
             ],
             [
              1,
              "#f0f921"
             ]
            ],
            "type": "histogram2dcontour"
           }
          ],
          "mesh3d": [
           {
            "colorbar": {
             "outlinewidth": 0,
             "ticks": ""
            },
            "type": "mesh3d"
           }
          ],
          "parcoords": [
           {
            "line": {
             "colorbar": {
              "outlinewidth": 0,
              "ticks": ""
             }
            },
            "type": "parcoords"
           }
          ],
          "pie": [
           {
            "automargin": true,
            "type": "pie"
           }
          ],
          "scatter": [
           {
            "fillpattern": {
             "fillmode": "overlay",
             "size": 10,
             "solidity": 0.2
            },
            "type": "scatter"
           }
          ],
          "scatter3d": [
           {
            "line": {
             "colorbar": {
              "outlinewidth": 0,
              "ticks": ""
             }
            },
            "marker": {
             "colorbar": {
              "outlinewidth": 0,
              "ticks": ""
             }
            },
            "type": "scatter3d"
           }
          ],
          "scattercarpet": [
           {
            "marker": {
             "colorbar": {
              "outlinewidth": 0,
              "ticks": ""
             }
            },
            "type": "scattercarpet"
           }
          ],
          "scattergeo": [
           {
            "marker": {
             "colorbar": {
              "outlinewidth": 0,
              "ticks": ""
             }
            },
            "type": "scattergeo"
           }
          ],
          "scattergl": [
           {
            "marker": {
             "colorbar": {
              "outlinewidth": 0,
              "ticks": ""
             }
            },
            "type": "scattergl"
           }
          ],
          "scattermapbox": [
           {
            "marker": {
             "colorbar": {
              "outlinewidth": 0,
              "ticks": ""
             }
            },
            "type": "scattermapbox"
           }
          ],
          "scatterpolar": [
           {
            "marker": {
             "colorbar": {
              "outlinewidth": 0,
              "ticks": ""
             }
            },
            "type": "scatterpolar"
           }
          ],
          "scatterpolargl": [
           {
            "marker": {
             "colorbar": {
              "outlinewidth": 0,
              "ticks": ""
             }
            },
            "type": "scatterpolargl"
           }
          ],
          "scatterternary": [
           {
            "marker": {
             "colorbar": {
              "outlinewidth": 0,
              "ticks": ""
             }
            },
            "type": "scatterternary"
           }
          ],
          "surface": [
           {
            "colorbar": {
             "outlinewidth": 0,
             "ticks": ""
            },
            "colorscale": [
             [
              0,
              "#0d0887"
             ],
             [
              0.1111111111111111,
              "#46039f"
             ],
             [
              0.2222222222222222,
              "#7201a8"
             ],
             [
              0.3333333333333333,
              "#9c179e"
             ],
             [
              0.4444444444444444,
              "#bd3786"
             ],
             [
              0.5555555555555556,
              "#d8576b"
             ],
             [
              0.6666666666666666,
              "#ed7953"
             ],
             [
              0.7777777777777778,
              "#fb9f3a"
             ],
             [
              0.8888888888888888,
              "#fdca26"
             ],
             [
              1,
              "#f0f921"
             ]
            ],
            "type": "surface"
           }
          ],
          "table": [
           {
            "cells": {
             "fill": {
              "color": "#EBF0F8"
             },
             "line": {
              "color": "white"
             }
            },
            "header": {
             "fill": {
              "color": "#C8D4E3"
             },
             "line": {
              "color": "white"
             }
            },
            "type": "table"
           }
          ]
         },
         "layout": {
          "annotationdefaults": {
           "arrowcolor": "#2a3f5f",
           "arrowhead": 0,
           "arrowwidth": 1
          },
          "autotypenumbers": "strict",
          "coloraxis": {
           "colorbar": {
            "outlinewidth": 0,
            "ticks": ""
           }
          },
          "colorscale": {
           "diverging": [
            [
             0,
             "#8e0152"
            ],
            [
             0.1,
             "#c51b7d"
            ],
            [
             0.2,
             "#de77ae"
            ],
            [
             0.3,
             "#f1b6da"
            ],
            [
             0.4,
             "#fde0ef"
            ],
            [
             0.5,
             "#f7f7f7"
            ],
            [
             0.6,
             "#e6f5d0"
            ],
            [
             0.7,
             "#b8e186"
            ],
            [
             0.8,
             "#7fbc41"
            ],
            [
             0.9,
             "#4d9221"
            ],
            [
             1,
             "#276419"
            ]
           ],
           "sequential": [
            [
             0,
             "#0d0887"
            ],
            [
             0.1111111111111111,
             "#46039f"
            ],
            [
             0.2222222222222222,
             "#7201a8"
            ],
            [
             0.3333333333333333,
             "#9c179e"
            ],
            [
             0.4444444444444444,
             "#bd3786"
            ],
            [
             0.5555555555555556,
             "#d8576b"
            ],
            [
             0.6666666666666666,
             "#ed7953"
            ],
            [
             0.7777777777777778,
             "#fb9f3a"
            ],
            [
             0.8888888888888888,
             "#fdca26"
            ],
            [
             1,
             "#f0f921"
            ]
           ],
           "sequentialminus": [
            [
             0,
             "#0d0887"
            ],
            [
             0.1111111111111111,
             "#46039f"
            ],
            [
             0.2222222222222222,
             "#7201a8"
            ],
            [
             0.3333333333333333,
             "#9c179e"
            ],
            [
             0.4444444444444444,
             "#bd3786"
            ],
            [
             0.5555555555555556,
             "#d8576b"
            ],
            [
             0.6666666666666666,
             "#ed7953"
            ],
            [
             0.7777777777777778,
             "#fb9f3a"
            ],
            [
             0.8888888888888888,
             "#fdca26"
            ],
            [
             1,
             "#f0f921"
            ]
           ]
          },
          "colorway": [
           "#636efa",
           "#EF553B",
           "#00cc96",
           "#ab63fa",
           "#FFA15A",
           "#19d3f3",
           "#FF6692",
           "#B6E880",
           "#FF97FF",
           "#FECB52"
          ],
          "font": {
           "color": "#2a3f5f"
          },
          "geo": {
           "bgcolor": "white",
           "lakecolor": "white",
           "landcolor": "#E5ECF6",
           "showlakes": true,
           "showland": true,
           "subunitcolor": "white"
          },
          "hoverlabel": {
           "align": "left"
          },
          "hovermode": "closest",
          "mapbox": {
           "style": "light"
          },
          "paper_bgcolor": "white",
          "plot_bgcolor": "#E5ECF6",
          "polar": {
           "angularaxis": {
            "gridcolor": "white",
            "linecolor": "white",
            "ticks": ""
           },
           "bgcolor": "#E5ECF6",
           "radialaxis": {
            "gridcolor": "white",
            "linecolor": "white",
            "ticks": ""
           }
          },
          "scene": {
           "xaxis": {
            "backgroundcolor": "#E5ECF6",
            "gridcolor": "white",
            "gridwidth": 2,
            "linecolor": "white",
            "showbackground": true,
            "ticks": "",
            "zerolinecolor": "white"
           },
           "yaxis": {
            "backgroundcolor": "#E5ECF6",
            "gridcolor": "white",
            "gridwidth": 2,
            "linecolor": "white",
            "showbackground": true,
            "ticks": "",
            "zerolinecolor": "white"
           },
           "zaxis": {
            "backgroundcolor": "#E5ECF6",
            "gridcolor": "white",
            "gridwidth": 2,
            "linecolor": "white",
            "showbackground": true,
            "ticks": "",
            "zerolinecolor": "white"
           }
          },
          "shapedefaults": {
           "line": {
            "color": "#2a3f5f"
           }
          },
          "ternary": {
           "aaxis": {
            "gridcolor": "white",
            "linecolor": "white",
            "ticks": ""
           },
           "baxis": {
            "gridcolor": "white",
            "linecolor": "white",
            "ticks": ""
           },
           "bgcolor": "#E5ECF6",
           "caxis": {
            "gridcolor": "white",
            "linecolor": "white",
            "ticks": ""
           }
          },
          "title": {
           "x": 0.05
          },
          "xaxis": {
           "automargin": true,
           "gridcolor": "white",
           "linecolor": "white",
           "ticks": "",
           "title": {
            "standoff": 15
           },
           "zerolinecolor": "white",
           "zerolinewidth": 2
          },
          "yaxis": {
           "automargin": true,
           "gridcolor": "white",
           "linecolor": "white",
           "ticks": "",
           "title": {
            "standoff": 15
           },
           "zerolinecolor": "white",
           "zerolinewidth": 2
          }
         }
        },
        "xaxis": {
         "anchor": "y",
         "domain": [
          0,
          1
         ],
         "title": {
          "text": "tour"
         }
        },
        "yaxis": {
         "anchor": "x",
         "domain": [
          0,
          1
         ],
         "title": {
          "text": "count"
         }
        }
       }
      }
     },
     "metadata": {},
     "output_type": "display_data"
    },
    {
     "data": {
      "application/vnd.plotly.v1+json": {
       "config": {
        "plotlyServerURL": "https://plot.ly"
       },
       "data": [
        {
         "alignmentgroup": "True",
         "bingroup": "x",
         "hovertemplate": "tick_sold=%{x}<br>count=%{y}<extra></extra>",
         "legendgroup": "",
         "marker": {
          "color": "#636efa",
          "pattern": {
           "shape": ""
          }
         },
         "name": "",
         "offsetgroup": "",
         "orientation": "v",
         "showlegend": false,
         "type": "histogram",
         "x": [
          7463,
          7822,
          13764,
          38954.90417690418,
          8751,
          11072,
          9436,
          6789,
          6789,
          10798,
          12061,
          13226,
          8970,
          13052,
          13648,
          8311,
          10174,
          13042,
          38954.90417690418,
          17619,
          14641,
          38954.90417690418,
          38954.90417690418,
          38954.90417690418,
          33910,
          38954.90417690418,
          11369,
          38954.90417690418,
          38954.90417690418,
          38954.90417690418,
          38954.90417690418,
          38954.90417690418,
          38954.90417690418,
          38954.90417690418,
          38954.90417690418,
          38954.90417690418,
          38954.90417690418,
          38954.90417690418,
          13597,
          7507,
          38954.90417690418,
          38954.90417690418,
          38954.90417690418,
          38954.90417690418,
          38954.90417690418,
          38954.90417690418,
          38954.90417690418,
          38954.90417690418,
          14269,
          13794,
          13978,
          38954.90417690418,
          38954.90417690418,
          38954.90417690418,
          15524,
          13373,
          26265,
          26265,
          13563,
          38954.90417690418,
          38954.90417690418,
          11334,
          27030,
          27030,
          7180,
          23493,
          23493,
          9066,
          38954.90417690418,
          13861,
          11101,
          13453,
          11928,
          14022,
          8423,
          30360,
          30360,
          11858,
          29125,
          29125,
          11208,
          11795,
          11208,
          13781,
          25991,
          25991,
          11706,
          12744,
          27518,
          27518,
          17966,
          13429,
          13895,
          13264,
          14914,
          10641,
          26065,
          26065,
          25831,
          25831,
          13376,
          30458,
          30458,
          23493,
          23493,
          38954.90417690418,
          27290,
          27290,
          56868,
          38954.90417690418,
          35000,
          8964,
          4725,
          6953,
          15955,
          15955,
          12667,
          12573,
          4622,
          4799,
          8650,
          6082,
          3421,
          3598,
          3962,
          9339,
          8058,
          8681,
          10488,
          15265,
          26992,
          26992,
          13149,
          24077,
          24077,
          12262,
          14817,
          13748,
          47992,
          28977,
          28977,
          52009,
          14487,
          12436,
          110800,
          110800,
          14789,
          13754,
          13439,
          30144,
          30144,
          51487,
          51487,
          51487,
          51487,
          11012,
          13329,
          14873,
          29303,
          29303,
          51395,
          26112,
          26112,
          27965,
          27965,
          25336,
          25336,
          54900,
          54900,
          54900,
          54900,
          24827,
          24827,
          12432,
          13610,
          19904,
          26030,
          26030,
          28178,
          28178,
          11510,
          12546,
          48562,
          12908,
          13720,
          26244,
          26244,
          13566,
          12943,
          55451,
          14848,
          10419,
          11592,
          10834,
          27029,
          27029,
          13851,
          11999,
          16237,
          12604,
          42095,
          11785,
          13695,
          12153,
          14272,
          13567,
          12807,
          26652,
          26652,
          15142,
          8589,
          19870,
          19870,
          27900,
          27900,
          33793,
          33793,
          33793,
          32585,
          32585,
          32585,
          27877,
          27877,
          28582,
          28582,
          14686,
          12490,
          38065,
          38065,
          38065,
          12808,
          25617,
          25617,
          25471,
          25471,
          14080,
          15336,
          13573,
          17003,
          48265,
          15135,
          14267,
          27619,
          27619,
          12467,
          11916,
          13974,
          53020,
          26705,
          26705,
          14007,
          13489,
          87627,
          87627,
          33061,
          25663,
          25663,
          41142,
          56047,
          52399,
          101277,
          101277,
          110712,
          110712,
          13368,
          26412,
          26412,
          12231,
          10949,
          50809,
          10872,
          55829,
          55829,
          55829,
          55829,
          12795,
          13952,
          20348,
          21073,
          28920,
          28920,
          13650,
          13941,
          12689,
          41292,
          41292,
          41292,
          30799,
          30799,
          30799,
          40930,
          38907,
          21827,
          47257,
          74740,
          74740,
          74740,
          10350,
          38954.90417690418,
          38954.90417690418,
          12793,
          20046,
          8130,
          9775,
          16344,
          7525,
          38954.90417690418,
          100320,
          100320,
          38954.90417690418,
          12459,
          50227,
          50703,
          16242,
          15503,
          54801,
          15024,
          13886,
          101052,
          101052,
          29020,
          29020,
          11166,
          11021,
          14773,
          38954.90417690418,
          25188,
          25188,
          13480,
          14770,
          110105,
          110105,
          85014,
          85014,
          110109,
          110109,
          116849,
          116849,
          41463,
          26534,
          26534,
          55711,
          102139,
          102139,
          26520,
          26520,
          70563,
          70563,
          70563,
          70563,
          70563,
          44710,
          14131,
          27126,
          27126,
          40122,
          45126,
          45126,
          45126,
          14010,
          29936,
          29936,
          27857,
          27857,
          28917,
          28917,
          29688,
          29688,
          99283,
          99283,
          13969,
          29622,
          29622,
          21067,
          62630,
          17084,
          15079,
          56046,
          14044,
          56987,
          17726,
          17726,
          37758,
          37758,
          37758,
          75980,
          46881,
          20090,
          20090,
          98136,
          98136,
          98136,
          59157,
          107550,
          107550,
          118084,
          118084,
          56021,
          57140,
          105208,
          105208,
          77258,
          77258,
          133034,
          133034,
          143427,
          143427,
          52138,
          62897,
          95672,
          95672,
          107378,
          107378,
          51323,
          165654,
          165654,
          165654,
          174764,
          174764,
          174764,
          100310,
          100310,
          56445,
          116746,
          116746,
          55909,
          47818,
          56112,
          49464,
          98774,
          98774,
          58611,
          55729,
          47831,
          53172,
          53800,
          105002,
          105002,
          50891,
          63027,
          72805,
          43907,
          35749,
          100109,
          100109
         ],
         "xaxis": "x",
         "yaxis": "y"
        }
       ],
       "layout": {
        "barmode": "relative",
        "legend": {
         "tracegroupgap": 0
        },
        "margin": {
         "t": 60
        },
        "template": {
         "data": {
          "bar": [
           {
            "error_x": {
             "color": "#2a3f5f"
            },
            "error_y": {
             "color": "#2a3f5f"
            },
            "marker": {
             "line": {
              "color": "#E5ECF6",
              "width": 0.5
             },
             "pattern": {
              "fillmode": "overlay",
              "size": 10,
              "solidity": 0.2
             }
            },
            "type": "bar"
           }
          ],
          "barpolar": [
           {
            "marker": {
             "line": {
              "color": "#E5ECF6",
              "width": 0.5
             },
             "pattern": {
              "fillmode": "overlay",
              "size": 10,
              "solidity": 0.2
             }
            },
            "type": "barpolar"
           }
          ],
          "carpet": [
           {
            "aaxis": {
             "endlinecolor": "#2a3f5f",
             "gridcolor": "white",
             "linecolor": "white",
             "minorgridcolor": "white",
             "startlinecolor": "#2a3f5f"
            },
            "baxis": {
             "endlinecolor": "#2a3f5f",
             "gridcolor": "white",
             "linecolor": "white",
             "minorgridcolor": "white",
             "startlinecolor": "#2a3f5f"
            },
            "type": "carpet"
           }
          ],
          "choropleth": [
           {
            "colorbar": {
             "outlinewidth": 0,
             "ticks": ""
            },
            "type": "choropleth"
           }
          ],
          "contour": [
           {
            "colorbar": {
             "outlinewidth": 0,
             "ticks": ""
            },
            "colorscale": [
             [
              0,
              "#0d0887"
             ],
             [
              0.1111111111111111,
              "#46039f"
             ],
             [
              0.2222222222222222,
              "#7201a8"
             ],
             [
              0.3333333333333333,
              "#9c179e"
             ],
             [
              0.4444444444444444,
              "#bd3786"
             ],
             [
              0.5555555555555556,
              "#d8576b"
             ],
             [
              0.6666666666666666,
              "#ed7953"
             ],
             [
              0.7777777777777778,
              "#fb9f3a"
             ],
             [
              0.8888888888888888,
              "#fdca26"
             ],
             [
              1,
              "#f0f921"
             ]
            ],
            "type": "contour"
           }
          ],
          "contourcarpet": [
           {
            "colorbar": {
             "outlinewidth": 0,
             "ticks": ""
            },
            "type": "contourcarpet"
           }
          ],
          "heatmap": [
           {
            "colorbar": {
             "outlinewidth": 0,
             "ticks": ""
            },
            "colorscale": [
             [
              0,
              "#0d0887"
             ],
             [
              0.1111111111111111,
              "#46039f"
             ],
             [
              0.2222222222222222,
              "#7201a8"
             ],
             [
              0.3333333333333333,
              "#9c179e"
             ],
             [
              0.4444444444444444,
              "#bd3786"
             ],
             [
              0.5555555555555556,
              "#d8576b"
             ],
             [
              0.6666666666666666,
              "#ed7953"
             ],
             [
              0.7777777777777778,
              "#fb9f3a"
             ],
             [
              0.8888888888888888,
              "#fdca26"
             ],
             [
              1,
              "#f0f921"
             ]
            ],
            "type": "heatmap"
           }
          ],
          "heatmapgl": [
           {
            "colorbar": {
             "outlinewidth": 0,
             "ticks": ""
            },
            "colorscale": [
             [
              0,
              "#0d0887"
             ],
             [
              0.1111111111111111,
              "#46039f"
             ],
             [
              0.2222222222222222,
              "#7201a8"
             ],
             [
              0.3333333333333333,
              "#9c179e"
             ],
             [
              0.4444444444444444,
              "#bd3786"
             ],
             [
              0.5555555555555556,
              "#d8576b"
             ],
             [
              0.6666666666666666,
              "#ed7953"
             ],
             [
              0.7777777777777778,
              "#fb9f3a"
             ],
             [
              0.8888888888888888,
              "#fdca26"
             ],
             [
              1,
              "#f0f921"
             ]
            ],
            "type": "heatmapgl"
           }
          ],
          "histogram": [
           {
            "marker": {
             "pattern": {
              "fillmode": "overlay",
              "size": 10,
              "solidity": 0.2
             }
            },
            "type": "histogram"
           }
          ],
          "histogram2d": [
           {
            "colorbar": {
             "outlinewidth": 0,
             "ticks": ""
            },
            "colorscale": [
             [
              0,
              "#0d0887"
             ],
             [
              0.1111111111111111,
              "#46039f"
             ],
             [
              0.2222222222222222,
              "#7201a8"
             ],
             [
              0.3333333333333333,
              "#9c179e"
             ],
             [
              0.4444444444444444,
              "#bd3786"
             ],
             [
              0.5555555555555556,
              "#d8576b"
             ],
             [
              0.6666666666666666,
              "#ed7953"
             ],
             [
              0.7777777777777778,
              "#fb9f3a"
             ],
             [
              0.8888888888888888,
              "#fdca26"
             ],
             [
              1,
              "#f0f921"
             ]
            ],
            "type": "histogram2d"
           }
          ],
          "histogram2dcontour": [
           {
            "colorbar": {
             "outlinewidth": 0,
             "ticks": ""
            },
            "colorscale": [
             [
              0,
              "#0d0887"
             ],
             [
              0.1111111111111111,
              "#46039f"
             ],
             [
              0.2222222222222222,
              "#7201a8"
             ],
             [
              0.3333333333333333,
              "#9c179e"
             ],
             [
              0.4444444444444444,
              "#bd3786"
             ],
             [
              0.5555555555555556,
              "#d8576b"
             ],
             [
              0.6666666666666666,
              "#ed7953"
             ],
             [
              0.7777777777777778,
              "#fb9f3a"
             ],
             [
              0.8888888888888888,
              "#fdca26"
             ],
             [
              1,
              "#f0f921"
             ]
            ],
            "type": "histogram2dcontour"
           }
          ],
          "mesh3d": [
           {
            "colorbar": {
             "outlinewidth": 0,
             "ticks": ""
            },
            "type": "mesh3d"
           }
          ],
          "parcoords": [
           {
            "line": {
             "colorbar": {
              "outlinewidth": 0,
              "ticks": ""
             }
            },
            "type": "parcoords"
           }
          ],
          "pie": [
           {
            "automargin": true,
            "type": "pie"
           }
          ],
          "scatter": [
           {
            "fillpattern": {
             "fillmode": "overlay",
             "size": 10,
             "solidity": 0.2
            },
            "type": "scatter"
           }
          ],
          "scatter3d": [
           {
            "line": {
             "colorbar": {
              "outlinewidth": 0,
              "ticks": ""
             }
            },
            "marker": {
             "colorbar": {
              "outlinewidth": 0,
              "ticks": ""
             }
            },
            "type": "scatter3d"
           }
          ],
          "scattercarpet": [
           {
            "marker": {
             "colorbar": {
              "outlinewidth": 0,
              "ticks": ""
             }
            },
            "type": "scattercarpet"
           }
          ],
          "scattergeo": [
           {
            "marker": {
             "colorbar": {
              "outlinewidth": 0,
              "ticks": ""
             }
            },
            "type": "scattergeo"
           }
          ],
          "scattergl": [
           {
            "marker": {
             "colorbar": {
              "outlinewidth": 0,
              "ticks": ""
             }
            },
            "type": "scattergl"
           }
          ],
          "scattermapbox": [
           {
            "marker": {
             "colorbar": {
              "outlinewidth": 0,
              "ticks": ""
             }
            },
            "type": "scattermapbox"
           }
          ],
          "scatterpolar": [
           {
            "marker": {
             "colorbar": {
              "outlinewidth": 0,
              "ticks": ""
             }
            },
            "type": "scatterpolar"
           }
          ],
          "scatterpolargl": [
           {
            "marker": {
             "colorbar": {
              "outlinewidth": 0,
              "ticks": ""
             }
            },
            "type": "scatterpolargl"
           }
          ],
          "scatterternary": [
           {
            "marker": {
             "colorbar": {
              "outlinewidth": 0,
              "ticks": ""
             }
            },
            "type": "scatterternary"
           }
          ],
          "surface": [
           {
            "colorbar": {
             "outlinewidth": 0,
             "ticks": ""
            },
            "colorscale": [
             [
              0,
              "#0d0887"
             ],
             [
              0.1111111111111111,
              "#46039f"
             ],
             [
              0.2222222222222222,
              "#7201a8"
             ],
             [
              0.3333333333333333,
              "#9c179e"
             ],
             [
              0.4444444444444444,
              "#bd3786"
             ],
             [
              0.5555555555555556,
              "#d8576b"
             ],
             [
              0.6666666666666666,
              "#ed7953"
             ],
             [
              0.7777777777777778,
              "#fb9f3a"
             ],
             [
              0.8888888888888888,
              "#fdca26"
             ],
             [
              1,
              "#f0f921"
             ]
            ],
            "type": "surface"
           }
          ],
          "table": [
           {
            "cells": {
             "fill": {
              "color": "#EBF0F8"
             },
             "line": {
              "color": "white"
             }
            },
            "header": {
             "fill": {
              "color": "#C8D4E3"
             },
             "line": {
              "color": "white"
             }
            },
            "type": "table"
           }
          ]
         },
         "layout": {
          "annotationdefaults": {
           "arrowcolor": "#2a3f5f",
           "arrowhead": 0,
           "arrowwidth": 1
          },
          "autotypenumbers": "strict",
          "coloraxis": {
           "colorbar": {
            "outlinewidth": 0,
            "ticks": ""
           }
          },
          "colorscale": {
           "diverging": [
            [
             0,
             "#8e0152"
            ],
            [
             0.1,
             "#c51b7d"
            ],
            [
             0.2,
             "#de77ae"
            ],
            [
             0.3,
             "#f1b6da"
            ],
            [
             0.4,
             "#fde0ef"
            ],
            [
             0.5,
             "#f7f7f7"
            ],
            [
             0.6,
             "#e6f5d0"
            ],
            [
             0.7,
             "#b8e186"
            ],
            [
             0.8,
             "#7fbc41"
            ],
            [
             0.9,
             "#4d9221"
            ],
            [
             1,
             "#276419"
            ]
           ],
           "sequential": [
            [
             0,
             "#0d0887"
            ],
            [
             0.1111111111111111,
             "#46039f"
            ],
            [
             0.2222222222222222,
             "#7201a8"
            ],
            [
             0.3333333333333333,
             "#9c179e"
            ],
            [
             0.4444444444444444,
             "#bd3786"
            ],
            [
             0.5555555555555556,
             "#d8576b"
            ],
            [
             0.6666666666666666,
             "#ed7953"
            ],
            [
             0.7777777777777778,
             "#fb9f3a"
            ],
            [
             0.8888888888888888,
             "#fdca26"
            ],
            [
             1,
             "#f0f921"
            ]
           ],
           "sequentialminus": [
            [
             0,
             "#0d0887"
            ],
            [
             0.1111111111111111,
             "#46039f"
            ],
            [
             0.2222222222222222,
             "#7201a8"
            ],
            [
             0.3333333333333333,
             "#9c179e"
            ],
            [
             0.4444444444444444,
             "#bd3786"
            ],
            [
             0.5555555555555556,
             "#d8576b"
            ],
            [
             0.6666666666666666,
             "#ed7953"
            ],
            [
             0.7777777777777778,
             "#fb9f3a"
            ],
            [
             0.8888888888888888,
             "#fdca26"
            ],
            [
             1,
             "#f0f921"
            ]
           ]
          },
          "colorway": [
           "#636efa",
           "#EF553B",
           "#00cc96",
           "#ab63fa",
           "#FFA15A",
           "#19d3f3",
           "#FF6692",
           "#B6E880",
           "#FF97FF",
           "#FECB52"
          ],
          "font": {
           "color": "#2a3f5f"
          },
          "geo": {
           "bgcolor": "white",
           "lakecolor": "white",
           "landcolor": "#E5ECF6",
           "showlakes": true,
           "showland": true,
           "subunitcolor": "white"
          },
          "hoverlabel": {
           "align": "left"
          },
          "hovermode": "closest",
          "mapbox": {
           "style": "light"
          },
          "paper_bgcolor": "white",
          "plot_bgcolor": "#E5ECF6",
          "polar": {
           "angularaxis": {
            "gridcolor": "white",
            "linecolor": "white",
            "ticks": ""
           },
           "bgcolor": "#E5ECF6",
           "radialaxis": {
            "gridcolor": "white",
            "linecolor": "white",
            "ticks": ""
           }
          },
          "scene": {
           "xaxis": {
            "backgroundcolor": "#E5ECF6",
            "gridcolor": "white",
            "gridwidth": 2,
            "linecolor": "white",
            "showbackground": true,
            "ticks": "",
            "zerolinecolor": "white"
           },
           "yaxis": {
            "backgroundcolor": "#E5ECF6",
            "gridcolor": "white",
            "gridwidth": 2,
            "linecolor": "white",
            "showbackground": true,
            "ticks": "",
            "zerolinecolor": "white"
           },
           "zaxis": {
            "backgroundcolor": "#E5ECF6",
            "gridcolor": "white",
            "gridwidth": 2,
            "linecolor": "white",
            "showbackground": true,
            "ticks": "",
            "zerolinecolor": "white"
           }
          },
          "shapedefaults": {
           "line": {
            "color": "#2a3f5f"
           }
          },
          "ternary": {
           "aaxis": {
            "gridcolor": "white",
            "linecolor": "white",
            "ticks": ""
           },
           "baxis": {
            "gridcolor": "white",
            "linecolor": "white",
            "ticks": ""
           },
           "bgcolor": "#E5ECF6",
           "caxis": {
            "gridcolor": "white",
            "linecolor": "white",
            "ticks": ""
           }
          },
          "title": {
           "x": 0.05
          },
          "xaxis": {
           "automargin": true,
           "gridcolor": "white",
           "linecolor": "white",
           "ticks": "",
           "title": {
            "standoff": 15
           },
           "zerolinecolor": "white",
           "zerolinewidth": 2
          },
          "yaxis": {
           "automargin": true,
           "gridcolor": "white",
           "linecolor": "white",
           "ticks": "",
           "title": {
            "standoff": 15
           },
           "zerolinecolor": "white",
           "zerolinewidth": 2
          }
         }
        },
        "xaxis": {
         "anchor": "y",
         "domain": [
          0,
          1
         ],
         "title": {
          "text": "tick_sold"
         }
        },
        "yaxis": {
         "anchor": "x",
         "domain": [
          0,
          1
         ],
         "title": {
          "text": "count"
         }
        }
       }
      }
     },
     "metadata": {},
     "output_type": "display_data"
    },
    {
     "data": {
      "application/vnd.plotly.v1+json": {
       "config": {
        "plotlyServerURL": "https://plot.ly"
       },
       "data": [
        {
         "alignmentgroup": "True",
         "bingroup": "x",
         "hovertemplate": "tick_avail=%{x}<br>count=%{y}<extra></extra>",
         "legendgroup": "",
         "marker": {
          "color": "#636efa",
          "pattern": {
           "shape": ""
          }
         },
         "name": "",
         "offsetgroup": "",
         "orientation": "v",
         "showlegend": false,
         "type": "histogram",
         "x": [
          7463,
          7822,
          13764,
          39002.093366093366,
          8751,
          11072,
          9436,
          6789,
          6789,
          10798,
          12061,
          13226,
          8970,
          13052,
          13648,
          8311,
          10174,
          13042,
          39002.093366093366,
          17619,
          14641,
          39002.093366093366,
          39002.093366093366,
          39002.093366093366,
          44500,
          39002.093366093366,
          11369,
          39002.093366093366,
          39002.093366093366,
          39002.093366093366,
          39002.093366093366,
          39002.093366093366,
          39002.093366093366,
          39002.093366093366,
          39002.093366093366,
          39002.093366093366,
          39002.093366093366,
          39002.093366093366,
          13597,
          7507,
          39002.093366093366,
          39002.093366093366,
          39002.093366093366,
          39002.093366093366,
          39002.093366093366,
          39002.093366093366,
          39002.093366093366,
          39002.093366093366,
          14269,
          13794,
          13978,
          39002.093366093366,
          39002.093366093366,
          39002.093366093366,
          15524,
          13373,
          26265,
          26265,
          13563,
          39002.093366093366,
          39002.093366093366,
          11334,
          27030,
          27030,
          7180,
          23493,
          23493,
          9066,
          39002.093366093366,
          13861,
          11101,
          13453,
          11928,
          14022,
          8423,
          30360,
          30360,
          11858,
          29125,
          29125,
          11208,
          11795,
          11208,
          13781,
          25991,
          25991,
          11706,
          12744,
          27518,
          27518,
          17966,
          13429,
          13895,
          13264,
          14914,
          10641,
          26065,
          26065,
          25831,
          25831,
          13376,
          30458,
          30458,
          23493,
          23493,
          39002.093366093366,
          27290,
          27290,
          56868,
          39002.093366093366,
          35000,
          8964,
          4725,
          6953,
          15955,
          15955,
          12667,
          12573,
          4622,
          4799,
          8650,
          6082,
          5585,
          8500,
          3962,
          9339,
          8058,
          8681,
          11622,
          15681,
          26992,
          26992,
          13149,
          24077,
          24077,
          12262,
          14817,
          13748,
          47992,
          28977,
          28977,
          52009,
          14487,
          12436,
          110800,
          110800,
          14789,
          13754,
          13439,
          30144,
          30144,
          51487,
          51487,
          51487,
          51487,
          11012,
          13329,
          14873,
          29303,
          29303,
          51395,
          26112,
          26112,
          27965,
          27965,
          25336,
          25336,
          54900,
          54900,
          54900,
          54900,
          24827,
          24827,
          12432,
          13610,
          19904,
          26030,
          26030,
          28178,
          28178,
          11510,
          12546,
          48562,
          12908,
          13720,
          26244,
          26244,
          13566,
          12943,
          55451,
          14848,
          10419,
          11592,
          10834,
          27029,
          27029,
          13851,
          11999,
          16237,
          12604,
          42095,
          11785,
          13695,
          12153,
          14272,
          13567,
          12807,
          26652,
          26652,
          15142,
          8589,
          19870,
          19870,
          27900,
          27900,
          33793,
          33793,
          33793,
          32585,
          32585,
          32585,
          27877,
          27877,
          28582,
          28582,
          14686,
          12490,
          38065,
          38065,
          38065,
          12808,
          25617,
          25617,
          25471,
          25471,
          14080,
          15336,
          13573,
          17003,
          48265,
          15135,
          14267,
          27619,
          27619,
          12467,
          11916,
          13974,
          53020,
          26705,
          26705,
          14007,
          13489,
          87627,
          87627,
          33061,
          25663,
          25663,
          41142,
          56047,
          52399,
          101277,
          101277,
          110712,
          110712,
          13368,
          26412,
          26412,
          12231,
          10949,
          50809,
          10872,
          55829,
          55829,
          55829,
          55829,
          12795,
          13952,
          20348,
          21073,
          28920,
          28920,
          13650,
          13941,
          12689,
          41292,
          41292,
          41292,
          30799,
          30799,
          30799,
          40930,
          38907,
          21827,
          47257,
          74740,
          74740,
          74740,
          10350,
          39002.093366093366,
          39002.093366093366,
          12793,
          20046,
          8130,
          9775,
          16344,
          7525,
          39002.093366093366,
          100320,
          100320,
          39002.093366093366,
          12459,
          50227,
          50703,
          16242,
          15503,
          54801,
          15024,
          13886,
          101052,
          101052,
          29020,
          29020,
          11166,
          11021,
          14773,
          39002.093366093366,
          25188,
          25188,
          13480,
          14770,
          110105,
          110105,
          85014,
          85014,
          110109,
          110109,
          116849,
          116849,
          41463,
          26534,
          26534,
          55711,
          102139,
          102139,
          26520,
          26520,
          70563,
          70563,
          70563,
          70563,
          70563,
          44710,
          14131,
          27126,
          27126,
          40122,
          45126,
          45126,
          45126,
          14010,
          29936,
          29936,
          27857,
          27857,
          28917,
          28917,
          29688,
          29688,
          99283,
          99283,
          13969,
          29622,
          29622,
          21067,
          62630,
          17084,
          15079,
          56046,
          14044,
          56987,
          17726,
          17726,
          37758,
          37758,
          37758,
          75980,
          46881,
          20090,
          20090,
          98136,
          98136,
          98136,
          59157,
          107550,
          107550,
          118084,
          118084,
          56021,
          57140,
          105208,
          105208,
          77258,
          77258,
          133034,
          133034,
          143427,
          143427,
          52138,
          62897,
          95672,
          95672,
          107378,
          107378,
          51323,
          165654,
          165654,
          165654,
          174764,
          174764,
          174764,
          100310,
          100310,
          56445,
          116746,
          116746,
          55909,
          47818,
          56112,
          49464,
          98774,
          98774,
          58611,
          55729,
          47831,
          53172,
          53800,
          105002,
          105002,
          50891,
          63027,
          72805,
          43907,
          35749,
          100109,
          100109
         ],
         "xaxis": "x",
         "yaxis": "y"
        }
       ],
       "layout": {
        "barmode": "relative",
        "legend": {
         "tracegroupgap": 0
        },
        "margin": {
         "t": 60
        },
        "template": {
         "data": {
          "bar": [
           {
            "error_x": {
             "color": "#2a3f5f"
            },
            "error_y": {
             "color": "#2a3f5f"
            },
            "marker": {
             "line": {
              "color": "#E5ECF6",
              "width": 0.5
             },
             "pattern": {
              "fillmode": "overlay",
              "size": 10,
              "solidity": 0.2
             }
            },
            "type": "bar"
           }
          ],
          "barpolar": [
           {
            "marker": {
             "line": {
              "color": "#E5ECF6",
              "width": 0.5
             },
             "pattern": {
              "fillmode": "overlay",
              "size": 10,
              "solidity": 0.2
             }
            },
            "type": "barpolar"
           }
          ],
          "carpet": [
           {
            "aaxis": {
             "endlinecolor": "#2a3f5f",
             "gridcolor": "white",
             "linecolor": "white",
             "minorgridcolor": "white",
             "startlinecolor": "#2a3f5f"
            },
            "baxis": {
             "endlinecolor": "#2a3f5f",
             "gridcolor": "white",
             "linecolor": "white",
             "minorgridcolor": "white",
             "startlinecolor": "#2a3f5f"
            },
            "type": "carpet"
           }
          ],
          "choropleth": [
           {
            "colorbar": {
             "outlinewidth": 0,
             "ticks": ""
            },
            "type": "choropleth"
           }
          ],
          "contour": [
           {
            "colorbar": {
             "outlinewidth": 0,
             "ticks": ""
            },
            "colorscale": [
             [
              0,
              "#0d0887"
             ],
             [
              0.1111111111111111,
              "#46039f"
             ],
             [
              0.2222222222222222,
              "#7201a8"
             ],
             [
              0.3333333333333333,
              "#9c179e"
             ],
             [
              0.4444444444444444,
              "#bd3786"
             ],
             [
              0.5555555555555556,
              "#d8576b"
             ],
             [
              0.6666666666666666,
              "#ed7953"
             ],
             [
              0.7777777777777778,
              "#fb9f3a"
             ],
             [
              0.8888888888888888,
              "#fdca26"
             ],
             [
              1,
              "#f0f921"
             ]
            ],
            "type": "contour"
           }
          ],
          "contourcarpet": [
           {
            "colorbar": {
             "outlinewidth": 0,
             "ticks": ""
            },
            "type": "contourcarpet"
           }
          ],
          "heatmap": [
           {
            "colorbar": {
             "outlinewidth": 0,
             "ticks": ""
            },
            "colorscale": [
             [
              0,
              "#0d0887"
             ],
             [
              0.1111111111111111,
              "#46039f"
             ],
             [
              0.2222222222222222,
              "#7201a8"
             ],
             [
              0.3333333333333333,
              "#9c179e"
             ],
             [
              0.4444444444444444,
              "#bd3786"
             ],
             [
              0.5555555555555556,
              "#d8576b"
             ],
             [
              0.6666666666666666,
              "#ed7953"
             ],
             [
              0.7777777777777778,
              "#fb9f3a"
             ],
             [
              0.8888888888888888,
              "#fdca26"
             ],
             [
              1,
              "#f0f921"
             ]
            ],
            "type": "heatmap"
           }
          ],
          "heatmapgl": [
           {
            "colorbar": {
             "outlinewidth": 0,
             "ticks": ""
            },
            "colorscale": [
             [
              0,
              "#0d0887"
             ],
             [
              0.1111111111111111,
              "#46039f"
             ],
             [
              0.2222222222222222,
              "#7201a8"
             ],
             [
              0.3333333333333333,
              "#9c179e"
             ],
             [
              0.4444444444444444,
              "#bd3786"
             ],
             [
              0.5555555555555556,
              "#d8576b"
             ],
             [
              0.6666666666666666,
              "#ed7953"
             ],
             [
              0.7777777777777778,
              "#fb9f3a"
             ],
             [
              0.8888888888888888,
              "#fdca26"
             ],
             [
              1,
              "#f0f921"
             ]
            ],
            "type": "heatmapgl"
           }
          ],
          "histogram": [
           {
            "marker": {
             "pattern": {
              "fillmode": "overlay",
              "size": 10,
              "solidity": 0.2
             }
            },
            "type": "histogram"
           }
          ],
          "histogram2d": [
           {
            "colorbar": {
             "outlinewidth": 0,
             "ticks": ""
            },
            "colorscale": [
             [
              0,
              "#0d0887"
             ],
             [
              0.1111111111111111,
              "#46039f"
             ],
             [
              0.2222222222222222,
              "#7201a8"
             ],
             [
              0.3333333333333333,
              "#9c179e"
             ],
             [
              0.4444444444444444,
              "#bd3786"
             ],
             [
              0.5555555555555556,
              "#d8576b"
             ],
             [
              0.6666666666666666,
              "#ed7953"
             ],
             [
              0.7777777777777778,
              "#fb9f3a"
             ],
             [
              0.8888888888888888,
              "#fdca26"
             ],
             [
              1,
              "#f0f921"
             ]
            ],
            "type": "histogram2d"
           }
          ],
          "histogram2dcontour": [
           {
            "colorbar": {
             "outlinewidth": 0,
             "ticks": ""
            },
            "colorscale": [
             [
              0,
              "#0d0887"
             ],
             [
              0.1111111111111111,
              "#46039f"
             ],
             [
              0.2222222222222222,
              "#7201a8"
             ],
             [
              0.3333333333333333,
              "#9c179e"
             ],
             [
              0.4444444444444444,
              "#bd3786"
             ],
             [
              0.5555555555555556,
              "#d8576b"
             ],
             [
              0.6666666666666666,
              "#ed7953"
             ],
             [
              0.7777777777777778,
              "#fb9f3a"
             ],
             [
              0.8888888888888888,
              "#fdca26"
             ],
             [
              1,
              "#f0f921"
             ]
            ],
            "type": "histogram2dcontour"
           }
          ],
          "mesh3d": [
           {
            "colorbar": {
             "outlinewidth": 0,
             "ticks": ""
            },
            "type": "mesh3d"
           }
          ],
          "parcoords": [
           {
            "line": {
             "colorbar": {
              "outlinewidth": 0,
              "ticks": ""
             }
            },
            "type": "parcoords"
           }
          ],
          "pie": [
           {
            "automargin": true,
            "type": "pie"
           }
          ],
          "scatter": [
           {
            "fillpattern": {
             "fillmode": "overlay",
             "size": 10,
             "solidity": 0.2
            },
            "type": "scatter"
           }
          ],
          "scatter3d": [
           {
            "line": {
             "colorbar": {
              "outlinewidth": 0,
              "ticks": ""
             }
            },
            "marker": {
             "colorbar": {
              "outlinewidth": 0,
              "ticks": ""
             }
            },
            "type": "scatter3d"
           }
          ],
          "scattercarpet": [
           {
            "marker": {
             "colorbar": {
              "outlinewidth": 0,
              "ticks": ""
             }
            },
            "type": "scattercarpet"
           }
          ],
          "scattergeo": [
           {
            "marker": {
             "colorbar": {
              "outlinewidth": 0,
              "ticks": ""
             }
            },
            "type": "scattergeo"
           }
          ],
          "scattergl": [
           {
            "marker": {
             "colorbar": {
              "outlinewidth": 0,
              "ticks": ""
             }
            },
            "type": "scattergl"
           }
          ],
          "scattermapbox": [
           {
            "marker": {
             "colorbar": {
              "outlinewidth": 0,
              "ticks": ""
             }
            },
            "type": "scattermapbox"
           }
          ],
          "scatterpolar": [
           {
            "marker": {
             "colorbar": {
              "outlinewidth": 0,
              "ticks": ""
             }
            },
            "type": "scatterpolar"
           }
          ],
          "scatterpolargl": [
           {
            "marker": {
             "colorbar": {
              "outlinewidth": 0,
              "ticks": ""
             }
            },
            "type": "scatterpolargl"
           }
          ],
          "scatterternary": [
           {
            "marker": {
             "colorbar": {
              "outlinewidth": 0,
              "ticks": ""
             }
            },
            "type": "scatterternary"
           }
          ],
          "surface": [
           {
            "colorbar": {
             "outlinewidth": 0,
             "ticks": ""
            },
            "colorscale": [
             [
              0,
              "#0d0887"
             ],
             [
              0.1111111111111111,
              "#46039f"
             ],
             [
              0.2222222222222222,
              "#7201a8"
             ],
             [
              0.3333333333333333,
              "#9c179e"
             ],
             [
              0.4444444444444444,
              "#bd3786"
             ],
             [
              0.5555555555555556,
              "#d8576b"
             ],
             [
              0.6666666666666666,
              "#ed7953"
             ],
             [
              0.7777777777777778,
              "#fb9f3a"
             ],
             [
              0.8888888888888888,
              "#fdca26"
             ],
             [
              1,
              "#f0f921"
             ]
            ],
            "type": "surface"
           }
          ],
          "table": [
           {
            "cells": {
             "fill": {
              "color": "#EBF0F8"
             },
             "line": {
              "color": "white"
             }
            },
            "header": {
             "fill": {
              "color": "#C8D4E3"
             },
             "line": {
              "color": "white"
             }
            },
            "type": "table"
           }
          ]
         },
         "layout": {
          "annotationdefaults": {
           "arrowcolor": "#2a3f5f",
           "arrowhead": 0,
           "arrowwidth": 1
          },
          "autotypenumbers": "strict",
          "coloraxis": {
           "colorbar": {
            "outlinewidth": 0,
            "ticks": ""
           }
          },
          "colorscale": {
           "diverging": [
            [
             0,
             "#8e0152"
            ],
            [
             0.1,
             "#c51b7d"
            ],
            [
             0.2,
             "#de77ae"
            ],
            [
             0.3,
             "#f1b6da"
            ],
            [
             0.4,
             "#fde0ef"
            ],
            [
             0.5,
             "#f7f7f7"
            ],
            [
             0.6,
             "#e6f5d0"
            ],
            [
             0.7,
             "#b8e186"
            ],
            [
             0.8,
             "#7fbc41"
            ],
            [
             0.9,
             "#4d9221"
            ],
            [
             1,
             "#276419"
            ]
           ],
           "sequential": [
            [
             0,
             "#0d0887"
            ],
            [
             0.1111111111111111,
             "#46039f"
            ],
            [
             0.2222222222222222,
             "#7201a8"
            ],
            [
             0.3333333333333333,
             "#9c179e"
            ],
            [
             0.4444444444444444,
             "#bd3786"
            ],
            [
             0.5555555555555556,
             "#d8576b"
            ],
            [
             0.6666666666666666,
             "#ed7953"
            ],
            [
             0.7777777777777778,
             "#fb9f3a"
            ],
            [
             0.8888888888888888,
             "#fdca26"
            ],
            [
             1,
             "#f0f921"
            ]
           ],
           "sequentialminus": [
            [
             0,
             "#0d0887"
            ],
            [
             0.1111111111111111,
             "#46039f"
            ],
            [
             0.2222222222222222,
             "#7201a8"
            ],
            [
             0.3333333333333333,
             "#9c179e"
            ],
            [
             0.4444444444444444,
             "#bd3786"
            ],
            [
             0.5555555555555556,
             "#d8576b"
            ],
            [
             0.6666666666666666,
             "#ed7953"
            ],
            [
             0.7777777777777778,
             "#fb9f3a"
            ],
            [
             0.8888888888888888,
             "#fdca26"
            ],
            [
             1,
             "#f0f921"
            ]
           ]
          },
          "colorway": [
           "#636efa",
           "#EF553B",
           "#00cc96",
           "#ab63fa",
           "#FFA15A",
           "#19d3f3",
           "#FF6692",
           "#B6E880",
           "#FF97FF",
           "#FECB52"
          ],
          "font": {
           "color": "#2a3f5f"
          },
          "geo": {
           "bgcolor": "white",
           "lakecolor": "white",
           "landcolor": "#E5ECF6",
           "showlakes": true,
           "showland": true,
           "subunitcolor": "white"
          },
          "hoverlabel": {
           "align": "left"
          },
          "hovermode": "closest",
          "mapbox": {
           "style": "light"
          },
          "paper_bgcolor": "white",
          "plot_bgcolor": "#E5ECF6",
          "polar": {
           "angularaxis": {
            "gridcolor": "white",
            "linecolor": "white",
            "ticks": ""
           },
           "bgcolor": "#E5ECF6",
           "radialaxis": {
            "gridcolor": "white",
            "linecolor": "white",
            "ticks": ""
           }
          },
          "scene": {
           "xaxis": {
            "backgroundcolor": "#E5ECF6",
            "gridcolor": "white",
            "gridwidth": 2,
            "linecolor": "white",
            "showbackground": true,
            "ticks": "",
            "zerolinecolor": "white"
           },
           "yaxis": {
            "backgroundcolor": "#E5ECF6",
            "gridcolor": "white",
            "gridwidth": 2,
            "linecolor": "white",
            "showbackground": true,
            "ticks": "",
            "zerolinecolor": "white"
           },
           "zaxis": {
            "backgroundcolor": "#E5ECF6",
            "gridcolor": "white",
            "gridwidth": 2,
            "linecolor": "white",
            "showbackground": true,
            "ticks": "",
            "zerolinecolor": "white"
           }
          },
          "shapedefaults": {
           "line": {
            "color": "#2a3f5f"
           }
          },
          "ternary": {
           "aaxis": {
            "gridcolor": "white",
            "linecolor": "white",
            "ticks": ""
           },
           "baxis": {
            "gridcolor": "white",
            "linecolor": "white",
            "ticks": ""
           },
           "bgcolor": "#E5ECF6",
           "caxis": {
            "gridcolor": "white",
            "linecolor": "white",
            "ticks": ""
           }
          },
          "title": {
           "x": 0.05
          },
          "xaxis": {
           "automargin": true,
           "gridcolor": "white",
           "linecolor": "white",
           "ticks": "",
           "title": {
            "standoff": 15
           },
           "zerolinecolor": "white",
           "zerolinewidth": 2
          },
          "yaxis": {
           "automargin": true,
           "gridcolor": "white",
           "linecolor": "white",
           "ticks": "",
           "title": {
            "standoff": 15
           },
           "zerolinecolor": "white",
           "zerolinewidth": 2
          }
         }
        },
        "xaxis": {
         "anchor": "y",
         "domain": [
          0,
          1
         ],
         "title": {
          "text": "tick_avail"
         }
        },
        "yaxis": {
         "anchor": "x",
         "domain": [
          0,
          1
         ],
         "title": {
          "text": "count"
         }
        }
       }
      }
     },
     "metadata": {},
     "output_type": "display_data"
    }
   ],
   "source": [
    "for col in df.columns:\n",
    "    if df[col].dtype != '0':\n",
    "        display(px.histogram(df,col))"
   ]
  },
  {
   "cell_type": "code",
   "execution_count": 56,
   "metadata": {},
   "outputs": [],
   "source": [
    "df.to_csv('new_clean_taylor.csv', encoding='cp1252')\n",
    "\n"
   ]
  },
  {
   "cell_type": "code",
   "execution_count": null,
   "metadata": {},
   "outputs": [],
   "source": []
  }
 ],
 "metadata": {
  "kernelspec": {
   "display_name": "Python 3",
   "language": "python",
   "name": "python3"
  },
  "language_info": {
   "codemirror_mode": {
    "name": "ipython",
    "version": 3
   },
   "file_extension": ".py",
   "mimetype": "text/x-python",
   "name": "python",
   "nbconvert_exporter": "python",
   "pygments_lexer": "ipython3",
   "version": "3.11.5"
  },
  "orig_nbformat": 4
 },
 "nbformat": 4,
 "nbformat_minor": 2
}
